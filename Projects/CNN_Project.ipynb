{
 "cells": [
  {
   "cell_type": "code",
   "execution_count": 14,
   "metadata": {
    "colab": {
     "base_uri": "https://localhost:8080/"
    },
    "id": "dyAvAsfq5OVZ",
    "outputId": "0af81ac3-bc84-4223-a369-05ae6a7286ec"
   },
   "outputs": [
    {
     "name": "stdout",
     "output_type": "stream",
     "text": [
      "Drive already mounted at /content/drive; to attempt to forcibly remount, call drive.mount(\"/content/drive\", force_remount=True).\n"
     ]
    }
   ],
   "source": [
    "#Mounting Google Drive Locally\n",
    "\n",
    "from google.colab import drive\n",
    "drive.mount('/content/drive')"
   ]
  },
  {
   "cell_type": "code",
   "execution_count": 15,
   "metadata": {
    "id": "gzAMmDNqbgLS"
   },
   "outputs": [],
   "source": [
    "#set google drive path from personal google drive\n",
    "import os\n",
    "os.chdir('/content/drive/MyDrive/Colab Notebooks')"
   ]
  },
  {
   "cell_type": "markdown",
   "metadata": {
    "id": "7fjAWh20pMlH"
   },
   "source": [
    "**Importing the libraries**"
   ]
  },
  {
   "cell_type": "code",
   "execution_count": 16,
   "metadata": {
    "id": "GaHTw0BJ5cGL"
   },
   "outputs": [],
   "source": [
    "import tensorflow as tf\n",
    "from keras.preprocessing.image import ImageDataGenerator"
   ]
  },
  {
   "cell_type": "code",
   "execution_count": 17,
   "metadata": {
    "colab": {
     "base_uri": "https://localhost:8080/",
     "height": 35
    },
    "id": "EmhJ7ANq5cJa",
    "outputId": "887fcb56-9f25-44b5-be48-f593b9adc12e"
   },
   "outputs": [
    {
     "data": {
      "application/vnd.google.colaboratory.intrinsic+json": {
       "type": "string"
      },
      "text/plain": [
       "'2.4.1'"
      ]
     },
     "execution_count": 17,
     "metadata": {
      "tags": []
     },
     "output_type": "execute_result"
    }
   ],
   "source": [
    "#Specifying Tensorflow version\n",
    "\n",
    "tf.__version__"
   ]
  },
  {
   "cell_type": "code",
   "execution_count": 18,
   "metadata": {
    "colab": {
     "base_uri": "https://localhost:8080/",
     "height": 35
    },
    "id": "gOm_8Co65cMB",
    "outputId": "cc40c1d9-399c-44ea-babe-ca04be0c19e7"
   },
   "outputs": [
    {
     "data": {
      "application/vnd.google.colaboratory.intrinsic+json": {
       "type": "string"
      },
      "text/plain": [
       "'/device:GPU:0'"
      ]
     },
     "execution_count": 18,
     "metadata": {
      "tags": []
     },
     "output_type": "execute_result"
    }
   ],
   "source": [
    "#testing gpu\n",
    "\n",
    "import tensorflow as tf\n",
    "tf.test.gpu_device_name()\n",
    "\n",
    "#note:Without turning on GPU on google colab, training CNN will take forever. \n",
    "#If your personal computer doesn't have gpu, is best to use google colab"
   ]
  },
  {
   "cell_type": "markdown",
   "metadata": {
    "id": "Ot82hmrFcM1c"
   },
   "source": [
    "\n",
    "**Data Preprocessing**"
   ]
  },
  {
   "cell_type": "code",
   "execution_count": 19,
   "metadata": {
    "colab": {
     "base_uri": "https://localhost:8080/"
    },
    "id": "qS5nfODH5cOi",
    "outputId": "2cdfcdc6-45f0-4a8a-9510-af9d82bd5e08"
   },
   "outputs": [
    {
     "name": "stdout",
     "output_type": "stream",
     "text": [
      "Found 4000 images belonging to 2 classes.\n"
     ]
    }
   ],
   "source": [
    "#Inserting Training data, a bunch of pictures of dogs.\n",
    "train_datagen = ImageDataGenerator(rescale = 1./255,\n",
    "                                   shear_range = 0.2,\n",
    "                                   zoom_range = 0.2,\n",
    "                                   horizontal_flip = True)\n",
    "training_set = train_datagen.flow_from_directory('/content/drive/MyDrive/Colab Notebooks/training_set',\n",
    "                                                 target_size = (64, 64),\n",
    "                                                 batch_size = 32,\n",
    "                                                 class_mode = 'binary')"
   ]
  },
  {
   "cell_type": "code",
   "execution_count": 20,
   "metadata": {
    "colab": {
     "base_uri": "https://localhost:8080/"
    },
    "id": "uGiKuWY25cRj",
    "outputId": "4239a99e-a584-459d-98b9-9db376ca3b77"
   },
   "outputs": [
    {
     "name": "stdout",
     "output_type": "stream",
     "text": [
      "Found 1000 images belonging to 2 classes.\n"
     ]
    }
   ],
   "source": [
    "#the pretesting data, more pictures of dogs\n",
    "test_datagen = ImageDataGenerator(rescale = 1./255)\n",
    "test_set = test_datagen.flow_from_directory('/content/drive/MyDrive/Colab Notebooks/test_set',\n",
    "                                            target_size = (64, 64),\n",
    "                                            batch_size = 32,\n",
    "                                            class_mode = 'binary')"
   ]
  },
  {
   "cell_type": "markdown",
   "metadata": {
    "id": "_BDp1vxpc-k-"
   },
   "source": [
    "# **Building CNN**"
   ]
  },
  {
   "cell_type": "code",
   "execution_count": 21,
   "metadata": {
    "id": "n2ff_7MS5cUR"
   },
   "outputs": [],
   "source": [
    "#inititialising CNN\n",
    "cnn = tf.keras.models.Sequential()"
   ]
  },
  {
   "cell_type": "code",
   "execution_count": null,
   "metadata": {
    "id": "11xNH2H05cZQ"
   },
   "outputs": [],
   "source": [
    "#Convolution using 3x3 matrix and relu activation\n",
    "cnn.add(tf.keras.layers.Conv2D(filters=32, kernel_size=3, activation='relu', input_shape=[64, 64, 3]))\n",
    "\n",
    "#Pooling with 2x2 kernel using 2 step stride\n",
    "cnn.add(tf.keras.layers.MaxPool2D(pool_size=2, strides=2))\n",
    "\n",
    "#adding second layer of convolution\n",
    "cnn.add(tf.keras.layers.Conv2D(filters=32, kernel_size=3, activation='relu'))\n",
    "\n",
    "#adding a second layer of pooling\n",
    "cnn.add(tf.keras.layers.MaxPool2D(pool_size=2, strides=2))\n",
    "\n",
    "#finish of with flattening (vectorising matreces)\n",
    "cnn.add(tf.keras.layers.Flatten())"
   ]
  },
  {
   "cell_type": "code",
   "execution_count": 23,
   "metadata": {
    "colab": {
     "base_uri": "https://localhost:8080/"
    },
    "id": "HfaQyBwFeFla",
    "outputId": "c88d45cd-ab47-435d-a412-1f5ff2df5198"
   },
   "outputs": [
    {
     "name": "stdout",
     "output_type": "stream",
     "text": [
      "Model: \"sequential_1\"\n",
      "_________________________________________________________________\n",
      "Layer (type)                 Output Shape              Param #   \n",
      "=================================================================\n",
      "conv2d_4 (Conv2D)            (None, 62, 62, 32)        896       \n",
      "_________________________________________________________________\n",
      "max_pooling2d_2 (MaxPooling2 (None, 31, 31, 32)        0         \n",
      "_________________________________________________________________\n",
      "conv2d_5 (Conv2D)            (None, 29, 29, 32)        9248      \n",
      "_________________________________________________________________\n",
      "max_pooling2d_3 (MaxPooling2 (None, 14, 14, 32)        0         \n",
      "_________________________________________________________________\n",
      "flatten_1 (Flatten)          (None, 6272)              0         \n",
      "_________________________________________________________________\n",
      "dense (Dense)                (None, 128)               802944    \n",
      "_________________________________________________________________\n",
      "dense_1 (Dense)              (None, 1)                 129       \n",
      "=================================================================\n",
      "Total params: 813,217\n",
      "Trainable params: 813,217\n",
      "Non-trainable params: 0\n",
      "_________________________________________________________________\n"
     ]
    }
   ],
   "source": [
    "#Full Conection\n",
    "cnn.add(tf.keras.layers.Dense(units=128, activation='relu'))\n",
    "\n",
    "#Output layer using sigmoid as activation, could use softmax\n",
    "cnn.add(tf.keras.layers.Dense(units=1, activation='sigmoid'))\n",
    "\n",
    "#model summary\n",
    "\n",
    "cnn.summary()"
   ]
  },
  {
   "cell_type": "markdown",
   "metadata": {
    "id": "XLJ1BouKg0oU"
   },
   "source": [
    "## **Training CNN**"
   ]
  },
  {
   "cell_type": "code",
   "execution_count": 24,
   "metadata": {
    "id": "iY6l55Rpin4T"
   },
   "outputs": [],
   "source": [
    "#Compiling CNN\n",
    "cnn.compile(optimizer = 'adam', loss = 'binary_crossentropy', metrics = ['accuracy'])"
   ]
  },
  {
   "cell_type": "code",
   "execution_count": 25,
   "metadata": {
    "colab": {
     "base_uri": "https://localhost:8080/"
    },
    "id": "4Jsg5M9HeFor",
    "outputId": "4dc8d502-9f87-41dc-a457-8ae37b210a58"
   },
   "outputs": [
    {
     "name": "stdout",
     "output_type": "stream",
     "text": [
      "Epoch 1/30\n",
      "125/125 [==============================] - 2946s 24s/step - loss: 0.7259 - accuracy: 0.5088 - val_loss: 0.6774 - val_accuracy: 0.5580\n",
      "Epoch 2/30\n",
      "125/125 [==============================] - 20s 160ms/step - loss: 0.6755 - accuracy: 0.5846 - val_loss: 0.6529 - val_accuracy: 0.6330\n",
      "Epoch 3/30\n",
      "125/125 [==============================] - 20s 158ms/step - loss: 0.6482 - accuracy: 0.6363 - val_loss: 0.6291 - val_accuracy: 0.6670\n",
      "Epoch 4/30\n",
      "125/125 [==============================] - 20s 161ms/step - loss: 0.6288 - accuracy: 0.6564 - val_loss: 0.6838 - val_accuracy: 0.5810\n",
      "Epoch 5/30\n",
      "125/125 [==============================] - 20s 159ms/step - loss: 0.6046 - accuracy: 0.6725 - val_loss: 0.6008 - val_accuracy: 0.7160\n",
      "Epoch 6/30\n",
      "125/125 [==============================] - 20s 161ms/step - loss: 0.5848 - accuracy: 0.7004 - val_loss: 0.5707 - val_accuracy: 0.7180\n",
      "Epoch 7/30\n",
      "125/125 [==============================] - 20s 160ms/step - loss: 0.5646 - accuracy: 0.7103 - val_loss: 0.5853 - val_accuracy: 0.6920\n",
      "Epoch 8/30\n",
      "125/125 [==============================] - 20s 158ms/step - loss: 0.5362 - accuracy: 0.7263 - val_loss: 0.5522 - val_accuracy: 0.7450\n",
      "Epoch 9/30\n",
      "125/125 [==============================] - 20s 160ms/step - loss: 0.5364 - accuracy: 0.7266 - val_loss: 0.5443 - val_accuracy: 0.7360\n",
      "Epoch 10/30\n",
      "125/125 [==============================] - 20s 159ms/step - loss: 0.4874 - accuracy: 0.7628 - val_loss: 0.5801 - val_accuracy: 0.7260\n",
      "Epoch 11/30\n",
      "125/125 [==============================] - 20s 162ms/step - loss: 0.5007 - accuracy: 0.7557 - val_loss: 0.5508 - val_accuracy: 0.7360\n",
      "Epoch 12/30\n",
      "125/125 [==============================] - 20s 161ms/step - loss: 0.4851 - accuracy: 0.7606 - val_loss: 0.5307 - val_accuracy: 0.7490\n",
      "Epoch 13/30\n",
      "125/125 [==============================] - 20s 160ms/step - loss: 0.4606 - accuracy: 0.7884 - val_loss: 0.5116 - val_accuracy: 0.7770\n",
      "Epoch 14/30\n",
      "125/125 [==============================] - 20s 159ms/step - loss: 0.4290 - accuracy: 0.7979 - val_loss: 0.5349 - val_accuracy: 0.7380\n",
      "Epoch 15/30\n",
      "125/125 [==============================] - 20s 157ms/step - loss: 0.4176 - accuracy: 0.8095 - val_loss: 0.5083 - val_accuracy: 0.7760\n",
      "Epoch 16/30\n",
      "125/125 [==============================] - 20s 160ms/step - loss: 0.3929 - accuracy: 0.8114 - val_loss: 0.5809 - val_accuracy: 0.7440\n",
      "Epoch 17/30\n",
      "125/125 [==============================] - 20s 160ms/step - loss: 0.3960 - accuracy: 0.8154 - val_loss: 0.5649 - val_accuracy: 0.7600\n",
      "Epoch 18/30\n",
      "125/125 [==============================] - 20s 157ms/step - loss: 0.3631 - accuracy: 0.8352 - val_loss: 0.5495 - val_accuracy: 0.7800\n",
      "Epoch 19/30\n",
      "125/125 [==============================] - 20s 161ms/step - loss: 0.3515 - accuracy: 0.8438 - val_loss: 0.5387 - val_accuracy: 0.7640\n",
      "Epoch 20/30\n",
      "125/125 [==============================] - 20s 158ms/step - loss: 0.3339 - accuracy: 0.8515 - val_loss: 0.5220 - val_accuracy: 0.7650\n",
      "Epoch 21/30\n",
      "125/125 [==============================] - 20s 160ms/step - loss: 0.3179 - accuracy: 0.8630 - val_loss: 0.6245 - val_accuracy: 0.7610\n",
      "Epoch 22/30\n",
      "125/125 [==============================] - 20s 158ms/step - loss: 0.2942 - accuracy: 0.8739 - val_loss: 0.6098 - val_accuracy: 0.7680\n",
      "Epoch 23/30\n",
      "125/125 [==============================] - 20s 158ms/step - loss: 0.2873 - accuracy: 0.8793 - val_loss: 0.5619 - val_accuracy: 0.7790\n",
      "Epoch 24/30\n",
      "125/125 [==============================] - 20s 159ms/step - loss: 0.2597 - accuracy: 0.8937 - val_loss: 0.5760 - val_accuracy: 0.7820\n",
      "Epoch 25/30\n",
      "125/125 [==============================] - 20s 160ms/step - loss: 0.2486 - accuracy: 0.8925 - val_loss: 0.6213 - val_accuracy: 0.7870\n",
      "Epoch 26/30\n",
      "125/125 [==============================] - 20s 162ms/step - loss: 0.2185 - accuracy: 0.9145 - val_loss: 0.6008 - val_accuracy: 0.7830\n",
      "Epoch 27/30\n",
      "125/125 [==============================] - 20s 161ms/step - loss: 0.2215 - accuracy: 0.9071 - val_loss: 0.6406 - val_accuracy: 0.7830\n",
      "Epoch 28/30\n",
      "125/125 [==============================] - 20s 158ms/step - loss: 0.1923 - accuracy: 0.9218 - val_loss: 0.6758 - val_accuracy: 0.7620\n",
      "Epoch 29/30\n",
      "125/125 [==============================] - 20s 160ms/step - loss: 0.1993 - accuracy: 0.9168 - val_loss: 0.6546 - val_accuracy: 0.7730\n",
      "Epoch 30/30\n",
      "125/125 [==============================] - 20s 157ms/step - loss: 0.1696 - accuracy: 0.9344 - val_loss: 0.6719 - val_accuracy: 0.7830\n"
     ]
    },
    {
     "data": {
      "text/plain": [
       "<tensorflow.python.keras.callbacks.History at 0x7f7e1240b410>"
      ]
     },
     "execution_count": 25,
     "metadata": {
      "tags": []
     },
     "output_type": "execute_result"
    }
   ],
   "source": [
    "## Training or optimizing weights and bias using chaine rule including gradient of activation \\\n",
    "#as a result of output accuracy up to 30 epochs from training set evalution of the test set\n",
    "cnn.fit(x = training_set, validation_data = test_set, epochs = 30)"
   ]
  },
  {
   "cell_type": "markdown",
   "metadata": {
    "id": "0zWMwbl0lTKA"
   },
   "source": []
  },
  {
   "cell_type": "code",
   "execution_count": 28,
   "metadata": {
    "id": "G5jV7zGLeFrp"
   },
   "outputs": [],
   "source": [
    "#Will test a picture of a cat\n",
    "\n",
    "import numpy as np\n",
    "from keras.preprocessing import image\n",
    "test_image = image.load_img('/content/drive/MyDrive/Copy of single_prediction/cat_or_dog_2.jpg', target_size = (64, 64))\n",
    "test_image = image.img_to_array(test_image)\n",
    "test_image = np.expand_dims(test_image, axis = 0)\n",
    "result = cnn.predict(test_image)\n",
    "training_set.class_indices\n",
    "if result[0][0] == 1:\n",
    "    prediction = 'dog'\n",
    "else:\n",
    "    prediction = 'cat'"
   ]
  },
  {
   "cell_type": "code",
   "execution_count": 29,
   "metadata": {
    "colab": {
     "base_uri": "https://localhost:8080/"
    },
    "id": "60X-S0mreF6e",
    "outputId": "958c1183-c5ee-457a-a229-84f6677019bc"
   },
   "outputs": [
    {
     "name": "stdout",
     "output_type": "stream",
     "text": [
      "cat\n"
     ]
    }
   ],
   "source": [
    "#at 92% accuracy, it should be able to predict what a cat is\n",
    "print(prediction)"
   ]
  }
 ],
 "metadata": {
  "accelerator": "GPU",
  "colab": {
   "name": "CNN_Project.ipynb",
   "provenance": []
  },
  "kernelspec": {
   "display_name": "Python 3",
   "language": "python",
   "name": "python3"
  },
  "language_info": {
   "codemirror_mode": {
    "name": "ipython",
    "version": 3
   },
   "file_extension": ".py",
   "mimetype": "text/x-python",
   "name": "python",
   "nbconvert_exporter": "python",
   "pygments_lexer": "ipython3",
   "version": "3.7.9"
  }
 },
 "nbformat": 4,
 "nbformat_minor": 1
}
