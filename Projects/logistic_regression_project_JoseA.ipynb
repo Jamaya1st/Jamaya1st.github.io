{
 "cells": [
  {
   "cell_type": "code",
   "execution_count": 1,
   "metadata": {},
   "outputs": [],
   "source": [
    "# Import the dependencies\n",
    "import matplotlib.pyplot as plt\n",
    "import seaborn as sns\n",
    "import pandas as pd\n",
    "import numpy as np\n",
    "\n",
    "from sklearn.linear_model import LogisticRegression\n",
    "from sklearn.metrics import classification_report\n",
    "from sklearn.metrics import accuracy_score\n",
    "from sklearn.model_selection import train_test_split\n",
    "from sklearn.metrics import mean_squared_error,mean_absolute_error, r2_score\n",
    "from sklearn.metrics import roc_curve, roc_auc_score\n",
    "\n",
    "#warnings\n",
    "import warnings\n",
    "warnings.filterwarnings(\"ignore\")"
   ]
  },
  {
   "cell_type": "markdown",
   "metadata": {},
   "source": [
    "## DATA LOADING"
   ]
  },
  {
   "cell_type": "markdown",
   "metadata": {},
   "source": [
    "## Load Data Set"
   ]
  },
  {
   "cell_type": "code",
   "execution_count": 2,
   "metadata": {},
   "outputs": [
    {
     "data": {
      "text/html": [
       "<div>\n",
       "<style scoped>\n",
       "    .dataframe tbody tr th:only-of-type {\n",
       "        vertical-align: middle;\n",
       "    }\n",
       "\n",
       "    .dataframe tbody tr th {\n",
       "        vertical-align: top;\n",
       "    }\n",
       "\n",
       "    .dataframe thead th {\n",
       "        text-align: right;\n",
       "    }\n",
       "</style>\n",
       "<table border=\"1\" class=\"dataframe\">\n",
       "  <thead>\n",
       "    <tr style=\"text-align: right;\">\n",
       "      <th></th>\n",
       "      <th>age</th>\n",
       "      <th>job</th>\n",
       "      <th>marital</th>\n",
       "      <th>education</th>\n",
       "      <th>default</th>\n",
       "      <th>housing</th>\n",
       "      <th>loan</th>\n",
       "      <th>contact</th>\n",
       "      <th>month</th>\n",
       "      <th>day_of_week</th>\n",
       "      <th>...</th>\n",
       "      <th>campaign</th>\n",
       "      <th>pdays</th>\n",
       "      <th>previous</th>\n",
       "      <th>poutcome</th>\n",
       "      <th>emp_var_rate</th>\n",
       "      <th>cons_price_idx</th>\n",
       "      <th>cons_conf_idx</th>\n",
       "      <th>euribor3m</th>\n",
       "      <th>nr_employed</th>\n",
       "      <th>y</th>\n",
       "    </tr>\n",
       "  </thead>\n",
       "  <tbody>\n",
       "    <tr>\n",
       "      <th>0</th>\n",
       "      <td>44</td>\n",
       "      <td>blue-collar</td>\n",
       "      <td>married</td>\n",
       "      <td>basic.4y</td>\n",
       "      <td>unknown</td>\n",
       "      <td>yes</td>\n",
       "      <td>no</td>\n",
       "      <td>cellular</td>\n",
       "      <td>aug</td>\n",
       "      <td>thu</td>\n",
       "      <td>...</td>\n",
       "      <td>1</td>\n",
       "      <td>999.0</td>\n",
       "      <td>0</td>\n",
       "      <td>nonexistent</td>\n",
       "      <td>1.4</td>\n",
       "      <td>93.444</td>\n",
       "      <td>-36.1</td>\n",
       "      <td>4.963</td>\n",
       "      <td>5228.1</td>\n",
       "      <td>0</td>\n",
       "    </tr>\n",
       "    <tr>\n",
       "      <th>1</th>\n",
       "      <td>53</td>\n",
       "      <td>technician</td>\n",
       "      <td>married</td>\n",
       "      <td>unknown</td>\n",
       "      <td>no</td>\n",
       "      <td>no</td>\n",
       "      <td>no</td>\n",
       "      <td>cellular</td>\n",
       "      <td>nov</td>\n",
       "      <td>fri</td>\n",
       "      <td>...</td>\n",
       "      <td>1</td>\n",
       "      <td>999.0</td>\n",
       "      <td>0</td>\n",
       "      <td>nonexistent</td>\n",
       "      <td>-0.1</td>\n",
       "      <td>93.200</td>\n",
       "      <td>-42.0</td>\n",
       "      <td>4.021</td>\n",
       "      <td>5195.8</td>\n",
       "      <td>0</td>\n",
       "    </tr>\n",
       "    <tr>\n",
       "      <th>2</th>\n",
       "      <td>28</td>\n",
       "      <td>management</td>\n",
       "      <td>single</td>\n",
       "      <td>university.degree</td>\n",
       "      <td>no</td>\n",
       "      <td>yes</td>\n",
       "      <td>no</td>\n",
       "      <td>cellular</td>\n",
       "      <td>jun</td>\n",
       "      <td>thu</td>\n",
       "      <td>...</td>\n",
       "      <td>3</td>\n",
       "      <td>6.0</td>\n",
       "      <td>2</td>\n",
       "      <td>success</td>\n",
       "      <td>-1.7</td>\n",
       "      <td>94.055</td>\n",
       "      <td>-39.8</td>\n",
       "      <td>0.729</td>\n",
       "      <td>4991.6</td>\n",
       "      <td>1</td>\n",
       "    </tr>\n",
       "    <tr>\n",
       "      <th>3</th>\n",
       "      <td>39</td>\n",
       "      <td>services</td>\n",
       "      <td>married</td>\n",
       "      <td>high.school</td>\n",
       "      <td>no</td>\n",
       "      <td>no</td>\n",
       "      <td>no</td>\n",
       "      <td>cellular</td>\n",
       "      <td>apr</td>\n",
       "      <td>fri</td>\n",
       "      <td>...</td>\n",
       "      <td>2</td>\n",
       "      <td>999.0</td>\n",
       "      <td>0</td>\n",
       "      <td>nonexistent</td>\n",
       "      <td>-1.8</td>\n",
       "      <td>93.075</td>\n",
       "      <td>-47.1</td>\n",
       "      <td>1.405</td>\n",
       "      <td>5099.1</td>\n",
       "      <td>0</td>\n",
       "    </tr>\n",
       "    <tr>\n",
       "      <th>4</th>\n",
       "      <td>55</td>\n",
       "      <td>retired</td>\n",
       "      <td>married</td>\n",
       "      <td>basic.4y</td>\n",
       "      <td>no</td>\n",
       "      <td>yes</td>\n",
       "      <td>no</td>\n",
       "      <td>cellular</td>\n",
       "      <td>aug</td>\n",
       "      <td>fri</td>\n",
       "      <td>...</td>\n",
       "      <td>1</td>\n",
       "      <td>3.0</td>\n",
       "      <td>1</td>\n",
       "      <td>success</td>\n",
       "      <td>-2.9</td>\n",
       "      <td>92.201</td>\n",
       "      <td>-31.4</td>\n",
       "      <td>0.869</td>\n",
       "      <td>5076.2</td>\n",
       "      <td>1</td>\n",
       "    </tr>\n",
       "  </tbody>\n",
       "</table>\n",
       "<p>5 rows × 21 columns</p>\n",
       "</div>"
      ],
      "text/plain": [
       "  age          job  marital          education  default housing loan  \\\n",
       "0  44  blue-collar  married           basic.4y  unknown     yes   no   \n",
       "1  53   technician  married            unknown       no      no   no   \n",
       "2  28   management   single  university.degree       no     yes   no   \n",
       "3  39     services  married        high.school       no      no   no   \n",
       "4  55      retired  married           basic.4y       no     yes   no   \n",
       "\n",
       "    contact month day_of_week  ...  campaign  pdays  previous     poutcome  \\\n",
       "0  cellular   aug         thu  ...         1  999.0         0  nonexistent   \n",
       "1  cellular   nov         fri  ...         1  999.0         0  nonexistent   \n",
       "2  cellular   jun         thu  ...         3    6.0         2      success   \n",
       "3  cellular   apr         fri  ...         2  999.0         0  nonexistent   \n",
       "4  cellular   aug         fri  ...         1    3.0         1      success   \n",
       "\n",
       "  emp_var_rate  cons_price_idx  cons_conf_idx  euribor3m  nr_employed  y  \n",
       "0          1.4          93.444          -36.1      4.963       5228.1  0  \n",
       "1         -0.1          93.200          -42.0      4.021       5195.8  0  \n",
       "2         -1.7          94.055          -39.8      0.729       4991.6  1  \n",
       "3         -1.8          93.075          -47.1      1.405       5099.1  0  \n",
       "4         -2.9          92.201          -31.4      0.869       5076.2  1  \n",
       "\n",
       "[5 rows x 21 columns]"
      ]
     },
     "execution_count": 2,
     "metadata": {},
     "output_type": "execute_result"
    }
   ],
   "source": [
    "df=pd.read_csv('portu_banking_final.csv')\n",
    "df.head()"
   ]
  },
  {
   "cell_type": "markdown",
   "metadata": {},
   "source": [
    "## Atribute Information"
   ]
  },
  {
   "cell_type": "raw",
   "metadata": {},
   "source": [
    "Bank client data:\n",
    "1 - age (numeric)\n",
    "2 - job : type of job (categorical: 'admin.','blue-collar','entrepreneur','housemaid','management','retired','self-employed','services','student','technician','unemployed','unknown')\n",
    "3 - marital : marital status (categorical: 'divorced','married','single','unknown'; note: 'divorced' means divorced or widowed)\n",
    "4 - education (categorical: basic.4y','basic.6y','basic.9y','high.school','illiterate','professional.course','university.degree','unknown')\n",
    "5 - default: has credit in default? (categorical: 'no','yes','unknown')\n",
    "6 - housing: has housing loan? (categorical: 'no','yes','unknown')\n",
    "7 - loan: has personal loan? (categorical: 'no','yes','unknown')\n",
    "\n",
    "Related with the last contact of the current campaign:\n",
    "8 - contact: contact communication type (categorical: 'cellular','telephone')\n",
    "9 - month: last contact month of year (categorical: 'jan', 'feb', 'mar', ..., 'nov', 'dec')\n",
    "10 - day_of_week: last contact day of the week (categorical: 'mon','tue','wed','thu','fri')\n",
    "11 - duration: last contact duration, in seconds (numeric). Important note: this attribute highly affects the output target (e.g., if duration=0 then y='no'). Yet, the duration is not known before a call is performed. Also, after the end of the call y is obviously known. Thus, this input should only be included for benchmark purposes and should be discarded if the intention is to have a realistic predictive model.\n",
    "\n",
    "other attributes:\n",
    "12 - campaign: number of contacts performed during this campaign and for this client (numeric, includes last contact)\n",
    "13 - pdays: number of days that passed by after the client was last contacted from a previous campaign (numeric; 999 means \n",
    "client was not previously contacted)\n",
    "14 - previous: number of contacts performed before this campaign and for this client (numeric)\n",
    "15 - poutcome: outcome of the previous marketing campaign (categorical: 'failure','nonexistent','success')\n",
    "\n",
    "social and economic context attributes\n",
    "16 - emp.var.rate: employment variation rate - quarterly indicator (numeric)\n",
    "17 - cons.price.idx: consumer price index - monthly indicator (numeric)\n",
    "18 - cons.conf.idx: consumer confidence index - monthly indicator (numeric)\n",
    "19 - euribor3m: euribor 3 month rate - daily indicator (numeric)\n",
    "20 - nr.employed: number of employees - quarterly indicator (numeric)\n",
    "\n",
    "Output variable (desired target):\n",
    "21 - y - has the client subscribed a term deposit? (binary: 'yes','no')"
   ]
  },
  {
   "cell_type": "markdown",
   "metadata": {},
   "source": [
    "## What is the significance of the y column in the dataset and what are the value counts of the y column?"
   ]
  },
  {
   "cell_type": "raw",
   "metadata": {},
   "source": [
    "'y' column describe Portugal bank marketing campaigns results offering bank's clients to place \n",
    "a term deposit denoted by either a 'yes' or a 'no'. \n"
   ]
  },
  {
   "cell_type": "code",
   "execution_count": 3,
   "metadata": {},
   "outputs": [
    {
     "data": {
      "text/plain": [
       "0    36548\n",
       "1     4640\n",
       "Name: y, dtype: int64"
      ]
     },
     "execution_count": 3,
     "metadata": {},
     "output_type": "execute_result"
    }
   ],
   "source": [
    "df['y'].value_counts()"
   ]
  },
  {
   "cell_type": "markdown",
   "metadata": {},
   "source": [
    "## What is the ratio of the two classes ? Are they balanced ?"
   ]
  },
  {
   "cell_type": "code",
   "execution_count": 4,
   "metadata": {},
   "outputs": [
    {
     "data": {
      "text/plain": [
       "<AxesSubplot:ylabel='y'>"
      ]
     },
     "execution_count": 4,
     "metadata": {},
     "output_type": "execute_result"
    },
    {
     "data": {
      "image/png": "[encoded data removed]",
      "text/plain": [
       "<Figure size 504x504 with 1 Axes>"
      ]
     },
     "metadata": {},
     "output_type": "display_data"
    }
   ],
   "source": [
    "def plot_pie(dataset, target, size=(7,7)):\n",
    "    return dataset[target].value_counts().plot.pie(autopct = '%1.1f%%', figsize=size)\n",
    "\n",
    "plot_pie(df, 'y')"
   ]
  },
  {
   "cell_type": "raw",
   "metadata": {},
   "source": [
    "The Ratio is for every 100 clients, only 11 dposit. This is a very unbalance case."
   ]
  },
  {
   "cell_type": "markdown",
   "metadata": {},
   "source": [
    "## DATA CLEANING"
   ]
  },
  {
   "cell_type": "code",
   "execution_count": 5,
   "metadata": {},
   "outputs": [
    {
     "data": {
      "text/plain": [
       "(41188, 21)"
      ]
     },
     "execution_count": 5,
     "metadata": {},
     "output_type": "execute_result"
    }
   ],
   "source": [
    "df.shape"
   ]
  },
  {
   "cell_type": "code",
   "execution_count": 6,
   "metadata": {},
   "outputs": [
    {
     "data": {
      "text/plain": [
       "age               0\n",
       "job               0\n",
       "marital           0\n",
       "education         0\n",
       "default           0\n",
       "housing           0\n",
       "loan              0\n",
       "contact           0\n",
       "month             0\n",
       "day_of_week       0\n",
       "duration          0\n",
       "campaign          0\n",
       "pdays             0\n",
       "previous          0\n",
       "poutcome          0\n",
       "emp_var_rate      0\n",
       "cons_price_idx    0\n",
       "cons_conf_idx     0\n",
       "euribor3m         0\n",
       "nr_employed       0\n",
       "y                 0\n",
       "dtype: int64"
      ]
     },
     "execution_count": 6,
     "metadata": {},
     "output_type": "execute_result"
    }
   ],
   "source": [
    "df.isnull().sum()"
   ]
  },
  {
   "cell_type": "code",
   "execution_count": 7,
   "metadata": {
    "scrolled": false
   },
   "outputs": [
    {
     "name": "stdout",
     "output_type": "stream",
     "text": [
      "<class 'pandas.core.frame.DataFrame'>\n",
      "RangeIndex: 41188 entries, 0 to 41187\n",
      "Data columns (total 21 columns):\n",
      " #   Column          Non-Null Count  Dtype  \n",
      "---  ------          --------------  -----  \n",
      " 0   age             41188 non-null  object \n",
      " 1   job             41188 non-null  object \n",
      " 2   marital         41188 non-null  object \n",
      " 3   education       41188 non-null  object \n",
      " 4   default         41188 non-null  object \n",
      " 5   housing         41188 non-null  object \n",
      " 6   loan            41188 non-null  object \n",
      " 7   contact         41188 non-null  object \n",
      " 8   month           41188 non-null  object \n",
      " 9   day_of_week     41188 non-null  object \n",
      " 10  duration        41188 non-null  int64  \n",
      " 11  campaign        41188 non-null  int64  \n",
      " 12  pdays           41188 non-null  float64\n",
      " 13  previous        41188 non-null  int64  \n",
      " 14  poutcome        41188 non-null  object \n",
      " 15  emp_var_rate    41188 non-null  float64\n",
      " 16  cons_price_idx  41188 non-null  float64\n",
      " 17  cons_conf_idx   41188 non-null  float64\n",
      " 18  euribor3m       41188 non-null  float64\n",
      " 19  nr_employed     41188 non-null  float64\n",
      " 20  y               41188 non-null  int64  \n",
      "dtypes: float64(6), int64(4), object(11)\n",
      "memory usage: 4.9+ MB\n"
     ]
    }
   ],
   "source": [
    "df.info()"
   ]
  },
  {
   "cell_type": "raw",
   "metadata": {},
   "source": [
    "According to the data frame shape, we dont have any missing data, each colum has 41,188 entries;\n",
    "therefore, cleaning of data is not required. The first ten columns the rows are objects but probably \n",
    "be swapt to binary values if need be. The remaining columns minus 'poutcome' are numerical values. \n",
    "However, I will convert 'age' column to an integer."
   ]
  },
  {
   "cell_type": "code",
   "execution_count": 8,
   "metadata": {},
   "outputs": [],
   "source": [
    "#I used:\n",
    "#df['age'] = pd.to_numeric(df['age'])\n",
    "#print(df['age'].dtypes)\n",
    "\n",
    "#but I got an error\n",
    "\n",
    "# Unable to parse string \"35-30\" at position 74\n",
    "#and other ranges\n",
    "#you cant have a ranges as an intenger"
   ]
  },
  {
   "cell_type": "code",
   "execution_count": 9,
   "metadata": {},
   "outputs": [],
   "source": [
    "df['age'] = df['age'].replace(['35-30','30-35'],'35')\n",
    "df['age'] = df['age'].replace(['25-30','30-25'],'30')\n",
    "df['age'] = df['age'].replace(['18-25','25-18'],'25')\n",
    "df['age'] = df['age'].replace(['32-30','30-32'],'32')\n",
    "df['age'] = df['age'].replace(['55-50','50-55'],'55')\n",
    "df['age'] = df['age'].replace(['45-50','50-45'],'50')\n",
    "df['age'] = df['age'].replace(['20-25','25-20'],'25')\n",
    "df['age'] = df['age'].replace(['20-40','40-20', '35-40','30-40'],'40')"
   ]
  },
  {
   "cell_type": "code",
   "execution_count": 10,
   "metadata": {},
   "outputs": [
    {
     "name": "stdout",
     "output_type": "stream",
     "text": [
      "int64\n"
     ]
    }
   ],
   "source": [
    "df['age'] = pd.to_numeric(df['age'])\n",
    "print(df['age'].dtypes)\n",
    "\n",
    "#could have used\n",
    "#df['age']=df['age'].astype(int)\n",
    "#but it wont give you the row location of error"
   ]
  },
  {
   "cell_type": "code",
   "execution_count": 11,
   "metadata": {},
   "outputs": [],
   "source": [
    "#don't see any other errors, will fix as I go"
   ]
  },
  {
   "cell_type": "code",
   "execution_count": 12,
   "metadata": {},
   "outputs": [
    {
     "data": {
      "text/plain": [
       "admin.           10420\n",
       "blue-collar       9253\n",
       "technician        6742\n",
       "services          3966\n",
       "management        2923\n",
       "retired           1717\n",
       "entrepreneur      1456\n",
       "self-employed     1421\n",
       "housemaid         1059\n",
       "unemployed        1014\n",
       "student            873\n",
       "unknown            329\n",
       "RETIRED              3\n",
       "SERVICES             3\n",
       "STUDENT              2\n",
       "ADMIN.               2\n",
       "HOUSEMAID            1\n",
       "UNKNOWN              1\n",
       "TECHNICIAN           1\n",
       "MANAGEMENT           1\n",
       "BLUE-COLLAR          1\n",
       "Name: job, dtype: int64"
      ]
     },
     "execution_count": 12,
     "metadata": {},
     "output_type": "execute_result"
    }
   ],
   "source": [
    "# found errors with job titles when using .groupby functions on jobs\n",
    "\n",
    "df['job'].value_counts()"
   ]
  },
  {
   "cell_type": "code",
   "execution_count": 13,
   "metadata": {},
   "outputs": [
    {
     "data": {
      "text/plain": [
       "admin.           10422\n",
       "blue-collar       9254\n",
       "technician        6743\n",
       "services          3969\n",
       "management        2924\n",
       "retired           1720\n",
       "entrepreneur      1456\n",
       "self-employed     1421\n",
       "housemaid         1060\n",
       "unemployed        1014\n",
       "student            875\n",
       "unknown            330\n",
       "Name: job, dtype: int64"
      ]
     },
     "execution_count": 13,
     "metadata": {},
     "output_type": "execute_result"
    }
   ],
   "source": [
    "#will correct errors\n",
    "\n",
    "df['job'] = df['job'].replace('RETIRED','retired')\n",
    "df['job'] = df['job'].replace('SERVICES','services')\n",
    "df['job'] = df['job'].replace('STUDENT','student')\n",
    "df['job'] = df['job'].replace('ADMIN.','admin.')\n",
    "df['job'] = df['job'].replace('BLUE-COLLAR','blue-collar')\n",
    "df['job'] = df['job'].replace('TECHNICIAN','technician')\n",
    "df['job'] = df['job'].replace('HOUSEMAID','housemaid')\n",
    "df['job'] = df['job'].replace('UNKNOWN','unknown')\n",
    "df['job'] = df['job'].replace('MANAGEMENT','management')\n",
    "df['job'].value_counts()"
   ]
  },
  {
   "cell_type": "code",
   "execution_count": 14,
   "metadata": {},
   "outputs": [
    {
     "name": "stdout",
     "output_type": "stream",
     "text": [
      "0    36548\n",
      "1     4640\n",
      "Name: y, dtype: int64\n",
      "______________________\n",
      "married     24923\n",
      "single      11565\n",
      "divorced     4608\n",
      "unknown        80\n",
      "M               5\n",
      "D               4\n",
      "S               3\n",
      "Name: marital, dtype: int64\n",
      "______________________\n",
      "university.degree      12168\n",
      "high.school             9515\n",
      "basic.9y                6035\n",
      "professional.course     5243\n",
      "basic.4y                4164\n",
      "basic.6y                2286\n",
      "unknown                 1731\n",
      "illiterate                18\n",
      "basic-4y                  12\n",
      "basic-9y                  10\n",
      "basic-6y                   6\n",
      "Name: education, dtype: int64\n",
      "______________________\n",
      "nonexistent    35563\n",
      "failure         4252\n",
      "success         1373\n",
      "Name: poutcome, dtype: int64\n",
      "______________________\n",
      "may    13769\n",
      "jul     7174\n",
      "aug     6178\n",
      "jun     5318\n",
      "nov     4101\n",
      "apr     2632\n",
      "oct      718\n",
      "sep      570\n",
      "mar      546\n",
      "dec      182\n",
      "Name: month, dtype: int64\n",
      "______________________\n",
      "thu    8623\n",
      "mon    8514\n",
      "wed    8134\n",
      "tue    8090\n",
      "fri    7827\n",
      "Name: day_of_week, dtype: int64\n"
     ]
    }
   ],
   "source": [
    "#since I found errors with the strings, will check the other columns\n",
    "\n",
    "print(df['y'].value_counts())\n",
    "print('______________________')\n",
    "print(df['marital'].value_counts())\n",
    "print('______________________')\n",
    "print(df['education'].value_counts())\n",
    "print('______________________')\n",
    "print(df['poutcome'].value_counts())\n",
    "print('______________________')\n",
    "print(df['month'].value_counts())\n",
    "print('______________________')\n",
    "print(df['day_of_week'].value_counts())\n",
    "\n",
    "#I already fixed 'job', 'y' seems okay, but I have to fix both martital and education strings "
   ]
  },
  {
   "cell_type": "code",
   "execution_count": 15,
   "metadata": {},
   "outputs": [
    {
     "name": "stdout",
     "output_type": "stream",
     "text": [
      "married     24928\n",
      "single      11568\n",
      "divorced     4612\n",
      "unknown        80\n",
      "Name: marital, dtype: int64\n",
      "______________________\n",
      "university.degree      12168\n",
      "high.school             9515\n",
      "basic.9y                6045\n",
      "professional.course     5243\n",
      "basic.4y                4176\n",
      "basic.6y                2292\n",
      "unknown                 1731\n",
      "illiterate                18\n",
      "Name: education, dtype: int64\n"
     ]
    }
   ],
   "source": [
    "#fixing strings from other columns\n",
    "\n",
    "df['education'] = df['education'].replace('basic-4y','basic.4y')\n",
    "df['education'] = df['education'].replace('basic-9y','basic.9y')\n",
    "df['education'] = df['education'].replace('basic-6y','basic.6y')\n",
    "\n",
    "df['marital'] = df['marital'].replace('M','married')\n",
    "df['marital'] = df['marital'].replace(['D','divorces'],'divorced')\n",
    "df['marital'] = df['marital'].replace('S','single')\n",
    "\n",
    "print(df['marital'].value_counts())\n",
    "print('______________________')\n",
    "print(df['education'].value_counts())"
   ]
  },
  {
   "cell_type": "markdown",
   "metadata": {},
   "source": [
    "## EDA"
   ]
  },
  {
   "cell_type": "code",
   "execution_count": 16,
   "metadata": {},
   "outputs": [
    {
     "data": {
      "text/html": [
       "<div>\n",
       "<style scoped>\n",
       "    .dataframe tbody tr th:only-of-type {\n",
       "        vertical-align: middle;\n",
       "    }\n",
       "\n",
       "    .dataframe tbody tr th {\n",
       "        vertical-align: top;\n",
       "    }\n",
       "\n",
       "    .dataframe thead th {\n",
       "        text-align: right;\n",
       "    }\n",
       "</style>\n",
       "<table border=\"1\" class=\"dataframe\">\n",
       "  <thead>\n",
       "    <tr style=\"text-align: right;\">\n",
       "      <th></th>\n",
       "      <th>age</th>\n",
       "      <th>duration</th>\n",
       "      <th>campaign</th>\n",
       "      <th>pdays</th>\n",
       "      <th>previous</th>\n",
       "      <th>emp_var_rate</th>\n",
       "      <th>cons_price_idx</th>\n",
       "      <th>cons_conf_idx</th>\n",
       "      <th>euribor3m</th>\n",
       "      <th>nr_employed</th>\n",
       "      <th>y</th>\n",
       "    </tr>\n",
       "  </thead>\n",
       "  <tbody>\n",
       "    <tr>\n",
       "      <th>count</th>\n",
       "      <td>41188.000000</td>\n",
       "      <td>41188.000000</td>\n",
       "      <td>41188.000000</td>\n",
       "      <td>41188.000000</td>\n",
       "      <td>41188.000000</td>\n",
       "      <td>41188.000000</td>\n",
       "      <td>41188.000000</td>\n",
       "      <td>41188.000000</td>\n",
       "      <td>41188.000000</td>\n",
       "      <td>41188.000000</td>\n",
       "      <td>41188.000000</td>\n",
       "    </tr>\n",
       "    <tr>\n",
       "      <th>mean</th>\n",
       "      <td>40.024643</td>\n",
       "      <td>258.285010</td>\n",
       "      <td>2.567593</td>\n",
       "      <td>963.568005</td>\n",
       "      <td>0.172963</td>\n",
       "      <td>0.081886</td>\n",
       "      <td>93.575664</td>\n",
       "      <td>-40.502600</td>\n",
       "      <td>3.621291</td>\n",
       "      <td>5167.035911</td>\n",
       "      <td>0.112654</td>\n",
       "    </tr>\n",
       "    <tr>\n",
       "      <th>std</th>\n",
       "      <td>10.420932</td>\n",
       "      <td>259.279249</td>\n",
       "      <td>2.770014</td>\n",
       "      <td>211.772296</td>\n",
       "      <td>0.494901</td>\n",
       "      <td>1.570960</td>\n",
       "      <td>0.578840</td>\n",
       "      <td>4.628198</td>\n",
       "      <td>1.734447</td>\n",
       "      <td>72.251528</td>\n",
       "      <td>0.316173</td>\n",
       "    </tr>\n",
       "    <tr>\n",
       "      <th>min</th>\n",
       "      <td>17.000000</td>\n",
       "      <td>0.000000</td>\n",
       "      <td>1.000000</td>\n",
       "      <td>0.000000</td>\n",
       "      <td>0.000000</td>\n",
       "      <td>-3.400000</td>\n",
       "      <td>92.201000</td>\n",
       "      <td>-50.800000</td>\n",
       "      <td>0.634000</td>\n",
       "      <td>4963.600000</td>\n",
       "      <td>0.000000</td>\n",
       "    </tr>\n",
       "    <tr>\n",
       "      <th>25%</th>\n",
       "      <td>32.000000</td>\n",
       "      <td>102.000000</td>\n",
       "      <td>1.000000</td>\n",
       "      <td>999.000000</td>\n",
       "      <td>0.000000</td>\n",
       "      <td>-1.800000</td>\n",
       "      <td>93.075000</td>\n",
       "      <td>-42.700000</td>\n",
       "      <td>1.344000</td>\n",
       "      <td>5099.100000</td>\n",
       "      <td>0.000000</td>\n",
       "    </tr>\n",
       "    <tr>\n",
       "      <th>50%</th>\n",
       "      <td>38.000000</td>\n",
       "      <td>180.000000</td>\n",
       "      <td>2.000000</td>\n",
       "      <td>999.000000</td>\n",
       "      <td>0.000000</td>\n",
       "      <td>1.100000</td>\n",
       "      <td>93.749000</td>\n",
       "      <td>-41.800000</td>\n",
       "      <td>4.857000</td>\n",
       "      <td>5191.000000</td>\n",
       "      <td>0.000000</td>\n",
       "    </tr>\n",
       "    <tr>\n",
       "      <th>75%</th>\n",
       "      <td>47.000000</td>\n",
       "      <td>319.000000</td>\n",
       "      <td>3.000000</td>\n",
       "      <td>999.000000</td>\n",
       "      <td>0.000000</td>\n",
       "      <td>1.400000</td>\n",
       "      <td>93.994000</td>\n",
       "      <td>-36.400000</td>\n",
       "      <td>4.961000</td>\n",
       "      <td>5228.100000</td>\n",
       "      <td>0.000000</td>\n",
       "    </tr>\n",
       "    <tr>\n",
       "      <th>max</th>\n",
       "      <td>98.000000</td>\n",
       "      <td>4918.000000</td>\n",
       "      <td>56.000000</td>\n",
       "      <td>9999.000000</td>\n",
       "      <td>7.000000</td>\n",
       "      <td>1.400000</td>\n",
       "      <td>94.767000</td>\n",
       "      <td>-26.900000</td>\n",
       "      <td>5.045000</td>\n",
       "      <td>5228.100000</td>\n",
       "      <td>1.000000</td>\n",
       "    </tr>\n",
       "  </tbody>\n",
       "</table>\n",
       "</div>"
      ],
      "text/plain": [
       "                age      duration      campaign         pdays      previous  \\\n",
       "count  41188.000000  41188.000000  41188.000000  41188.000000  41188.000000   \n",
       "mean      40.024643    258.285010      2.567593    963.568005      0.172963   \n",
       "std       10.420932    259.279249      2.770014    211.772296      0.494901   \n",
       "min       17.000000      0.000000      1.000000      0.000000      0.000000   \n",
       "25%       32.000000    102.000000      1.000000    999.000000      0.000000   \n",
       "50%       38.000000    180.000000      2.000000    999.000000      0.000000   \n",
       "75%       47.000000    319.000000      3.000000    999.000000      0.000000   \n",
       "max       98.000000   4918.000000     56.000000   9999.000000      7.000000   \n",
       "\n",
       "       emp_var_rate  cons_price_idx  cons_conf_idx     euribor3m  \\\n",
       "count  41188.000000    41188.000000   41188.000000  41188.000000   \n",
       "mean       0.081886       93.575664     -40.502600      3.621291   \n",
       "std        1.570960        0.578840       4.628198      1.734447   \n",
       "min       -3.400000       92.201000     -50.800000      0.634000   \n",
       "25%       -1.800000       93.075000     -42.700000      1.344000   \n",
       "50%        1.100000       93.749000     -41.800000      4.857000   \n",
       "75%        1.400000       93.994000     -36.400000      4.961000   \n",
       "max        1.400000       94.767000     -26.900000      5.045000   \n",
       "\n",
       "        nr_employed             y  \n",
       "count  41188.000000  41188.000000  \n",
       "mean    5167.035911      0.112654  \n",
       "std       72.251528      0.316173  \n",
       "min     4963.600000      0.000000  \n",
       "25%     5099.100000      0.000000  \n",
       "50%     5191.000000      0.000000  \n",
       "75%     5228.100000      0.000000  \n",
       "max     5228.100000      1.000000  "
      ]
     },
     "execution_count": 16,
     "metadata": {},
     "output_type": "execute_result"
    }
   ],
   "source": [
    "df.describe()"
   ]
  },
  {
   "cell_type": "code",
   "execution_count": 17,
   "metadata": {},
   "outputs": [
    {
     "data": {
      "text/html": [
       "<div>\n",
       "<style scoped>\n",
       "    .dataframe tbody tr th:only-of-type {\n",
       "        vertical-align: middle;\n",
       "    }\n",
       "\n",
       "    .dataframe tbody tr th {\n",
       "        vertical-align: top;\n",
       "    }\n",
       "\n",
       "    .dataframe thead tr th {\n",
       "        text-align: left;\n",
       "    }\n",
       "\n",
       "    .dataframe thead tr:last-of-type th {\n",
       "        text-align: right;\n",
       "    }\n",
       "</style>\n",
       "<table border=\"1\" class=\"dataframe\">\n",
       "  <thead>\n",
       "    <tr>\n",
       "      <th></th>\n",
       "      <th>y</th>\n",
       "    </tr>\n",
       "    <tr>\n",
       "      <th></th>\n",
       "      <th>mean</th>\n",
       "    </tr>\n",
       "    <tr>\n",
       "      <th>job</th>\n",
       "      <th></th>\n",
       "    </tr>\n",
       "  </thead>\n",
       "  <tbody>\n",
       "    <tr>\n",
       "      <th>admin.</th>\n",
       "      <td>0.129726</td>\n",
       "    </tr>\n",
       "    <tr>\n",
       "      <th>blue-collar</th>\n",
       "      <td>0.068943</td>\n",
       "    </tr>\n",
       "    <tr>\n",
       "      <th>entrepreneur</th>\n",
       "      <td>0.085165</td>\n",
       "    </tr>\n",
       "    <tr>\n",
       "      <th>housemaid</th>\n",
       "      <td>0.100000</td>\n",
       "    </tr>\n",
       "    <tr>\n",
       "      <th>management</th>\n",
       "      <td>0.112175</td>\n",
       "    </tr>\n",
       "    <tr>\n",
       "      <th>retired</th>\n",
       "      <td>0.252326</td>\n",
       "    </tr>\n",
       "    <tr>\n",
       "      <th>self-employed</th>\n",
       "      <td>0.104856</td>\n",
       "    </tr>\n",
       "    <tr>\n",
       "      <th>services</th>\n",
       "      <td>0.081381</td>\n",
       "    </tr>\n",
       "    <tr>\n",
       "      <th>student</th>\n",
       "      <td>0.314286</td>\n",
       "    </tr>\n",
       "    <tr>\n",
       "      <th>technician</th>\n",
       "      <td>0.108260</td>\n",
       "    </tr>\n",
       "    <tr>\n",
       "      <th>unemployed</th>\n",
       "      <td>0.142012</td>\n",
       "    </tr>\n",
       "    <tr>\n",
       "      <th>unknown</th>\n",
       "      <td>0.112121</td>\n",
       "    </tr>\n",
       "  </tbody>\n",
       "</table>\n",
       "</div>"
      ],
      "text/plain": [
       "                      y\n",
       "                   mean\n",
       "job                    \n",
       "admin.         0.129726\n",
       "blue-collar    0.068943\n",
       "entrepreneur   0.085165\n",
       "housemaid      0.100000\n",
       "management     0.112175\n",
       "retired        0.252326\n",
       "self-employed  0.104856\n",
       "services       0.081381\n",
       "student        0.314286\n",
       "technician     0.108260\n",
       "unemployed     0.142012\n",
       "unknown        0.112121"
      ]
     },
     "execution_count": 17,
     "metadata": {},
     "output_type": "execute_result"
    }
   ],
   "source": [
    "#will use ''.groupby' with aggregation to determine ratios for jobs\n",
    "results = df.groupby('job').agg({'y':['mean']}, axis=1)\n",
    "results\n",
    "\n",
    "#base of the means, students and retired people are more than likely to do a deposit"
   ]
  },
  {
   "cell_type": "code",
   "execution_count": 18,
   "metadata": {},
   "outputs": [
    {
     "data": {
      "text/html": [
       "<div>\n",
       "<style scoped>\n",
       "    .dataframe tbody tr th:only-of-type {\n",
       "        vertical-align: middle;\n",
       "    }\n",
       "\n",
       "    .dataframe tbody tr th {\n",
       "        vertical-align: top;\n",
       "    }\n",
       "\n",
       "    .dataframe thead tr th {\n",
       "        text-align: left;\n",
       "    }\n",
       "\n",
       "    .dataframe thead tr:last-of-type th {\n",
       "        text-align: right;\n",
       "    }\n",
       "</style>\n",
       "<table border=\"1\" class=\"dataframe\">\n",
       "  <thead>\n",
       "    <tr>\n",
       "      <th></th>\n",
       "      <th>y</th>\n",
       "    </tr>\n",
       "    <tr>\n",
       "      <th></th>\n",
       "      <th>mean</th>\n",
       "    </tr>\n",
       "    <tr>\n",
       "      <th>poutcome</th>\n",
       "      <th></th>\n",
       "    </tr>\n",
       "  </thead>\n",
       "  <tbody>\n",
       "    <tr>\n",
       "      <th>failure</th>\n",
       "      <td>0.142286</td>\n",
       "    </tr>\n",
       "    <tr>\n",
       "      <th>nonexistent</th>\n",
       "      <td>0.088322</td>\n",
       "    </tr>\n",
       "    <tr>\n",
       "      <th>success</th>\n",
       "      <td>0.651129</td>\n",
       "    </tr>\n",
       "  </tbody>\n",
       "</table>\n",
       "</div>"
      ],
      "text/plain": [
       "                    y\n",
       "                 mean\n",
       "poutcome             \n",
       "failure      0.142286\n",
       "nonexistent  0.088322\n",
       "success      0.651129"
      ]
     },
     "execution_count": 18,
     "metadata": {},
     "output_type": "execute_result"
    }
   ],
   "source": [
    "#will use ''.groupby' with aggregation to determine ratios for jobs\n",
    "results = df.groupby('poutcome').agg({'y':['mean']}, axis=1)\n",
    "results\n",
    "\n",
    "#seems significant"
   ]
  },
  {
   "cell_type": "code",
   "execution_count": 19,
   "metadata": {},
   "outputs": [
    {
     "data": {
      "text/html": [
       "<div>\n",
       "<style scoped>\n",
       "    .dataframe tbody tr th:only-of-type {\n",
       "        vertical-align: middle;\n",
       "    }\n",
       "\n",
       "    .dataframe tbody tr th {\n",
       "        vertical-align: top;\n",
       "    }\n",
       "\n",
       "    .dataframe thead tr th {\n",
       "        text-align: left;\n",
       "    }\n",
       "\n",
       "    .dataframe thead tr:last-of-type th {\n",
       "        text-align: right;\n",
       "    }\n",
       "</style>\n",
       "<table border=\"1\" class=\"dataframe\">\n",
       "  <thead>\n",
       "    <tr>\n",
       "      <th></th>\n",
       "      <th>y</th>\n",
       "    </tr>\n",
       "    <tr>\n",
       "      <th></th>\n",
       "      <th>mean</th>\n",
       "    </tr>\n",
       "    <tr>\n",
       "      <th>day_of_week</th>\n",
       "      <th></th>\n",
       "    </tr>\n",
       "  </thead>\n",
       "  <tbody>\n",
       "    <tr>\n",
       "      <th>fri</th>\n",
       "      <td>0.108087</td>\n",
       "    </tr>\n",
       "    <tr>\n",
       "      <th>mon</th>\n",
       "      <td>0.099483</td>\n",
       "    </tr>\n",
       "    <tr>\n",
       "      <th>thu</th>\n",
       "      <td>0.121188</td>\n",
       "    </tr>\n",
       "    <tr>\n",
       "      <th>tue</th>\n",
       "      <td>0.117800</td>\n",
       "    </tr>\n",
       "    <tr>\n",
       "      <th>wed</th>\n",
       "      <td>0.116671</td>\n",
       "    </tr>\n",
       "  </tbody>\n",
       "</table>\n",
       "</div>"
      ],
      "text/plain": [
       "                    y\n",
       "                 mean\n",
       "day_of_week          \n",
       "fri          0.108087\n",
       "mon          0.099483\n",
       "thu          0.121188\n",
       "tue          0.117800\n",
       "wed          0.116671"
      ]
     },
     "execution_count": 19,
     "metadata": {},
     "output_type": "execute_result"
    }
   ],
   "source": [
    "#will use ''.groupby' with aggregation to determine ratios for jobs\n",
    "results = df.groupby('day_of_week').agg({'y':['mean']}, axis=1)\n",
    "results\n",
    "\n",
    "#seems insignificant"
   ]
  },
  {
   "cell_type": "code",
   "execution_count": 20,
   "metadata": {},
   "outputs": [
    {
     "data": {
      "text/html": [
       "<div>\n",
       "<style scoped>\n",
       "    .dataframe tbody tr th:only-of-type {\n",
       "        vertical-align: middle;\n",
       "    }\n",
       "\n",
       "    .dataframe tbody tr th {\n",
       "        vertical-align: top;\n",
       "    }\n",
       "\n",
       "    .dataframe thead tr th {\n",
       "        text-align: left;\n",
       "    }\n",
       "\n",
       "    .dataframe thead tr:last-of-type th {\n",
       "        text-align: right;\n",
       "    }\n",
       "</style>\n",
       "<table border=\"1\" class=\"dataframe\">\n",
       "  <thead>\n",
       "    <tr>\n",
       "      <th></th>\n",
       "      <th>y</th>\n",
       "    </tr>\n",
       "    <tr>\n",
       "      <th></th>\n",
       "      <th>mean</th>\n",
       "    </tr>\n",
       "    <tr>\n",
       "      <th>month</th>\n",
       "      <th></th>\n",
       "    </tr>\n",
       "  </thead>\n",
       "  <tbody>\n",
       "    <tr>\n",
       "      <th>apr</th>\n",
       "      <td>0.204787</td>\n",
       "    </tr>\n",
       "    <tr>\n",
       "      <th>aug</th>\n",
       "      <td>0.106021</td>\n",
       "    </tr>\n",
       "    <tr>\n",
       "      <th>dec</th>\n",
       "      <td>0.489011</td>\n",
       "    </tr>\n",
       "    <tr>\n",
       "      <th>jul</th>\n",
       "      <td>0.090466</td>\n",
       "    </tr>\n",
       "    <tr>\n",
       "      <th>jun</th>\n",
       "      <td>0.105115</td>\n",
       "    </tr>\n",
       "    <tr>\n",
       "      <th>mar</th>\n",
       "      <td>0.505495</td>\n",
       "    </tr>\n",
       "    <tr>\n",
       "      <th>may</th>\n",
       "      <td>0.064347</td>\n",
       "    </tr>\n",
       "    <tr>\n",
       "      <th>nov</th>\n",
       "      <td>0.101439</td>\n",
       "    </tr>\n",
       "    <tr>\n",
       "      <th>oct</th>\n",
       "      <td>0.438719</td>\n",
       "    </tr>\n",
       "    <tr>\n",
       "      <th>sep</th>\n",
       "      <td>0.449123</td>\n",
       "    </tr>\n",
       "  </tbody>\n",
       "</table>\n",
       "</div>"
      ],
      "text/plain": [
       "              y\n",
       "           mean\n",
       "month          \n",
       "apr    0.204787\n",
       "aug    0.106021\n",
       "dec    0.489011\n",
       "jul    0.090466\n",
       "jun    0.105115\n",
       "mar    0.505495\n",
       "may    0.064347\n",
       "nov    0.101439\n",
       "oct    0.438719\n",
       "sep    0.449123"
      ]
     },
     "execution_count": 20,
     "metadata": {},
     "output_type": "execute_result"
    }
   ],
   "source": [
    "#will use ''.groupby' with aggregation to determine ratios for jobs\n",
    "results = df.groupby('month').agg({'y':['mean']}, axis=1)\n",
    "results\n",
    "\n",
    "#seems significant"
   ]
  },
  {
   "cell_type": "code",
   "execution_count": 21,
   "metadata": {},
   "outputs": [
    {
     "data": {
      "text/html": [
       "<div>\n",
       "<style scoped>\n",
       "    .dataframe tbody tr th:only-of-type {\n",
       "        vertical-align: middle;\n",
       "    }\n",
       "\n",
       "    .dataframe tbody tr th {\n",
       "        vertical-align: top;\n",
       "    }\n",
       "\n",
       "    .dataframe thead tr th {\n",
       "        text-align: left;\n",
       "    }\n",
       "\n",
       "    .dataframe thead tr:last-of-type th {\n",
       "        text-align: right;\n",
       "    }\n",
       "</style>\n",
       "<table border=\"1\" class=\"dataframe\">\n",
       "  <thead>\n",
       "    <tr>\n",
       "      <th></th>\n",
       "      <th>y</th>\n",
       "    </tr>\n",
       "    <tr>\n",
       "      <th></th>\n",
       "      <th>mean</th>\n",
       "    </tr>\n",
       "    <tr>\n",
       "      <th>marital</th>\n",
       "      <th></th>\n",
       "    </tr>\n",
       "  </thead>\n",
       "  <tbody>\n",
       "    <tr>\n",
       "      <th>divorced</th>\n",
       "      <td>0.103209</td>\n",
       "    </tr>\n",
       "    <tr>\n",
       "      <th>married</th>\n",
       "      <td>0.101573</td>\n",
       "    </tr>\n",
       "    <tr>\n",
       "      <th>single</th>\n",
       "      <td>0.140041</td>\n",
       "    </tr>\n",
       "    <tr>\n",
       "      <th>unknown</th>\n",
       "      <td>0.150000</td>\n",
       "    </tr>\n",
       "  </tbody>\n",
       "</table>\n",
       "</div>"
      ],
      "text/plain": [
       "                 y\n",
       "              mean\n",
       "marital           \n",
       "divorced  0.103209\n",
       "married   0.101573\n",
       "single    0.140041\n",
       "unknown   0.150000"
      ]
     },
     "execution_count": 21,
     "metadata": {},
     "output_type": "execute_result"
    }
   ],
   "source": [
    "#will use ''.groupby' with aggregation to determine ratios for marital\n",
    "results = df.groupby('marital').agg({'y':['mean']}, axis=1)\n",
    "results\n",
    "\n",
    "#it seems as if marital status doesn't heavily influnence deposit rates"
   ]
  },
  {
   "cell_type": "code",
   "execution_count": 22,
   "metadata": {},
   "outputs": [
    {
     "data": {
      "text/html": [
       "<div>\n",
       "<style scoped>\n",
       "    .dataframe tbody tr th:only-of-type {\n",
       "        vertical-align: middle;\n",
       "    }\n",
       "\n",
       "    .dataframe tbody tr th {\n",
       "        vertical-align: top;\n",
       "    }\n",
       "\n",
       "    .dataframe thead tr th {\n",
       "        text-align: left;\n",
       "    }\n",
       "\n",
       "    .dataframe thead tr:last-of-type th {\n",
       "        text-align: right;\n",
       "    }\n",
       "</style>\n",
       "<table border=\"1\" class=\"dataframe\">\n",
       "  <thead>\n",
       "    <tr>\n",
       "      <th></th>\n",
       "      <th>y</th>\n",
       "    </tr>\n",
       "    <tr>\n",
       "      <th></th>\n",
       "      <th>mean</th>\n",
       "    </tr>\n",
       "    <tr>\n",
       "      <th>education</th>\n",
       "      <th></th>\n",
       "    </tr>\n",
       "  </thead>\n",
       "  <tbody>\n",
       "    <tr>\n",
       "      <th>basic.4y</th>\n",
       "      <td>0.102490</td>\n",
       "    </tr>\n",
       "    <tr>\n",
       "      <th>basic.6y</th>\n",
       "      <td>0.082024</td>\n",
       "    </tr>\n",
       "    <tr>\n",
       "      <th>basic.9y</th>\n",
       "      <td>0.078246</td>\n",
       "    </tr>\n",
       "    <tr>\n",
       "      <th>high.school</th>\n",
       "      <td>0.108355</td>\n",
       "    </tr>\n",
       "    <tr>\n",
       "      <th>illiterate</th>\n",
       "      <td>0.222222</td>\n",
       "    </tr>\n",
       "    <tr>\n",
       "      <th>professional.course</th>\n",
       "      <td>0.113485</td>\n",
       "    </tr>\n",
       "    <tr>\n",
       "      <th>university.degree</th>\n",
       "      <td>0.137245</td>\n",
       "    </tr>\n",
       "    <tr>\n",
       "      <th>unknown</th>\n",
       "      <td>0.145003</td>\n",
       "    </tr>\n",
       "  </tbody>\n",
       "</table>\n",
       "</div>"
      ],
      "text/plain": [
       "                            y\n",
       "                         mean\n",
       "education                    \n",
       "basic.4y             0.102490\n",
       "basic.6y             0.082024\n",
       "basic.9y             0.078246\n",
       "high.school          0.108355\n",
       "illiterate           0.222222\n",
       "professional.course  0.113485\n",
       "university.degree    0.137245\n",
       "unknown              0.145003"
      ]
     },
     "execution_count": 22,
     "metadata": {},
     "output_type": "execute_result"
    }
   ],
   "source": [
    "#will use ''.groupby' with aggregation to determine ratios for jobs\n",
    "results = df.groupby('education').agg({'y':['mean']}, axis=1)\n",
    "results\n",
    "\n",
    "#it seems as if illiterates are in favored of deposits but they are a very small count \n",
    "#of the education population"
   ]
  },
  {
   "cell_type": "code",
   "execution_count": 23,
   "metadata": {},
   "outputs": [],
   "source": [
    "# Build a function to show categorical values disribution using regular bar graphs\n",
    "\n",
    "def plot_bar(column):\n",
    "    # temp df \n",
    "    temp_1 = pd.DataFrame()\n",
    "    # count categorical values\n",
    "    temp_1['No_deposit'] = df[df['y'] == 0][column].value_counts()\n",
    "    temp_1['Yes_deposit'] = df[df['y'] == 1][column].value_counts()\n",
    "    temp_1.plot(kind='bar')\n",
    "    plt.xlabel(f'{column}')\n",
    "    plt.ylabel('Number of clients')\n",
    "    plt.title('Distribution of {} and deposit'.format(column))\n",
    "    plt.show();"
   ]
  },
  {
   "cell_type": "code",
   "execution_count": 24,
   "metadata": {},
   "outputs": [
    {
     "data": {
      "image/png": "[encoded data removed]",
      "text/plain": [
       "<Figure size 432x288 with 1 Axes>"
      ]
     },
     "metadata": {
      "needs_background": "light"
     },
     "output_type": "display_data"
    },
    {
     "data": {
      "image/png": "[encoded data removed]",
      "text/plain": [
       "<Figure size 432x288 with 1 Axes>"
      ]
     },
     "metadata": {
      "needs_background": "light"
     },
     "output_type": "display_data"
    },
    {
     "data": {
      "image/png": "[encoded data removed]",
      "text/plain": [
       "<Figure size 432x288 with 1 Axes>"
      ]
     },
     "metadata": {
      "needs_background": "light"
     },
     "output_type": "display_data"
    },
    {
     "data": {
      "image/png": "[encoded data removed]",
      "text/plain": [
       "<Figure size 432x288 with 1 Axes>"
      ]
     },
     "metadata": {
      "needs_background": "light"
     },
     "output_type": "display_data"
    },
    {
     "data": {
      "image/png": "[encoded data removed]",
      "text/plain": [
       "<Figure size 432x288 with 1 Axes>"
      ]
     },
     "metadata": {
      "needs_background": "light"
     },
     "output_type": "display_data"
    },
    {
     "data": {
      "image/png": "[encoded data removed]",
      "text/plain": [
       "<Figure size 432x288 with 1 Axes>"
      ]
     },
     "metadata": {
      "needs_background": "light"
     },
     "output_type": "display_data"
    },
    {
     "data": {
      "image/png": "[encoded data removed]",
      "text/plain": [
       "<Figure size 432x288 with 1 Axes>"
      ]
     },
     "metadata": {
      "needs_background": "light"
     },
     "output_type": "display_data"
    },
    {
     "data": {
      "image/png": "[encoded data removed]",
      "text/plain": [
       "<Figure size 432x288 with 1 Axes>"
      ]
     },
     "metadata": {
      "needs_background": "light"
     },
     "output_type": "display_data"
    },
    {
     "data": {
      "image/png": "[encoded data removed]",
      "text/plain": [
       "<Figure size 432x288 with 1 Axes>"
      ]
     },
     "metadata": {
      "needs_background": "light"
     },
     "output_type": "display_data"
    },
    {
     "data": {
      "image/png": "[encoded data removed]",
      "text/plain": [
       "<Figure size 432x288 with 1 Axes>"
      ]
     },
     "metadata": {
      "needs_background": "light"
     },
     "output_type": "display_data"
    },
    {
     "data": {
      "image/png": "[encoded data removed]",
      "text/plain": [
       "<Figure size 432x288 with 1 Axes>"
      ]
     },
     "metadata": {
      "needs_background": "light"
     },
     "output_type": "display_data"
    },
    {
     "data": {
      "text/plain": [
       "(None, None, None, None, None)"
      ]
     },
     "execution_count": 24,
     "metadata": {},
     "output_type": "execute_result"
    }
   ],
   "source": [
    "plot_bar('job'), plot_bar('marital'), plot_bar('education'), plot_bar('contact'), plot_bar('loan'), plot_bar('contact'),\n",
    "plot_bar('housing'), plot_bar('default'), plot_bar('day_of_week'), plot_bar('month'), plot_bar('poutcome')"
   ]
  },
  {
   "cell_type": "code",
   "execution_count": 25,
   "metadata": {},
   "outputs": [],
   "source": [
    "# Build a function to show categorical values disribution using stack bar graphs\n",
    "\n",
    "def plot_bar(column):\n",
    "    # temp df \n",
    "    temp_1 = pd.DataFrame()\n",
    "    # count categorical values\n",
    "    temp_1['No_deposit'] = df[df['y'] == 0][column].value_counts()\n",
    "    temp_1['Yes_deposit'] = df[df['y'] == 1][column].value_counts()\n",
    "    temp_1.plot(kind='bar', stacked=True)\n",
    "    plt.xlabel(f'{column}')\n",
    "    plt.ylabel('Number of clients')\n",
    "    plt.title('Distribution of {} and deposit'.format(column))\n",
    "    plt.show();"
   ]
  },
  {
   "cell_type": "code",
   "execution_count": 26,
   "metadata": {},
   "outputs": [
    {
     "data": {
      "image/png": "[encoded data removed]",
      "text/plain": [
       "<Figure size 432x288 with 1 Axes>"
      ]
     },
     "metadata": {
      "needs_background": "light"
     },
     "output_type": "display_data"
    },
    {
     "data": {
      "image/png": "[encoded data removed]",
      "text/plain": [
       "<Figure size 432x288 with 1 Axes>"
      ]
     },
     "metadata": {
      "needs_background": "light"
     },
     "output_type": "display_data"
    },
    {
     "data": {
      "image/png": "[encoded data removed]",
      "text/plain": [
       "<Figure size 432x288 with 1 Axes>"
      ]
     },
     "metadata": {
      "needs_background": "light"
     },
     "output_type": "display_data"
    },
    {
     "data": {
      "image/png": "[encoded data removed]",
      "text/plain": [
       "<Figure size 432x288 with 1 Axes>"
      ]
     },
     "metadata": {
      "needs_background": "light"
     },
     "output_type": "display_data"
    },
    {
     "data": {
      "image/png": "[encoded data removed]",
      "text/plain": [
       "<Figure size 432x288 with 1 Axes>"
      ]
     },
     "metadata": {
      "needs_background": "light"
     },
     "output_type": "display_data"
    },
    {
     "data": {
      "image/png": "[encoded data removed]",
      "text/plain": [
       "<Figure size 432x288 with 1 Axes>"
      ]
     },
     "metadata": {
      "needs_background": "light"
     },
     "output_type": "display_data"
    },
    {
     "data": {
      "text/plain": [
       "(None, None, None, None, None, None)"
      ]
     },
     "execution_count": 26,
     "metadata": {},
     "output_type": "execute_result"
    }
   ],
   "source": [
    "plot_bar('job'), plot_bar('marital'), plot_bar('education'), plot_bar('contact'), plot_bar('loan'), plot_bar('housing')"
   ]
  },
  {
   "cell_type": "code",
   "execution_count": 27,
   "metadata": {},
   "outputs": [
    {
     "data": {
      "image/png": "[encoded data removed]",
      "text/plain": [
       "<Figure size 432x288 with 1 Axes>"
      ]
     },
     "metadata": {
      "needs_background": "light"
     },
     "output_type": "display_data"
    }
   ],
   "source": [
    "#histogram for age in sections of 10 \n",
    "\n",
    "x=df['age']\n",
    "plt.hist(df['age'],10)\n",
    "plt.show()\n",
    "\n",
    "#It would seem their biggest target are people between the ages of 30-55"
   ]
  },
  {
   "cell_type": "code",
   "execution_count": 28,
   "metadata": {},
   "outputs": [
    {
     "data": {
      "text/html": [
       "<style  type=\"text/css\" >\n",
       "#T_89bddc98_3948_11eb_9973_dc5360402742row0_col0,#T_89bddc98_3948_11eb_9973_dc5360402742row1_col1,#T_89bddc98_3948_11eb_9973_dc5360402742row2_col2,#T_89bddc98_3948_11eb_9973_dc5360402742row3_col3,#T_89bddc98_3948_11eb_9973_dc5360402742row4_col4,#T_89bddc98_3948_11eb_9973_dc5360402742row5_col5,#T_89bddc98_3948_11eb_9973_dc5360402742row6_col6,#T_89bddc98_3948_11eb_9973_dc5360402742row7_col7,#T_89bddc98_3948_11eb_9973_dc5360402742row8_col8,#T_89bddc98_3948_11eb_9973_dc5360402742row9_col9,#T_89bddc98_3948_11eb_9973_dc5360402742row10_col10{\n",
       "            background-color:  #023858;\n",
       "            color:  #f1f1f1;\n",
       "        }#T_89bddc98_3948_11eb_9973_dc5360402742row0_col1,#T_89bddc98_3948_11eb_9973_dc5360402742row2_col7,#T_89bddc98_3948_11eb_9973_dc5360402742row5_col4{\n",
       "            background-color:  #f5eff6;\n",
       "            color:  #000000;\n",
       "        }#T_89bddc98_3948_11eb_9973_dc5360402742row0_col2{\n",
       "            background-color:  #f4edf6;\n",
       "            color:  #000000;\n",
       "        }#T_89bddc98_3948_11eb_9973_dc5360402742row0_col3,#T_89bddc98_3948_11eb_9973_dc5360402742row0_col8{\n",
       "            background-color:  #b9c6e0;\n",
       "            color:  #000000;\n",
       "        }#T_89bddc98_3948_11eb_9973_dc5360402742row0_col4{\n",
       "            background-color:  #acc0dd;\n",
       "            color:  #000000;\n",
       "        }#T_89bddc98_3948_11eb_9973_dc5360402742row0_col5{\n",
       "            background-color:  #c1cae2;\n",
       "            color:  #000000;\n",
       "        }#T_89bddc98_3948_11eb_9973_dc5360402742row0_col6,#T_89bddc98_3948_11eb_9973_dc5360402742row9_col7{\n",
       "            background-color:  #e2dfee;\n",
       "            color:  #000000;\n",
       "        }#T_89bddc98_3948_11eb_9973_dc5360402742row0_col7,#T_89bddc98_3948_11eb_9973_dc5360402742row8_col2{\n",
       "            background-color:  #dcdaeb;\n",
       "            color:  #000000;\n",
       "        }#T_89bddc98_3948_11eb_9973_dc5360402742row0_col9{\n",
       "            background-color:  #b8c6e0;\n",
       "            color:  #000000;\n",
       "        }#T_89bddc98_3948_11eb_9973_dc5360402742row0_col10{\n",
       "            background-color:  #c5cce3;\n",
       "            color:  #000000;\n",
       "        }#T_89bddc98_3948_11eb_9973_dc5360402742row1_col0,#T_89bddc98_3948_11eb_9973_dc5360402742row4_col7{\n",
       "            background-color:  #fbf3f9;\n",
       "            color:  #000000;\n",
       "        }#T_89bddc98_3948_11eb_9973_dc5360402742row1_col2{\n",
       "            background-color:  #fef6fb;\n",
       "            color:  #000000;\n",
       "        }#T_89bddc98_3948_11eb_9973_dc5360402742row1_col3{\n",
       "            background-color:  #bcc7e1;\n",
       "            color:  #000000;\n",
       "        }#T_89bddc98_3948_11eb_9973_dc5360402742row1_col4{\n",
       "            background-color:  #adc1dd;\n",
       "            color:  #000000;\n",
       "        }#T_89bddc98_3948_11eb_9973_dc5360402742row1_col5,#T_89bddc98_3948_11eb_9973_dc5360402742row2_col6{\n",
       "            background-color:  #c8cde4;\n",
       "            color:  #000000;\n",
       "        }#T_89bddc98_3948_11eb_9973_dc5360402742row1_col6{\n",
       "            background-color:  #e1dfed;\n",
       "            color:  #000000;\n",
       "        }#T_89bddc98_3948_11eb_9973_dc5360402742row1_col7{\n",
       "            background-color:  #f5eef6;\n",
       "            color:  #000000;\n",
       "        }#T_89bddc98_3948_11eb_9973_dc5360402742row1_col8,#T_89bddc98_3948_11eb_9973_dc5360402742row2_col4{\n",
       "            background-color:  #c2cbe2;\n",
       "            color:  #000000;\n",
       "        }#T_89bddc98_3948_11eb_9973_dc5360402742row1_col9,#T_89bddc98_3948_11eb_9973_dc5360402742row7_col10{\n",
       "            background-color:  #bfc9e1;\n",
       "            color:  #000000;\n",
       "        }#T_89bddc98_3948_11eb_9973_dc5360402742row1_col10,#T_89bddc98_3948_11eb_9973_dc5360402742row9_col3{\n",
       "            background-color:  #569dc8;\n",
       "            color:  #000000;\n",
       "        }#T_89bddc98_3948_11eb_9973_dc5360402742row2_col0,#T_89bddc98_3948_11eb_9973_dc5360402742row8_col1{\n",
       "            background-color:  #faf2f8;\n",
       "            color:  #000000;\n",
       "        }#T_89bddc98_3948_11eb_9973_dc5360402742row2_col1,#T_89bddc98_3948_11eb_9973_dc5360402742row3_col0,#T_89bddc98_3948_11eb_9973_dc5360402742row3_col4,#T_89bddc98_3948_11eb_9973_dc5360402742row3_col7,#T_89bddc98_3948_11eb_9973_dc5360402742row4_col2,#T_89bddc98_3948_11eb_9973_dc5360402742row4_col3,#T_89bddc98_3948_11eb_9973_dc5360402742row4_col5,#T_89bddc98_3948_11eb_9973_dc5360402742row4_col6,#T_89bddc98_3948_11eb_9973_dc5360402742row4_col8,#T_89bddc98_3948_11eb_9973_dc5360402742row4_col9,#T_89bddc98_3948_11eb_9973_dc5360402742row9_col10{\n",
       "            background-color:  #fff7fb;\n",
       "            color:  #000000;\n",
       "        }#T_89bddc98_3948_11eb_9973_dc5360402742row2_col3{\n",
       "            background-color:  #a7bddb;\n",
       "            color:  #000000;\n",
       "        }#T_89bddc98_3948_11eb_9973_dc5360402742row2_col5,#T_89bddc98_3948_11eb_9973_dc5360402742row7_col9{\n",
       "            background-color:  #9cb9d9;\n",
       "            color:  #000000;\n",
       "        }#T_89bddc98_3948_11eb_9973_dc5360402742row2_col8{\n",
       "            background-color:  #9ab8d8;\n",
       "            color:  #000000;\n",
       "        }#T_89bddc98_3948_11eb_9973_dc5360402742row2_col9,#T_89bddc98_3948_11eb_9973_dc5360402742row4_col10{\n",
       "            background-color:  #8fb4d6;\n",
       "            color:  #000000;\n",
       "        }#T_89bddc98_3948_11eb_9973_dc5360402742row2_col10,#T_89bddc98_3948_11eb_9973_dc5360402742row5_col2,#T_89bddc98_3948_11eb_9973_dc5360402742row6_col4{\n",
       "            background-color:  #d9d8ea;\n",
       "            color:  #000000;\n",
       "        }#T_89bddc98_3948_11eb_9973_dc5360402742row3_col1,#T_89bddc98_3948_11eb_9973_dc5360402742row9_col1{\n",
       "            background-color:  #fbf4f9;\n",
       "            color:  #000000;\n",
       "        }#T_89bddc98_3948_11eb_9973_dc5360402742row3_col2{\n",
       "            background-color:  #eee8f3;\n",
       "            color:  #000000;\n",
       "        }#T_89bddc98_3948_11eb_9973_dc5360402742row3_col5{\n",
       "            background-color:  #81aed2;\n",
       "            color:  #000000;\n",
       "        }#T_89bddc98_3948_11eb_9973_dc5360402742row3_col6{\n",
       "            background-color:  #d5d5e8;\n",
       "            color:  #000000;\n",
       "        }#T_89bddc98_3948_11eb_9973_dc5360402742row3_col8,#T_89bddc98_3948_11eb_9973_dc5360402742row10_col4{\n",
       "            background-color:  #76aad0;\n",
       "            color:  #000000;\n",
       "        }#T_89bddc98_3948_11eb_9973_dc5360402742row3_col9{\n",
       "            background-color:  #5a9ec9;\n",
       "            color:  #000000;\n",
       "        }#T_89bddc98_3948_11eb_9973_dc5360402742row3_col10{\n",
       "            background-color:  #f8f1f8;\n",
       "            color:  #000000;\n",
       "        }#T_89bddc98_3948_11eb_9973_dc5360402742row4_col0,#T_89bddc98_3948_11eb_9973_dc5360402742row10_col6{\n",
       "            background-color:  #f7f0f7;\n",
       "            color:  #000000;\n",
       "        }#T_89bddc98_3948_11eb_9973_dc5360402742row4_col1,#T_89bddc98_3948_11eb_9973_dc5360402742row10_col5{\n",
       "            background-color:  #f2ecf5;\n",
       "            color:  #000000;\n",
       "        }#T_89bddc98_3948_11eb_9973_dc5360402742row5_col0,#T_89bddc98_3948_11eb_9973_dc5360402742row6_col0,#T_89bddc98_3948_11eb_9973_dc5360402742row8_col10{\n",
       "            background-color:  #faf3f9;\n",
       "            color:  #000000;\n",
       "        }#T_89bddc98_3948_11eb_9973_dc5360402742row5_col1,#T_89bddc98_3948_11eb_9973_dc5360402742row5_col10,#T_89bddc98_3948_11eb_9973_dc5360402742row8_col0,#T_89bddc98_3948_11eb_9973_dc5360402742row8_col4{\n",
       "            background-color:  #f9f2f8;\n",
       "            color:  #000000;\n",
       "        }#T_89bddc98_3948_11eb_9973_dc5360402742row5_col3,#T_89bddc98_3948_11eb_9973_dc5360402742row7_col8{\n",
       "            background-color:  #73a9cf;\n",
       "            color:  #000000;\n",
       "        }#T_89bddc98_3948_11eb_9973_dc5360402742row5_col6{\n",
       "            background-color:  #04649e;\n",
       "            color:  #f1f1f1;\n",
       "        }#T_89bddc98_3948_11eb_9973_dc5360402742row5_col7{\n",
       "            background-color:  #ced0e6;\n",
       "            color:  #000000;\n",
       "        }#T_89bddc98_3948_11eb_9973_dc5360402742row5_col8{\n",
       "            background-color:  #023c5f;\n",
       "            color:  #f1f1f1;\n",
       "        }#T_89bddc98_3948_11eb_9973_dc5360402742row5_col9{\n",
       "            background-color:  #034871;\n",
       "            color:  #f1f1f1;\n",
       "        }#T_89bddc98_3948_11eb_9973_dc5360402742row6_col1{\n",
       "            background-color:  #f4eef6;\n",
       "            color:  #000000;\n",
       "        }#T_89bddc98_3948_11eb_9973_dc5360402742row6_col2{\n",
       "            background-color:  #dddbec;\n",
       "            color:  #000000;\n",
       "        }#T_89bddc98_3948_11eb_9973_dc5360402742row6_col3{\n",
       "            background-color:  #a1bbda;\n",
       "            color:  #000000;\n",
       "        }#T_89bddc98_3948_11eb_9973_dc5360402742row6_col5{\n",
       "            background-color:  #046096;\n",
       "            color:  #f1f1f1;\n",
       "        }#T_89bddc98_3948_11eb_9973_dc5360402742row6_col7{\n",
       "            background-color:  #ebe6f2;\n",
       "            color:  #000000;\n",
       "        }#T_89bddc98_3948_11eb_9973_dc5360402742row6_col8{\n",
       "            background-color:  #0569a5;\n",
       "            color:  #f1f1f1;\n",
       "        }#T_89bddc98_3948_11eb_9973_dc5360402742row6_col9{\n",
       "            background-color:  #2081b9;\n",
       "            color:  #000000;\n",
       "        }#T_89bddc98_3948_11eb_9973_dc5360402742row6_col10{\n",
       "            background-color:  #e4e1ef;\n",
       "            color:  #000000;\n",
       "        }#T_89bddc98_3948_11eb_9973_dc5360402742row7_col0{\n",
       "            background-color:  #e5e1ef;\n",
       "            color:  #000000;\n",
       "        }#T_89bddc98_3948_11eb_9973_dc5360402742row7_col1,#T_89bddc98_3948_11eb_9973_dc5360402742row7_col2,#T_89bddc98_3948_11eb_9973_dc5360402742row10_col0{\n",
       "            background-color:  #f6eff7;\n",
       "            color:  #000000;\n",
       "        }#T_89bddc98_3948_11eb_9973_dc5360402742row7_col3{\n",
       "            background-color:  #c4cbe3;\n",
       "            color:  #000000;\n",
       "        }#T_89bddc98_3948_11eb_9973_dc5360402742row7_col4{\n",
       "            background-color:  #bdc8e1;\n",
       "            color:  #000000;\n",
       "        }#T_89bddc98_3948_11eb_9973_dc5360402742row7_col5{\n",
       "            background-color:  #8eb3d5;\n",
       "            color:  #000000;\n",
       "        }#T_89bddc98_3948_11eb_9973_dc5360402742row7_col6{\n",
       "            background-color:  #d8d7e9;\n",
       "            color:  #000000;\n",
       "        }#T_89bddc98_3948_11eb_9973_dc5360402742row8_col3{\n",
       "            background-color:  #6da6cd;\n",
       "            color:  #000000;\n",
       "        }#T_89bddc98_3948_11eb_9973_dc5360402742row8_col5{\n",
       "            background-color:  #023d60;\n",
       "            color:  #f1f1f1;\n",
       "        }#T_89bddc98_3948_11eb_9973_dc5360402742row8_col6{\n",
       "            background-color:  #0872b1;\n",
       "            color:  #f1f1f1;\n",
       "        }#T_89bddc98_3948_11eb_9973_dc5360402742row8_col7{\n",
       "            background-color:  #b4c4df;\n",
       "            color:  #000000;\n",
       "        }#T_89bddc98_3948_11eb_9973_dc5360402742row8_col9,#T_89bddc98_3948_11eb_9973_dc5360402742row9_col8{\n",
       "            background-color:  #034267;\n",
       "            color:  #f1f1f1;\n",
       "        }#T_89bddc98_3948_11eb_9973_dc5360402742row9_col0,#T_89bddc98_3948_11eb_9973_dc5360402742row10_col2{\n",
       "            background-color:  #fdf5fa;\n",
       "            color:  #000000;\n",
       "        }#T_89bddc98_3948_11eb_9973_dc5360402742row9_col2{\n",
       "            background-color:  #dad9ea;\n",
       "            color:  #000000;\n",
       "        }#T_89bddc98_3948_11eb_9973_dc5360402742row9_col4{\n",
       "            background-color:  #fef6fa;\n",
       "            color:  #000000;\n",
       "        }#T_89bddc98_3948_11eb_9973_dc5360402742row9_col5{\n",
       "            background-color:  #034973;\n",
       "            color:  #f1f1f1;\n",
       "        }#T_89bddc98_3948_11eb_9973_dc5360402742row9_col6{\n",
       "            background-color:  #4094c3;\n",
       "            color:  #000000;\n",
       "        }#T_89bddc98_3948_11eb_9973_dc5360402742row10_col1{\n",
       "            background-color:  #8bb2d4;\n",
       "            color:  #000000;\n",
       "        }#T_89bddc98_3948_11eb_9973_dc5360402742row10_col3{\n",
       "            background-color:  #e7e3f0;\n",
       "            color:  #000000;\n",
       "        }#T_89bddc98_3948_11eb_9973_dc5360402742row10_col7{\n",
       "            background-color:  #ece7f2;\n",
       "            color:  #000000;\n",
       "        }#T_89bddc98_3948_11eb_9973_dc5360402742row10_col8,#T_89bddc98_3948_11eb_9973_dc5360402742row10_col9{\n",
       "            background-color:  #f0eaf4;\n",
       "            color:  #000000;\n",
       "        }</style><table id=\"T_89bddc98_3948_11eb_9973_dc5360402742\" ><thead>    <tr>        <th class=\"blank level0\" ></th>        <th class=\"col_heading level0 col0\" >age</th>        <th class=\"col_heading level0 col1\" >duration</th>        <th class=\"col_heading level0 col2\" >campaign</th>        <th class=\"col_heading level0 col3\" >pdays</th>        <th class=\"col_heading level0 col4\" >previous</th>        <th class=\"col_heading level0 col5\" >emp_var_rate</th>        <th class=\"col_heading level0 col6\" >cons_price_idx</th>        <th class=\"col_heading level0 col7\" >cons_conf_idx</th>        <th class=\"col_heading level0 col8\" >euribor3m</th>        <th class=\"col_heading level0 col9\" >nr_employed</th>        <th class=\"col_heading level0 col10\" >y</th>    </tr></thead><tbody>\n",
       "                <tr>\n",
       "                        <th id=\"T_89bddc98_3948_11eb_9973_dc5360402742level0_row0\" class=\"row_heading level0 row0\" >age</th>\n",
       "                        <td id=\"T_89bddc98_3948_11eb_9973_dc5360402742row0_col0\" class=\"data row0 col0\" >1.000000</td>\n",
       "                        <td id=\"T_89bddc98_3948_11eb_9973_dc5360402742row0_col1\" class=\"data row0 col1\" >-0.000896</td>\n",
       "                        <td id=\"T_89bddc98_3948_11eb_9973_dc5360402742row0_col2\" class=\"data row0 col2\" >0.004570</td>\n",
       "                        <td id=\"T_89bddc98_3948_11eb_9973_dc5360402742row0_col3\" class=\"data row0 col3\" >-0.032912</td>\n",
       "                        <td id=\"T_89bddc98_3948_11eb_9973_dc5360402742row0_col4\" class=\"data row0 col4\" >0.024355</td>\n",
       "                        <td id=\"T_89bddc98_3948_11eb_9973_dc5360402742row0_col5\" class=\"data row0 col5\" >-0.000370</td>\n",
       "                        <td id=\"T_89bddc98_3948_11eb_9973_dc5360402742row0_col6\" class=\"data row0 col6\" >0.000839</td>\n",
       "                        <td id=\"T_89bddc98_3948_11eb_9973_dc5360402742row0_col7\" class=\"data row0 col7\" >0.129349</td>\n",
       "                        <td id=\"T_89bddc98_3948_11eb_9973_dc5360402742row0_col8\" class=\"data row0 col8\" >0.010775</td>\n",
       "                        <td id=\"T_89bddc98_3948_11eb_9973_dc5360402742row0_col9\" class=\"data row0 col9\" >-0.017710</td>\n",
       "                        <td id=\"T_89bddc98_3948_11eb_9973_dc5360402742row0_col10\" class=\"data row0 col10\" >0.030380</td>\n",
       "            </tr>\n",
       "            <tr>\n",
       "                        <th id=\"T_89bddc98_3948_11eb_9973_dc5360402742level0_row1\" class=\"row_heading level0 row1\" >duration</th>\n",
       "                        <td id=\"T_89bddc98_3948_11eb_9973_dc5360402742row1_col0\" class=\"data row1 col0\" >-0.000896</td>\n",
       "                        <td id=\"T_89bddc98_3948_11eb_9973_dc5360402742row1_col1\" class=\"data row1 col1\" >1.000000</td>\n",
       "                        <td id=\"T_89bddc98_3948_11eb_9973_dc5360402742row1_col2\" class=\"data row1 col2\" >-0.071699</td>\n",
       "                        <td id=\"T_89bddc98_3948_11eb_9973_dc5360402742row1_col3\" class=\"data row1 col3\" >-0.044035</td>\n",
       "                        <td id=\"T_89bddc98_3948_11eb_9973_dc5360402742row1_col4\" class=\"data row1 col4\" >0.020640</td>\n",
       "                        <td id=\"T_89bddc98_3948_11eb_9973_dc5360402742row1_col5\" class=\"data row1 col5\" >-0.027968</td>\n",
       "                        <td id=\"T_89bddc98_3948_11eb_9973_dc5360402742row1_col6\" class=\"data row1 col6\" >0.005312</td>\n",
       "                        <td id=\"T_89bddc98_3948_11eb_9973_dc5360402742row1_col7\" class=\"data row1 col7\" >-0.008173</td>\n",
       "                        <td id=\"T_89bddc98_3948_11eb_9973_dc5360402742row1_col8\" class=\"data row1 col8\" >-0.032897</td>\n",
       "                        <td id=\"T_89bddc98_3948_11eb_9973_dc5360402742row1_col9\" class=\"data row1 col9\" >-0.044703</td>\n",
       "                        <td id=\"T_89bddc98_3948_11eb_9973_dc5360402742row1_col10\" class=\"data row1 col10\" >0.405274</td>\n",
       "            </tr>\n",
       "            <tr>\n",
       "                        <th id=\"T_89bddc98_3948_11eb_9973_dc5360402742level0_row2\" class=\"row_heading level0 row2\" >campaign</th>\n",
       "                        <td id=\"T_89bddc98_3948_11eb_9973_dc5360402742row2_col0\" class=\"data row2 col0\" >0.004570</td>\n",
       "                        <td id=\"T_89bddc98_3948_11eb_9973_dc5360402742row2_col1\" class=\"data row2 col1\" >-0.071699</td>\n",
       "                        <td id=\"T_89bddc98_3948_11eb_9973_dc5360402742row2_col2\" class=\"data row2 col2\" >1.000000</td>\n",
       "                        <td id=\"T_89bddc98_3948_11eb_9973_dc5360402742row2_col3\" class=\"data row2 col3\" >0.045353</td>\n",
       "                        <td id=\"T_89bddc98_3948_11eb_9973_dc5360402742row2_col4\" class=\"data row2 col4\" >-0.079141</td>\n",
       "                        <td id=\"T_89bddc98_3948_11eb_9973_dc5360402742row2_col5\" class=\"data row2 col5\" >0.150754</td>\n",
       "                        <td id=\"T_89bddc98_3948_11eb_9973_dc5360402742row2_col6\" class=\"data row2 col6\" >0.127836</td>\n",
       "                        <td id=\"T_89bddc98_3948_11eb_9973_dc5360402742row2_col7\" class=\"data row2 col7\" >-0.013733</td>\n",
       "                        <td id=\"T_89bddc98_3948_11eb_9973_dc5360402742row2_col8\" class=\"data row2 col8\" >0.135133</td>\n",
       "                        <td id=\"T_89bddc98_3948_11eb_9973_dc5360402742row2_col9\" class=\"data row2 col9\" >0.144095</td>\n",
       "                        <td id=\"T_89bddc98_3948_11eb_9973_dc5360402742row2_col10\" class=\"data row2 col10\" >-0.066357</td>\n",
       "            </tr>\n",
       "            <tr>\n",
       "                        <th id=\"T_89bddc98_3948_11eb_9973_dc5360402742level0_row3\" class=\"row_heading level0 row3\" >pdays</th>\n",
       "                        <td id=\"T_89bddc98_3948_11eb_9973_dc5360402742row3_col0\" class=\"data row3 col0\" >-0.032912</td>\n",
       "                        <td id=\"T_89bddc98_3948_11eb_9973_dc5360402742row3_col1\" class=\"data row3 col1\" >-0.044035</td>\n",
       "                        <td id=\"T_89bddc98_3948_11eb_9973_dc5360402742row3_col2\" class=\"data row3 col2\" >0.045353</td>\n",
       "                        <td id=\"T_89bddc98_3948_11eb_9973_dc5360402742row3_col3\" class=\"data row3 col3\" >1.000000</td>\n",
       "                        <td id=\"T_89bddc98_3948_11eb_9973_dc5360402742row3_col4\" class=\"data row3 col4\" >-0.518260</td>\n",
       "                        <td id=\"T_89bddc98_3948_11eb_9973_dc5360402742row3_col5\" class=\"data row3 col5\" >0.241416</td>\n",
       "                        <td id=\"T_89bddc98_3948_11eb_9973_dc5360402742row3_col6\" class=\"data row3 col6\" >0.070331</td>\n",
       "                        <td id=\"T_89bddc98_3948_11eb_9973_dc5360402742row3_col7\" class=\"data row3 col7\" >-0.082578</td>\n",
       "                        <td id=\"T_89bddc98_3948_11eb_9973_dc5360402742row3_col8\" class=\"data row3 col8\" >0.263918</td>\n",
       "                        <td id=\"T_89bddc98_3948_11eb_9973_dc5360402742row3_col9\" class=\"data row3 col9\" >0.331380</td>\n",
       "                        <td id=\"T_89bddc98_3948_11eb_9973_dc5360402742row3_col10\" class=\"data row3 col10\" >-0.288609</td>\n",
       "            </tr>\n",
       "            <tr>\n",
       "                        <th id=\"T_89bddc98_3948_11eb_9973_dc5360402742level0_row4\" class=\"row_heading level0 row4\" >previous</th>\n",
       "                        <td id=\"T_89bddc98_3948_11eb_9973_dc5360402742row4_col0\" class=\"data row4 col0\" >0.024355</td>\n",
       "                        <td id=\"T_89bddc98_3948_11eb_9973_dc5360402742row4_col1\" class=\"data row4 col1\" >0.020640</td>\n",
       "                        <td id=\"T_89bddc98_3948_11eb_9973_dc5360402742row4_col2\" class=\"data row4 col2\" >-0.079141</td>\n",
       "                        <td id=\"T_89bddc98_3948_11eb_9973_dc5360402742row4_col3\" class=\"data row4 col3\" >-0.518260</td>\n",
       "                        <td id=\"T_89bddc98_3948_11eb_9973_dc5360402742row4_col4\" class=\"data row4 col4\" >1.000000</td>\n",
       "                        <td id=\"T_89bddc98_3948_11eb_9973_dc5360402742row4_col5\" class=\"data row4 col5\" >-0.420489</td>\n",
       "                        <td id=\"T_89bddc98_3948_11eb_9973_dc5360402742row4_col6\" class=\"data row4 col6\" >-0.203130</td>\n",
       "                        <td id=\"T_89bddc98_3948_11eb_9973_dc5360402742row4_col7\" class=\"data row4 col7\" >-0.050936</td>\n",
       "                        <td id=\"T_89bddc98_3948_11eb_9973_dc5360402742row4_col8\" class=\"data row4 col8\" >-0.454494</td>\n",
       "                        <td id=\"T_89bddc98_3948_11eb_9973_dc5360402742row4_col9\" class=\"data row4 col9\" >-0.501333</td>\n",
       "                        <td id=\"T_89bddc98_3948_11eb_9973_dc5360402742row4_col10\" class=\"data row4 col10\" >0.230181</td>\n",
       "            </tr>\n",
       "            <tr>\n",
       "                        <th id=\"T_89bddc98_3948_11eb_9973_dc5360402742level0_row5\" class=\"row_heading level0 row5\" >emp_var_rate</th>\n",
       "                        <td id=\"T_89bddc98_3948_11eb_9973_dc5360402742row5_col0\" class=\"data row5 col0\" >-0.000370</td>\n",
       "                        <td id=\"T_89bddc98_3948_11eb_9973_dc5360402742row5_col1\" class=\"data row5 col1\" >-0.027968</td>\n",
       "                        <td id=\"T_89bddc98_3948_11eb_9973_dc5360402742row5_col2\" class=\"data row5 col2\" >0.150754</td>\n",
       "                        <td id=\"T_89bddc98_3948_11eb_9973_dc5360402742row5_col3\" class=\"data row5 col3\" >0.241416</td>\n",
       "                        <td id=\"T_89bddc98_3948_11eb_9973_dc5360402742row5_col4\" class=\"data row5 col4\" >-0.420489</td>\n",
       "                        <td id=\"T_89bddc98_3948_11eb_9973_dc5360402742row5_col5\" class=\"data row5 col5\" >1.000000</td>\n",
       "                        <td id=\"T_89bddc98_3948_11eb_9973_dc5360402742row5_col6\" class=\"data row5 col6\" >0.775334</td>\n",
       "                        <td id=\"T_89bddc98_3948_11eb_9973_dc5360402742row5_col7\" class=\"data row5 col7\" >0.196041</td>\n",
       "                        <td id=\"T_89bddc98_3948_11eb_9973_dc5360402742row5_col8\" class=\"data row5 col8\" >0.972245</td>\n",
       "                        <td id=\"T_89bddc98_3948_11eb_9973_dc5360402742row5_col9\" class=\"data row5 col9\" >0.906970</td>\n",
       "                        <td id=\"T_89bddc98_3948_11eb_9973_dc5360402742row5_col10\" class=\"data row5 col10\" >-0.298334</td>\n",
       "            </tr>\n",
       "            <tr>\n",
       "                        <th id=\"T_89bddc98_3948_11eb_9973_dc5360402742level0_row6\" class=\"row_heading level0 row6\" >cons_price_idx</th>\n",
       "                        <td id=\"T_89bddc98_3948_11eb_9973_dc5360402742row6_col0\" class=\"data row6 col0\" >0.000839</td>\n",
       "                        <td id=\"T_89bddc98_3948_11eb_9973_dc5360402742row6_col1\" class=\"data row6 col1\" >0.005312</td>\n",
       "                        <td id=\"T_89bddc98_3948_11eb_9973_dc5360402742row6_col2\" class=\"data row6 col2\" >0.127836</td>\n",
       "                        <td id=\"T_89bddc98_3948_11eb_9973_dc5360402742row6_col3\" class=\"data row6 col3\" >0.070331</td>\n",
       "                        <td id=\"T_89bddc98_3948_11eb_9973_dc5360402742row6_col4\" class=\"data row6 col4\" >-0.203130</td>\n",
       "                        <td id=\"T_89bddc98_3948_11eb_9973_dc5360402742row6_col5\" class=\"data row6 col5\" >0.775334</td>\n",
       "                        <td id=\"T_89bddc98_3948_11eb_9973_dc5360402742row6_col6\" class=\"data row6 col6\" >1.000000</td>\n",
       "                        <td id=\"T_89bddc98_3948_11eb_9973_dc5360402742row6_col7\" class=\"data row6 col7\" >0.058986</td>\n",
       "                        <td id=\"T_89bddc98_3948_11eb_9973_dc5360402742row6_col8\" class=\"data row6 col8\" >0.688230</td>\n",
       "                        <td id=\"T_89bddc98_3948_11eb_9973_dc5360402742row6_col9\" class=\"data row6 col9\" >0.522034</td>\n",
       "                        <td id=\"T_89bddc98_3948_11eb_9973_dc5360402742row6_col10\" class=\"data row6 col10\" >-0.136211</td>\n",
       "            </tr>\n",
       "            <tr>\n",
       "                        <th id=\"T_89bddc98_3948_11eb_9973_dc5360402742level0_row7\" class=\"row_heading level0 row7\" >cons_conf_idx</th>\n",
       "                        <td id=\"T_89bddc98_3948_11eb_9973_dc5360402742row7_col0\" class=\"data row7 col0\" >0.129349</td>\n",
       "                        <td id=\"T_89bddc98_3948_11eb_9973_dc5360402742row7_col1\" class=\"data row7 col1\" >-0.008173</td>\n",
       "                        <td id=\"T_89bddc98_3948_11eb_9973_dc5360402742row7_col2\" class=\"data row7 col2\" >-0.013733</td>\n",
       "                        <td id=\"T_89bddc98_3948_11eb_9973_dc5360402742row7_col3\" class=\"data row7 col3\" >-0.082578</td>\n",
       "                        <td id=\"T_89bddc98_3948_11eb_9973_dc5360402742row7_col4\" class=\"data row7 col4\" >-0.050936</td>\n",
       "                        <td id=\"T_89bddc98_3948_11eb_9973_dc5360402742row7_col5\" class=\"data row7 col5\" >0.196041</td>\n",
       "                        <td id=\"T_89bddc98_3948_11eb_9973_dc5360402742row7_col6\" class=\"data row7 col6\" >0.058986</td>\n",
       "                        <td id=\"T_89bddc98_3948_11eb_9973_dc5360402742row7_col7\" class=\"data row7 col7\" >1.000000</td>\n",
       "                        <td id=\"T_89bddc98_3948_11eb_9973_dc5360402742row7_col8\" class=\"data row7 col8\" >0.277686</td>\n",
       "                        <td id=\"T_89bddc98_3948_11eb_9973_dc5360402742row7_col9\" class=\"data row7 col9\" >0.100513</td>\n",
       "                        <td id=\"T_89bddc98_3948_11eb_9973_dc5360402742row7_col10\" class=\"data row7 col10\" >0.054878</td>\n",
       "            </tr>\n",
       "            <tr>\n",
       "                        <th id=\"T_89bddc98_3948_11eb_9973_dc5360402742level0_row8\" class=\"row_heading level0 row8\" >euribor3m</th>\n",
       "                        <td id=\"T_89bddc98_3948_11eb_9973_dc5360402742row8_col0\" class=\"data row8 col0\" >0.010775</td>\n",
       "                        <td id=\"T_89bddc98_3948_11eb_9973_dc5360402742row8_col1\" class=\"data row8 col1\" >-0.032897</td>\n",
       "                        <td id=\"T_89bddc98_3948_11eb_9973_dc5360402742row8_col2\" class=\"data row8 col2\" >0.135133</td>\n",
       "                        <td id=\"T_89bddc98_3948_11eb_9973_dc5360402742row8_col3\" class=\"data row8 col3\" >0.263918</td>\n",
       "                        <td id=\"T_89bddc98_3948_11eb_9973_dc5360402742row8_col4\" class=\"data row8 col4\" >-0.454494</td>\n",
       "                        <td id=\"T_89bddc98_3948_11eb_9973_dc5360402742row8_col5\" class=\"data row8 col5\" >0.972245</td>\n",
       "                        <td id=\"T_89bddc98_3948_11eb_9973_dc5360402742row8_col6\" class=\"data row8 col6\" >0.688230</td>\n",
       "                        <td id=\"T_89bddc98_3948_11eb_9973_dc5360402742row8_col7\" class=\"data row8 col7\" >0.277686</td>\n",
       "                        <td id=\"T_89bddc98_3948_11eb_9973_dc5360402742row8_col8\" class=\"data row8 col8\" >1.000000</td>\n",
       "                        <td id=\"T_89bddc98_3948_11eb_9973_dc5360402742row8_col9\" class=\"data row8 col9\" >0.945154</td>\n",
       "                        <td id=\"T_89bddc98_3948_11eb_9973_dc5360402742row8_col10\" class=\"data row8 col10\" >-0.307771</td>\n",
       "            </tr>\n",
       "            <tr>\n",
       "                        <th id=\"T_89bddc98_3948_11eb_9973_dc5360402742level0_row9\" class=\"row_heading level0 row9\" >nr_employed</th>\n",
       "                        <td id=\"T_89bddc98_3948_11eb_9973_dc5360402742row9_col0\" class=\"data row9 col0\" >-0.017710</td>\n",
       "                        <td id=\"T_89bddc98_3948_11eb_9973_dc5360402742row9_col1\" class=\"data row9 col1\" >-0.044703</td>\n",
       "                        <td id=\"T_89bddc98_3948_11eb_9973_dc5360402742row9_col2\" class=\"data row9 col2\" >0.144095</td>\n",
       "                        <td id=\"T_89bddc98_3948_11eb_9973_dc5360402742row9_col3\" class=\"data row9 col3\" >0.331380</td>\n",
       "                        <td id=\"T_89bddc98_3948_11eb_9973_dc5360402742row9_col4\" class=\"data row9 col4\" >-0.501333</td>\n",
       "                        <td id=\"T_89bddc98_3948_11eb_9973_dc5360402742row9_col5\" class=\"data row9 col5\" >0.906970</td>\n",
       "                        <td id=\"T_89bddc98_3948_11eb_9973_dc5360402742row9_col6\" class=\"data row9 col6\" >0.522034</td>\n",
       "                        <td id=\"T_89bddc98_3948_11eb_9973_dc5360402742row9_col7\" class=\"data row9 col7\" >0.100513</td>\n",
       "                        <td id=\"T_89bddc98_3948_11eb_9973_dc5360402742row9_col8\" class=\"data row9 col8\" >0.945154</td>\n",
       "                        <td id=\"T_89bddc98_3948_11eb_9973_dc5360402742row9_col9\" class=\"data row9 col9\" >1.000000</td>\n",
       "                        <td id=\"T_89bddc98_3948_11eb_9973_dc5360402742row9_col10\" class=\"data row9 col10\" >-0.354678</td>\n",
       "            </tr>\n",
       "            <tr>\n",
       "                        <th id=\"T_89bddc98_3948_11eb_9973_dc5360402742level0_row10\" class=\"row_heading level0 row10\" >y</th>\n",
       "                        <td id=\"T_89bddc98_3948_11eb_9973_dc5360402742row10_col0\" class=\"data row10 col0\" >0.030380</td>\n",
       "                        <td id=\"T_89bddc98_3948_11eb_9973_dc5360402742row10_col1\" class=\"data row10 col1\" >0.405274</td>\n",
       "                        <td id=\"T_89bddc98_3948_11eb_9973_dc5360402742row10_col2\" class=\"data row10 col2\" >-0.066357</td>\n",
       "                        <td id=\"T_89bddc98_3948_11eb_9973_dc5360402742row10_col3\" class=\"data row10 col3\" >-0.288609</td>\n",
       "                        <td id=\"T_89bddc98_3948_11eb_9973_dc5360402742row10_col4\" class=\"data row10 col4\" >0.230181</td>\n",
       "                        <td id=\"T_89bddc98_3948_11eb_9973_dc5360402742row10_col5\" class=\"data row10 col5\" >-0.298334</td>\n",
       "                        <td id=\"T_89bddc98_3948_11eb_9973_dc5360402742row10_col6\" class=\"data row10 col6\" >-0.136211</td>\n",
       "                        <td id=\"T_89bddc98_3948_11eb_9973_dc5360402742row10_col7\" class=\"data row10 col7\" >0.054878</td>\n",
       "                        <td id=\"T_89bddc98_3948_11eb_9973_dc5360402742row10_col8\" class=\"data row10 col8\" >-0.307771</td>\n",
       "                        <td id=\"T_89bddc98_3948_11eb_9973_dc5360402742row10_col9\" class=\"data row10 col9\" >-0.354678</td>\n",
       "                        <td id=\"T_89bddc98_3948_11eb_9973_dc5360402742row10_col10\" class=\"data row10 col10\" >1.000000</td>\n",
       "            </tr>\n",
       "    </tbody></table>"
      ],
      "text/plain": [
       "<pandas.io.formats.style.Styler at 0x14263550>"
      ]
     },
     "execution_count": 28,
     "metadata": {},
     "output_type": "execute_result"
    }
   ],
   "source": [
    "# Build correlation matrix for numerical columns\n",
    "corr = df.corr()\n",
    "corr.style.background_gradient(cmap='PuBu')\n",
    "\n",
    "#of the numerical categories, the only worth noting are: 'duration', 'pdays', \n",
    "#'emp_var_rate', 'euribor3m', 'nr_employed', 'previous'. The rest have little importance"
   ]
  },
  {
   "cell_type": "markdown",
   "metadata": {},
   "source": [
    "## Categorical Variable Encoding"
   ]
  },
  {
   "cell_type": "code",
   "execution_count": 29,
   "metadata": {},
   "outputs": [
    {
     "data": {
      "text/html": [
       "<div>\n",
       "<style scoped>\n",
       "    .dataframe tbody tr th:only-of-type {\n",
       "        vertical-align: middle;\n",
       "    }\n",
       "\n",
       "    .dataframe tbody tr th {\n",
       "        vertical-align: top;\n",
       "    }\n",
       "\n",
       "    .dataframe thead th {\n",
       "        text-align: right;\n",
       "    }\n",
       "</style>\n",
       "<table border=\"1\" class=\"dataframe\">\n",
       "  <thead>\n",
       "    <tr style=\"text-align: right;\">\n",
       "      <th></th>\n",
       "      <th>age</th>\n",
       "      <th>job</th>\n",
       "      <th>month</th>\n",
       "      <th>day_of_week</th>\n",
       "      <th>duration</th>\n",
       "      <th>campaign</th>\n",
       "      <th>pdays</th>\n",
       "      <th>previous</th>\n",
       "      <th>poutcome</th>\n",
       "      <th>emp_var_rate</th>\n",
       "      <th>...</th>\n",
       "      <th>unknown</th>\n",
       "      <th>yes</th>\n",
       "      <th>basic.4y</th>\n",
       "      <th>basic.6y</th>\n",
       "      <th>basic.9y</th>\n",
       "      <th>high.school</th>\n",
       "      <th>illiterate</th>\n",
       "      <th>professional.course</th>\n",
       "      <th>university.degree</th>\n",
       "      <th>unknown</th>\n",
       "    </tr>\n",
       "  </thead>\n",
       "  <tbody>\n",
       "    <tr>\n",
       "      <th>0</th>\n",
       "      <td>44</td>\n",
       "      <td>blue-collar</td>\n",
       "      <td>aug</td>\n",
       "      <td>thu</td>\n",
       "      <td>210</td>\n",
       "      <td>1</td>\n",
       "      <td>999.0</td>\n",
       "      <td>0</td>\n",
       "      <td>nonexistent</td>\n",
       "      <td>1.4</td>\n",
       "      <td>...</td>\n",
       "      <td>1</td>\n",
       "      <td>0</td>\n",
       "      <td>1</td>\n",
       "      <td>0</td>\n",
       "      <td>0</td>\n",
       "      <td>0</td>\n",
       "      <td>0</td>\n",
       "      <td>0</td>\n",
       "      <td>0</td>\n",
       "      <td>0</td>\n",
       "    </tr>\n",
       "    <tr>\n",
       "      <th>1</th>\n",
       "      <td>53</td>\n",
       "      <td>technician</td>\n",
       "      <td>nov</td>\n",
       "      <td>fri</td>\n",
       "      <td>138</td>\n",
       "      <td>1</td>\n",
       "      <td>999.0</td>\n",
       "      <td>0</td>\n",
       "      <td>nonexistent</td>\n",
       "      <td>-0.1</td>\n",
       "      <td>...</td>\n",
       "      <td>0</td>\n",
       "      <td>0</td>\n",
       "      <td>0</td>\n",
       "      <td>0</td>\n",
       "      <td>0</td>\n",
       "      <td>0</td>\n",
       "      <td>0</td>\n",
       "      <td>0</td>\n",
       "      <td>0</td>\n",
       "      <td>1</td>\n",
       "    </tr>\n",
       "    <tr>\n",
       "      <th>2</th>\n",
       "      <td>28</td>\n",
       "      <td>management</td>\n",
       "      <td>jun</td>\n",
       "      <td>thu</td>\n",
       "      <td>339</td>\n",
       "      <td>3</td>\n",
       "      <td>6.0</td>\n",
       "      <td>2</td>\n",
       "      <td>success</td>\n",
       "      <td>-1.7</td>\n",
       "      <td>...</td>\n",
       "      <td>0</td>\n",
       "      <td>0</td>\n",
       "      <td>0</td>\n",
       "      <td>0</td>\n",
       "      <td>0</td>\n",
       "      <td>0</td>\n",
       "      <td>0</td>\n",
       "      <td>0</td>\n",
       "      <td>1</td>\n",
       "      <td>0</td>\n",
       "    </tr>\n",
       "    <tr>\n",
       "      <th>3</th>\n",
       "      <td>39</td>\n",
       "      <td>services</td>\n",
       "      <td>apr</td>\n",
       "      <td>fri</td>\n",
       "      <td>185</td>\n",
       "      <td>2</td>\n",
       "      <td>999.0</td>\n",
       "      <td>0</td>\n",
       "      <td>nonexistent</td>\n",
       "      <td>-1.8</td>\n",
       "      <td>...</td>\n",
       "      <td>0</td>\n",
       "      <td>0</td>\n",
       "      <td>0</td>\n",
       "      <td>0</td>\n",
       "      <td>0</td>\n",
       "      <td>1</td>\n",
       "      <td>0</td>\n",
       "      <td>0</td>\n",
       "      <td>0</td>\n",
       "      <td>0</td>\n",
       "    </tr>\n",
       "    <tr>\n",
       "      <th>4</th>\n",
       "      <td>55</td>\n",
       "      <td>retired</td>\n",
       "      <td>aug</td>\n",
       "      <td>fri</td>\n",
       "      <td>137</td>\n",
       "      <td>1</td>\n",
       "      <td>3.0</td>\n",
       "      <td>1</td>\n",
       "      <td>success</td>\n",
       "      <td>-2.9</td>\n",
       "      <td>...</td>\n",
       "      <td>0</td>\n",
       "      <td>0</td>\n",
       "      <td>1</td>\n",
       "      <td>0</td>\n",
       "      <td>0</td>\n",
       "      <td>0</td>\n",
       "      <td>0</td>\n",
       "      <td>0</td>\n",
       "      <td>0</td>\n",
       "      <td>0</td>\n",
       "    </tr>\n",
       "  </tbody>\n",
       "</table>\n",
       "<p>5 rows × 38 columns</p>\n",
       "</div>"
      ],
      "text/plain": [
       "   age          job month day_of_week  duration  campaign  pdays  previous  \\\n",
       "0   44  blue-collar   aug         thu       210         1  999.0         0   \n",
       "1   53   technician   nov         fri       138         1  999.0         0   \n",
       "2   28   management   jun         thu       339         3    6.0         2   \n",
       "3   39     services   apr         fri       185         2  999.0         0   \n",
       "4   55      retired   aug         fri       137         1    3.0         1   \n",
       "\n",
       "      poutcome  emp_var_rate  ...  unknown  yes  basic.4y  basic.6y  basic.9y  \\\n",
       "0  nonexistent           1.4  ...        1    0         1         0         0   \n",
       "1  nonexistent          -0.1  ...        0    0         0         0         0   \n",
       "2      success          -1.7  ...        0    0         0         0         0   \n",
       "3  nonexistent          -1.8  ...        0    0         0         0         0   \n",
       "4      success          -2.9  ...        0    0         1         0         0   \n",
       "\n",
       "   high.school  illiterate  professional.course  university.degree  unknown  \n",
       "0            0           0                    0                  0        0  \n",
       "1            0           0                    0                  0        1  \n",
       "2            0           0                    0                  1        0  \n",
       "3            1           0                    0                  0        0  \n",
       "4            0           0                    0                  0        0  \n",
       "\n",
       "[5 rows x 38 columns]"
      ]
     },
     "execution_count": 29,
     "metadata": {},
     "output_type": "execute_result"
    }
   ],
   "source": [
    "# Making dummy variables of category columns:\n",
    "df_dummies = pd.get_dummies(df, prefix='', prefix_sep='', \n",
    "                            columns=['contact', 'loan', 'housing', 'marital', 'default', 'education'])\n",
    "df_dummies.head()"
   ]
  },
  {
   "cell_type": "code",
   "execution_count": 30,
   "metadata": {},
   "outputs": [
    {
     "name": "stdout",
     "output_type": "stream",
     "text": [
      "<class 'pandas.core.frame.DataFrame'>\n",
      "RangeIndex: 41188 entries, 0 to 41187\n",
      "Data columns (total 38 columns):\n",
      " #   Column               Non-Null Count  Dtype  \n",
      "---  ------               --------------  -----  \n",
      " 0   age                  41188 non-null  int64  \n",
      " 1   job                  41188 non-null  object \n",
      " 2   month                41188 non-null  object \n",
      " 3   day_of_week          41188 non-null  object \n",
      " 4   duration             41188 non-null  int64  \n",
      " 5   campaign             41188 non-null  int64  \n",
      " 6   pdays                41188 non-null  float64\n",
      " 7   previous             41188 non-null  int64  \n",
      " 8   poutcome             41188 non-null  object \n",
      " 9   emp_var_rate         41188 non-null  float64\n",
      " 10  cons_price_idx       41188 non-null  float64\n",
      " 11  cons_conf_idx        41188 non-null  float64\n",
      " 12  euribor3m            41188 non-null  float64\n",
      " 13  nr_employed          41188 non-null  float64\n",
      " 14  y                    41188 non-null  int64  \n",
      " 15  cellular             41188 non-null  uint8  \n",
      " 16  telephone            41188 non-null  uint8  \n",
      " 17  no                   41188 non-null  uint8  \n",
      " 18  unknown              41188 non-null  uint8  \n",
      " 19  yes                  41188 non-null  uint8  \n",
      " 20  no                   41188 non-null  uint8  \n",
      " 21  unknown              41188 non-null  uint8  \n",
      " 22  yes                  41188 non-null  uint8  \n",
      " 23  divorced             41188 non-null  uint8  \n",
      " 24  married              41188 non-null  uint8  \n",
      " 25  single               41188 non-null  uint8  \n",
      " 26  unknown              41188 non-null  uint8  \n",
      " 27  no                   41188 non-null  uint8  \n",
      " 28  unknown              41188 non-null  uint8  \n",
      " 29  yes                  41188 non-null  uint8  \n",
      " 30  basic.4y             41188 non-null  uint8  \n",
      " 31  basic.6y             41188 non-null  uint8  \n",
      " 32  basic.9y             41188 non-null  uint8  \n",
      " 33  high.school          41188 non-null  uint8  \n",
      " 34  illiterate           41188 non-null  uint8  \n",
      " 35  professional.course  41188 non-null  uint8  \n",
      " 36  university.degree    41188 non-null  uint8  \n",
      " 37  unknown              41188 non-null  uint8  \n",
      "dtypes: float64(6), int64(5), object(4), uint8(23)\n",
      "memory usage: 5.0+ MB\n"
     ]
    }
   ],
   "source": [
    "df_dummies.info()\n",
    "\n",
    "#im not liking the dummie variables, will make diffrent dummy variables"
   ]
  },
  {
   "cell_type": "code",
   "execution_count": 31,
   "metadata": {},
   "outputs": [
    {
     "data": {
      "text/html": [
       "<div>\n",
       "<style scoped>\n",
       "    .dataframe tbody tr th:only-of-type {\n",
       "        vertical-align: middle;\n",
       "    }\n",
       "\n",
       "    .dataframe tbody tr th {\n",
       "        vertical-align: top;\n",
       "    }\n",
       "\n",
       "    .dataframe thead th {\n",
       "        text-align: right;\n",
       "    }\n",
       "</style>\n",
       "<table border=\"1\" class=\"dataframe\">\n",
       "  <thead>\n",
       "    <tr style=\"text-align: right;\">\n",
       "      <th></th>\n",
       "      <th>age</th>\n",
       "      <th>job</th>\n",
       "      <th>marital</th>\n",
       "      <th>education</th>\n",
       "      <th>default</th>\n",
       "      <th>housing</th>\n",
       "      <th>loan</th>\n",
       "      <th>contact</th>\n",
       "      <th>month</th>\n",
       "      <th>day_of_week</th>\n",
       "      <th>...</th>\n",
       "      <th>campaign</th>\n",
       "      <th>pdays</th>\n",
       "      <th>previous</th>\n",
       "      <th>poutcome</th>\n",
       "      <th>emp_var_rate</th>\n",
       "      <th>cons_price_idx</th>\n",
       "      <th>cons_conf_idx</th>\n",
       "      <th>euribor3m</th>\n",
       "      <th>nr_employed</th>\n",
       "      <th>y</th>\n",
       "    </tr>\n",
       "  </thead>\n",
       "  <tbody>\n",
       "    <tr>\n",
       "      <th>0</th>\n",
       "      <td>44</td>\n",
       "      <td>blue-collar</td>\n",
       "      <td>married</td>\n",
       "      <td>basic.4y</td>\n",
       "      <td>unknown</td>\n",
       "      <td>yes</td>\n",
       "      <td>no</td>\n",
       "      <td>cellular</td>\n",
       "      <td>aug</td>\n",
       "      <td>thu</td>\n",
       "      <td>...</td>\n",
       "      <td>1</td>\n",
       "      <td>999.0</td>\n",
       "      <td>0</td>\n",
       "      <td>nonexistent</td>\n",
       "      <td>1.4</td>\n",
       "      <td>93.444</td>\n",
       "      <td>-36.1</td>\n",
       "      <td>4.963</td>\n",
       "      <td>5228.1</td>\n",
       "      <td>0</td>\n",
       "    </tr>\n",
       "    <tr>\n",
       "      <th>1</th>\n",
       "      <td>53</td>\n",
       "      <td>technician</td>\n",
       "      <td>married</td>\n",
       "      <td>unknown</td>\n",
       "      <td>no</td>\n",
       "      <td>no</td>\n",
       "      <td>no</td>\n",
       "      <td>cellular</td>\n",
       "      <td>nov</td>\n",
       "      <td>fri</td>\n",
       "      <td>...</td>\n",
       "      <td>1</td>\n",
       "      <td>999.0</td>\n",
       "      <td>0</td>\n",
       "      <td>nonexistent</td>\n",
       "      <td>-0.1</td>\n",
       "      <td>93.200</td>\n",
       "      <td>-42.0</td>\n",
       "      <td>4.021</td>\n",
       "      <td>5195.8</td>\n",
       "      <td>0</td>\n",
       "    </tr>\n",
       "    <tr>\n",
       "      <th>2</th>\n",
       "      <td>28</td>\n",
       "      <td>management</td>\n",
       "      <td>single</td>\n",
       "      <td>university.degree</td>\n",
       "      <td>no</td>\n",
       "      <td>yes</td>\n",
       "      <td>no</td>\n",
       "      <td>cellular</td>\n",
       "      <td>jun</td>\n",
       "      <td>thu</td>\n",
       "      <td>...</td>\n",
       "      <td>3</td>\n",
       "      <td>6.0</td>\n",
       "      <td>2</td>\n",
       "      <td>success</td>\n",
       "      <td>-1.7</td>\n",
       "      <td>94.055</td>\n",
       "      <td>-39.8</td>\n",
       "      <td>0.729</td>\n",
       "      <td>4991.6</td>\n",
       "      <td>1</td>\n",
       "    </tr>\n",
       "    <tr>\n",
       "      <th>3</th>\n",
       "      <td>39</td>\n",
       "      <td>services</td>\n",
       "      <td>married</td>\n",
       "      <td>high.school</td>\n",
       "      <td>no</td>\n",
       "      <td>no</td>\n",
       "      <td>no</td>\n",
       "      <td>cellular</td>\n",
       "      <td>apr</td>\n",
       "      <td>fri</td>\n",
       "      <td>...</td>\n",
       "      <td>2</td>\n",
       "      <td>999.0</td>\n",
       "      <td>0</td>\n",
       "      <td>nonexistent</td>\n",
       "      <td>-1.8</td>\n",
       "      <td>93.075</td>\n",
       "      <td>-47.1</td>\n",
       "      <td>1.405</td>\n",
       "      <td>5099.1</td>\n",
       "      <td>0</td>\n",
       "    </tr>\n",
       "    <tr>\n",
       "      <th>4</th>\n",
       "      <td>55</td>\n",
       "      <td>retired</td>\n",
       "      <td>married</td>\n",
       "      <td>basic.4y</td>\n",
       "      <td>no</td>\n",
       "      <td>yes</td>\n",
       "      <td>no</td>\n",
       "      <td>cellular</td>\n",
       "      <td>aug</td>\n",
       "      <td>fri</td>\n",
       "      <td>...</td>\n",
       "      <td>1</td>\n",
       "      <td>3.0</td>\n",
       "      <td>1</td>\n",
       "      <td>success</td>\n",
       "      <td>-2.9</td>\n",
       "      <td>92.201</td>\n",
       "      <td>-31.4</td>\n",
       "      <td>0.869</td>\n",
       "      <td>5076.2</td>\n",
       "      <td>1</td>\n",
       "    </tr>\n",
       "  </tbody>\n",
       "</table>\n",
       "<p>5 rows × 21 columns</p>\n",
       "</div>"
      ],
      "text/plain": [
       "   age          job  marital          education  default housing loan  \\\n",
       "0   44  blue-collar  married           basic.4y  unknown     yes   no   \n",
       "1   53   technician  married            unknown       no      no   no   \n",
       "2   28   management   single  university.degree       no     yes   no   \n",
       "3   39     services  married        high.school       no      no   no   \n",
       "4   55      retired  married           basic.4y       no     yes   no   \n",
       "\n",
       "    contact month day_of_week  ...  campaign  pdays  previous     poutcome  \\\n",
       "0  cellular   aug         thu  ...         1  999.0         0  nonexistent   \n",
       "1  cellular   nov         fri  ...         1  999.0         0  nonexistent   \n",
       "2  cellular   jun         thu  ...         3    6.0         2      success   \n",
       "3  cellular   apr         fri  ...         2  999.0         0  nonexistent   \n",
       "4  cellular   aug         fri  ...         1    3.0         1      success   \n",
       "\n",
       "  emp_var_rate  cons_price_idx  cons_conf_idx  euribor3m  nr_employed  y  \n",
       "0          1.4          93.444          -36.1      4.963       5228.1  0  \n",
       "1         -0.1          93.200          -42.0      4.021       5195.8  0  \n",
       "2         -1.7          94.055          -39.8      0.729       4991.6  1  \n",
       "3         -1.8          93.075          -47.1      1.405       5099.1  0  \n",
       "4         -2.9          92.201          -31.4      0.869       5076.2  1  \n",
       "\n",
       "[5 rows x 21 columns]"
      ]
     },
     "execution_count": 31,
     "metadata": {},
     "output_type": "execute_result"
    }
   ],
   "source": [
    "df.head()"
   ]
  },
  {
   "cell_type": "code",
   "execution_count": 32,
   "metadata": {},
   "outputs": [
    {
     "data": {
      "text/plain": [
       "failure    39815\n",
       "success     1373\n",
       "Name: poutcome, dtype: int64"
      ]
     },
     "execution_count": 32,
     "metadata": {},
     "output_type": "execute_result"
    }
   ],
   "source": [
    "#turn categories to binary options to make dummies easier\n",
    "df2=df.copy()\n",
    "\n",
    "#turn education to college vs no.college \n",
    "df2['education'] = df2['education'].replace(['basic.4y','basic.6y','basic.9y',\n",
    "                                           'high.school','illiterate','unknown'],'no.higher.education')\n",
    "df2['education'] = df2['education'].replace(['university.degree', 'professional.course'],'higher.education')\n",
    "\n",
    "#turn marital to married vs not.married \n",
    "df2['marital'] = df2['marital'].replace(['divorced','single','unknown'],'not.married')\n",
    "df2['marital'] = df2['marital'].replace('married', 'married')\n",
    "\n",
    "#turn housing no.housing vs housing \n",
    "df2['housing']=df2['housing'].replace(['unknown','no'], 'no.housing')\n",
    "df2['housing']=df2['housing'].replace('yes', 'housing')\n",
    "\n",
    "#turn default to defualted vs no.default\n",
    "df2['default']=df2['default'].replace(['no','unknown'],'no.defualt')\n",
    "df2['default']=df2['default'].replace('yes','defaulted')\n",
    "\n",
    "#turn loan to loan vs no.loan\n",
    "df2['loan']=df2['loan'].replace(['no','unknown'],'no.loan')\n",
    "df2['loan']=df2['loan'].replace('yes','loan')\n",
    "\n",
    "#turn poutcome to success vs failure\n",
    "df2['poutcome']=df2['poutcome'].replace(['nonexistent','failure'],'failure')\n",
    "df2['poutcome']=df2['poutcome'].replace('success','success')\n",
    "\n",
    "df2['poutcome'].value_counts()"
   ]
  },
  {
   "cell_type": "code",
   "execution_count": 33,
   "metadata": {},
   "outputs": [
    {
     "data": {
      "text/plain": [
       "0    34940\n",
       "1     6248\n",
       "Name: loan, dtype: int64"
      ]
     },
     "execution_count": 33,
     "metadata": {},
     "output_type": "execute_result"
    }
   ],
   "source": [
    "#turn categories to binary values incase it is needed leater\n",
    "df3=df.copy()\n",
    "\n",
    "#education \n",
    "df3['education'] = df3['education'].replace(['basic.4y','basic.6y','basic.9y',\n",
    "                                           'high.school','illiterate','unknown'],0)\n",
    "df3['education'] = df3['education'].replace(['university.degree', 'professional.course'],1)\n",
    "\n",
    "#turn marital to married vs not.married \n",
    "df3['marital'] = df3['marital'].replace(['divorced','single','unknown'],0)\n",
    "df3['marital'] = df3['marital'].replace('married', 1)\n",
    "\n",
    "#turn housing no.housing vs housing \n",
    "df3['housing']=df3['housing'].replace(['unknown','no'], 0)\n",
    "df3['housing']=df3['housing'].replace('yes', 1)\n",
    "\n",
    "#turn default to defualted vs no.default\n",
    "df3['default']=df3['default'].replace(['no','unknown'],0)\n",
    "df3['default']=df3['default'].replace('yes',1)\n",
    "\n",
    "#turn loan to loan vs no.loan\n",
    "df3['loan']=df3['loan'].replace(['no','unknown'],0)\n",
    "df3['loan']=df3['loan'].replace('yes',1)\n",
    "\n",
    "#turn poutcome to success vs failure\n",
    "df3['poutcome']=df3['poutcome'].replace(['nonexistent','failure'],0)\n",
    "df3['poutcome']=df3['poutcome'].replace('success',1)\n",
    "\n",
    "df3['loan'].value_counts()"
   ]
  },
  {
   "cell_type": "code",
   "execution_count": 34,
   "metadata": {},
   "outputs": [],
   "source": [
    "# Build a function to show categorical values disribution using regular bar graphs\n",
    "\n",
    "def plot_bar1(column):\n",
    "    # temp df \n",
    "    temp_1 = pd.DataFrame()\n",
    "    # count categorical values\n",
    "    temp_1['No_deposit'] = df2[df2['y'] == 0][column].value_counts()\n",
    "    temp_1['Yes_deposit'] = df2[df2['y'] == 1][column].value_counts()\n",
    "    temp_1.plot(kind='bar')\n",
    "    plt.xlabel(f'{column}')\n",
    "    plt.ylabel('Number of clients')\n",
    "    plt.title('Distribution of {} and deposit'.format(column))\n",
    "    plt.show();"
   ]
  },
  {
   "cell_type": "code",
   "execution_count": 35,
   "metadata": {},
   "outputs": [
    {
     "data": {
      "image/png": "[encoded data removed]",
      "text/plain": [
       "<Figure size 432x288 with 1 Axes>"
      ]
     },
     "metadata": {
      "needs_background": "light"
     },
     "output_type": "display_data"
    },
    {
     "data": {
      "image/png": "[encoded data removed]",
      "text/plain": [
       "<Figure size 432x288 with 1 Axes>"
      ]
     },
     "metadata": {
      "needs_background": "light"
     },
     "output_type": "display_data"
    },
    {
     "data": {
      "image/png": "[encoded data removed]",
      "text/plain": [
       "<Figure size 432x288 with 1 Axes>"
      ]
     },
     "metadata": {
      "needs_background": "light"
     },
     "output_type": "display_data"
    },
    {
     "data": {
      "image/png": "[encoded data removed]",
      "text/plain": [
       "<Figure size 432x288 with 1 Axes>"
      ]
     },
     "metadata": {
      "needs_background": "light"
     },
     "output_type": "display_data"
    },
    {
     "data": {
      "image/png": "[encoded data removed]",
      "text/plain": [
       "<Figure size 432x288 with 1 Axes>"
      ]
     },
     "metadata": {
      "needs_background": "light"
     },
     "output_type": "display_data"
    },
    {
     "data": {
      "image/png": "[encoded data removed]",
      "text/plain": [
       "<Figure size 432x288 with 1 Axes>"
      ]
     },
     "metadata": {
      "needs_background": "light"
     },
     "output_type": "display_data"
    },
    {
     "data": {
      "image/png": "[encoded data removed]",
      "text/plain": [
       "<Figure size 432x288 with 1 Axes>"
      ]
     },
     "metadata": {
      "needs_background": "light"
     },
     "output_type": "display_data"
    },
    {
     "data": {
      "image/png": "[encoded data removed]",
      "text/plain": [
       "<Figure size 432x288 with 1 Axes>"
      ]
     },
     "metadata": {
      "needs_background": "light"
     },
     "output_type": "display_data"
    },
    {
     "data": {
      "image/png": "[encoded data removed]",
      "text/plain": [
       "<Figure size 432x288 with 1 Axes>"
      ]
     },
     "metadata": {
      "needs_background": "light"
     },
     "output_type": "display_data"
    },
    {
     "data": {
      "image/png": "[encoded data removed]",
      "text/plain": [
       "<Figure size 432x288 with 1 Axes>"
      ]
     },
     "metadata": {
      "needs_background": "light"
     },
     "output_type": "display_data"
    },
    {
     "data": {
      "image/png": "[encoded data removed]",
      "text/plain": [
       "<Figure size 432x288 with 1 Axes>"
      ]
     },
     "metadata": {
      "needs_background": "light"
     },
     "output_type": "display_data"
    },
    {
     "data": {
      "text/plain": [
       "(None, None, None)"
      ]
     },
     "execution_count": 35,
     "metadata": {},
     "output_type": "execute_result"
    }
   ],
   "source": [
    "plot_bar1('job'), plot_bar1('marital'), plot_bar1('education'), plot_bar1('contact'), \n",
    "plot_bar1('loan'), plot_bar1('contact'), plot_bar1('housing'), plot_bar1('default'), \n",
    "plot_bar1('day_of_week'), plot_bar1('month'), plot_bar1('poutcome')"
   ]
  },
  {
   "cell_type": "code",
   "execution_count": 36,
   "metadata": {},
   "outputs": [
    {
     "data": {
      "text/html": [
       "<div>\n",
       "<style scoped>\n",
       "    .dataframe tbody tr th:only-of-type {\n",
       "        vertical-align: middle;\n",
       "    }\n",
       "\n",
       "    .dataframe tbody tr th {\n",
       "        vertical-align: top;\n",
       "    }\n",
       "\n",
       "    .dataframe thead tr th {\n",
       "        text-align: left;\n",
       "    }\n",
       "\n",
       "    .dataframe thead tr:last-of-type th {\n",
       "        text-align: right;\n",
       "    }\n",
       "</style>\n",
       "<table border=\"1\" class=\"dataframe\">\n",
       "  <thead>\n",
       "    <tr>\n",
       "      <th></th>\n",
       "      <th>y</th>\n",
       "    </tr>\n",
       "    <tr>\n",
       "      <th></th>\n",
       "      <th>mean</th>\n",
       "    </tr>\n",
       "    <tr>\n",
       "      <th>marital</th>\n",
       "      <th></th>\n",
       "    </tr>\n",
       "  </thead>\n",
       "  <tbody>\n",
       "    <tr>\n",
       "      <th>married</th>\n",
       "      <td>0.101573</td>\n",
       "    </tr>\n",
       "    <tr>\n",
       "      <th>not.married</th>\n",
       "      <td>0.129643</td>\n",
       "    </tr>\n",
       "  </tbody>\n",
       "</table>\n",
       "</div>"
      ],
      "text/plain": [
       "                    y\n",
       "                 mean\n",
       "marital              \n",
       "married      0.101573\n",
       "not.married  0.129643"
      ]
     },
     "execution_count": 36,
     "metadata": {},
     "output_type": "execute_result"
    }
   ],
   "source": [
    "#will use ''.groupby' with aggregation to determine ratios for marital\n",
    "results = df2.groupby('marital').agg({'y':['mean']}, axis=1)\n",
    "results\n",
    "\n",
    "#it seems as if marital status doesn't heavily influnence deposit rates"
   ]
  },
  {
   "cell_type": "code",
   "execution_count": 37,
   "metadata": {},
   "outputs": [
    {
     "data": {
      "text/html": [
       "<div>\n",
       "<style scoped>\n",
       "    .dataframe tbody tr th:only-of-type {\n",
       "        vertical-align: middle;\n",
       "    }\n",
       "\n",
       "    .dataframe tbody tr th {\n",
       "        vertical-align: top;\n",
       "    }\n",
       "\n",
       "    .dataframe thead tr th {\n",
       "        text-align: left;\n",
       "    }\n",
       "\n",
       "    .dataframe thead tr:last-of-type th {\n",
       "        text-align: right;\n",
       "    }\n",
       "</style>\n",
       "<table border=\"1\" class=\"dataframe\">\n",
       "  <thead>\n",
       "    <tr>\n",
       "      <th></th>\n",
       "      <th>y</th>\n",
       "    </tr>\n",
       "    <tr>\n",
       "      <th></th>\n",
       "      <th>mean</th>\n",
       "    </tr>\n",
       "    <tr>\n",
       "      <th>housing</th>\n",
       "      <th></th>\n",
       "    </tr>\n",
       "  </thead>\n",
       "  <tbody>\n",
       "    <tr>\n",
       "      <th>housing</th>\n",
       "      <td>0.116194</td>\n",
       "    </tr>\n",
       "    <tr>\n",
       "      <th>no.housing</th>\n",
       "      <td>0.108760</td>\n",
       "    </tr>\n",
       "  </tbody>\n",
       "</table>\n",
       "</div>"
      ],
      "text/plain": [
       "                   y\n",
       "                mean\n",
       "housing             \n",
       "housing     0.116194\n",
       "no.housing  0.108760"
      ]
     },
     "execution_count": 37,
     "metadata": {},
     "output_type": "execute_result"
    }
   ],
   "source": [
    "#will use ''.groupby' with aggregation to determine ratios for marital\n",
    "results = df2.groupby('housing').agg({'y':['mean']}, axis=1)\n",
    "results\n",
    "\n",
    "#it seems as if housing status doesn't heavily influnence deposit rates"
   ]
  },
  {
   "cell_type": "code",
   "execution_count": 38,
   "metadata": {},
   "outputs": [
    {
     "data": {
      "text/html": [
       "<div>\n",
       "<style scoped>\n",
       "    .dataframe tbody tr th:only-of-type {\n",
       "        vertical-align: middle;\n",
       "    }\n",
       "\n",
       "    .dataframe tbody tr th {\n",
       "        vertical-align: top;\n",
       "    }\n",
       "\n",
       "    .dataframe thead tr th {\n",
       "        text-align: left;\n",
       "    }\n",
       "\n",
       "    .dataframe thead tr:last-of-type th {\n",
       "        text-align: right;\n",
       "    }\n",
       "</style>\n",
       "<table border=\"1\" class=\"dataframe\">\n",
       "  <thead>\n",
       "    <tr>\n",
       "      <th></th>\n",
       "      <th>y</th>\n",
       "    </tr>\n",
       "    <tr>\n",
       "      <th></th>\n",
       "      <th>mean</th>\n",
       "    </tr>\n",
       "    <tr>\n",
       "      <th>default</th>\n",
       "      <th></th>\n",
       "    </tr>\n",
       "  </thead>\n",
       "  <tbody>\n",
       "    <tr>\n",
       "      <th>defaulted</th>\n",
       "      <td>0.000000</td>\n",
       "    </tr>\n",
       "    <tr>\n",
       "      <th>no.defualt</th>\n",
       "      <td>0.112662</td>\n",
       "    </tr>\n",
       "  </tbody>\n",
       "</table>\n",
       "</div>"
      ],
      "text/plain": [
       "                   y\n",
       "                mean\n",
       "default             \n",
       "defaulted   0.000000\n",
       "no.defualt  0.112662"
      ]
     },
     "execution_count": 38,
     "metadata": {},
     "output_type": "execute_result"
    }
   ],
   "source": [
    "#will use ''.groupby' with aggregation to determine ratios for marital\n",
    "results = df2.groupby('default').agg({'y':['mean']}, axis=1)\n",
    "results\n",
    "\n",
    "#people who default don't deposit"
   ]
  },
  {
   "cell_type": "code",
   "execution_count": 39,
   "metadata": {},
   "outputs": [
    {
     "data": {
      "text/html": [
       "<div>\n",
       "<style scoped>\n",
       "    .dataframe tbody tr th:only-of-type {\n",
       "        vertical-align: middle;\n",
       "    }\n",
       "\n",
       "    .dataframe tbody tr th {\n",
       "        vertical-align: top;\n",
       "    }\n",
       "\n",
       "    .dataframe thead tr th {\n",
       "        text-align: left;\n",
       "    }\n",
       "\n",
       "    .dataframe thead tr:last-of-type th {\n",
       "        text-align: right;\n",
       "    }\n",
       "</style>\n",
       "<table border=\"1\" class=\"dataframe\">\n",
       "  <thead>\n",
       "    <tr>\n",
       "      <th></th>\n",
       "      <th>y</th>\n",
       "    </tr>\n",
       "    <tr>\n",
       "      <th></th>\n",
       "      <th>mean</th>\n",
       "    </tr>\n",
       "    <tr>\n",
       "      <th>loan</th>\n",
       "      <th></th>\n",
       "    </tr>\n",
       "  </thead>\n",
       "  <tbody>\n",
       "    <tr>\n",
       "      <th>loan</th>\n",
       "      <td>0.109315</td>\n",
       "    </tr>\n",
       "    <tr>\n",
       "      <th>no.loan</th>\n",
       "      <td>0.113251</td>\n",
       "    </tr>\n",
       "  </tbody>\n",
       "</table>\n",
       "</div>"
      ],
      "text/plain": [
       "                y\n",
       "             mean\n",
       "loan             \n",
       "loan     0.109315\n",
       "no.loan  0.113251"
      ]
     },
     "execution_count": 39,
     "metadata": {},
     "output_type": "execute_result"
    }
   ],
   "source": [
    "#will use ''.groupby' with aggregation to determine ratios for marital\n",
    "results = df2.groupby('loan').agg({'y':['mean']}, axis=1)\n",
    "results\n",
    "\n",
    "#it seems as if loan status doesn't heavily influnence deposit rates"
   ]
  },
  {
   "cell_type": "code",
   "execution_count": 40,
   "metadata": {},
   "outputs": [
    {
     "data": {
      "text/html": [
       "<div>\n",
       "<style scoped>\n",
       "    .dataframe tbody tr th:only-of-type {\n",
       "        vertical-align: middle;\n",
       "    }\n",
       "\n",
       "    .dataframe tbody tr th {\n",
       "        vertical-align: top;\n",
       "    }\n",
       "\n",
       "    .dataframe thead tr th {\n",
       "        text-align: left;\n",
       "    }\n",
       "\n",
       "    .dataframe thead tr:last-of-type th {\n",
       "        text-align: right;\n",
       "    }\n",
       "</style>\n",
       "<table border=\"1\" class=\"dataframe\">\n",
       "  <thead>\n",
       "    <tr>\n",
       "      <th></th>\n",
       "      <th>y</th>\n",
       "    </tr>\n",
       "    <tr>\n",
       "      <th></th>\n",
       "      <th>mean</th>\n",
       "    </tr>\n",
       "    <tr>\n",
       "      <th>poutcome</th>\n",
       "      <th></th>\n",
       "    </tr>\n",
       "  </thead>\n",
       "  <tbody>\n",
       "    <tr>\n",
       "      <th>failure</th>\n",
       "      <td>0.094085</td>\n",
       "    </tr>\n",
       "    <tr>\n",
       "      <th>success</th>\n",
       "      <td>0.651129</td>\n",
       "    </tr>\n",
       "  </tbody>\n",
       "</table>\n",
       "</div>"
      ],
      "text/plain": [
       "                 y\n",
       "              mean\n",
       "poutcome          \n",
       "failure   0.094085\n",
       "success   0.651129"
      ]
     },
     "execution_count": 40,
     "metadata": {},
     "output_type": "execute_result"
    }
   ],
   "source": [
    "#will use ''.groupby' with aggregation to determine ratios for marital\n",
    "results = df2.groupby('poutcome').agg({'y':['mean']}, axis=1)\n",
    "results\n",
    "\n",
    "#it seems very significant"
   ]
  },
  {
   "cell_type": "markdown",
   "metadata": {},
   "source": [
    "## Preliminary Training"
   ]
  },
  {
   "cell_type": "code",
   "execution_count": 41,
   "metadata": {},
   "outputs": [
    {
     "name": "stdout",
     "output_type": "stream",
     "text": [
      "<class 'pandas.core.frame.DataFrame'>\n",
      "RangeIndex: 41188 entries, 0 to 41187\n",
      "Data columns (total 21 columns):\n",
      " #   Column          Non-Null Count  Dtype  \n",
      "---  ------          --------------  -----  \n",
      " 0   age             41188 non-null  int64  \n",
      " 1   job             41188 non-null  object \n",
      " 2   marital         41188 non-null  int64  \n",
      " 3   education       41188 non-null  int64  \n",
      " 4   default         41188 non-null  int64  \n",
      " 5   housing         41188 non-null  int64  \n",
      " 6   loan            41188 non-null  int64  \n",
      " 7   contact         41188 non-null  object \n",
      " 8   month           41188 non-null  object \n",
      " 9   day_of_week     41188 non-null  object \n",
      " 10  duration        41188 non-null  int64  \n",
      " 11  campaign        41188 non-null  int64  \n",
      " 12  pdays           41188 non-null  float64\n",
      " 13  previous        41188 non-null  int64  \n",
      " 14  poutcome        41188 non-null  int64  \n",
      " 15  emp_var_rate    41188 non-null  float64\n",
      " 16  cons_price_idx  41188 non-null  float64\n",
      " 17  cons_conf_idx   41188 non-null  float64\n",
      " 18  euribor3m       41188 non-null  float64\n",
      " 19  nr_employed     41188 non-null  float64\n",
      " 20  y               41188 non-null  int64  \n",
      "dtypes: float64(6), int64(11), object(4)\n",
      "memory usage: 6.0+ MB\n"
     ]
    }
   ],
   "source": [
    "df3.info()"
   ]
  },
  {
   "cell_type": "code",
   "execution_count": 42,
   "metadata": {},
   "outputs": [],
   "source": [
    "#need to adjust duration of 999 to 0\n",
    "\n",
    "df3['pdays']=df3['pdays'].replace(999,0)\n",
    "df3['pdays']=df3['pdays'].replace(999,0)\n",
    "\n",
    "#did for both data frames to use interchangely if need be"
   ]
  },
  {
   "cell_type": "code",
   "execution_count": 43,
   "metadata": {},
   "outputs": [
    {
     "data": {
      "text/html": [
       "<div>\n",
       "<style scoped>\n",
       "    .dataframe tbody tr th:only-of-type {\n",
       "        vertical-align: middle;\n",
       "    }\n",
       "\n",
       "    .dataframe tbody tr th {\n",
       "        vertical-align: top;\n",
       "    }\n",
       "\n",
       "    .dataframe thead th {\n",
       "        text-align: right;\n",
       "    }\n",
       "</style>\n",
       "<table border=\"1\" class=\"dataframe\">\n",
       "  <thead>\n",
       "    <tr style=\"text-align: right;\">\n",
       "      <th></th>\n",
       "      <th>day_of_week</th>\n",
       "      <th>contact</th>\n",
       "      <th>month</th>\n",
       "      <th>job</th>\n",
       "    </tr>\n",
       "  </thead>\n",
       "  <tbody>\n",
       "    <tr>\n",
       "      <th>0</th>\n",
       "      <td>thu</td>\n",
       "      <td>cellular</td>\n",
       "      <td>aug</td>\n",
       "      <td>blue-collar</td>\n",
       "    </tr>\n",
       "    <tr>\n",
       "      <th>1</th>\n",
       "      <td>fri</td>\n",
       "      <td>cellular</td>\n",
       "      <td>nov</td>\n",
       "      <td>technician</td>\n",
       "    </tr>\n",
       "    <tr>\n",
       "      <th>2</th>\n",
       "      <td>thu</td>\n",
       "      <td>cellular</td>\n",
       "      <td>jun</td>\n",
       "      <td>management</td>\n",
       "    </tr>\n",
       "    <tr>\n",
       "      <th>3</th>\n",
       "      <td>fri</td>\n",
       "      <td>cellular</td>\n",
       "      <td>apr</td>\n",
       "      <td>services</td>\n",
       "    </tr>\n",
       "    <tr>\n",
       "      <th>4</th>\n",
       "      <td>fri</td>\n",
       "      <td>cellular</td>\n",
       "      <td>aug</td>\n",
       "      <td>retired</td>\n",
       "    </tr>\n",
       "  </tbody>\n",
       "</table>\n",
       "</div>"
      ],
      "text/plain": [
       "  day_of_week   contact month          job\n",
       "0         thu  cellular   aug  blue-collar\n",
       "1         fri  cellular   nov   technician\n",
       "2         thu  cellular   jun   management\n",
       "3         fri  cellular   apr     services\n",
       "4         fri  cellular   aug      retired"
      ]
     },
     "execution_count": 43,
     "metadata": {},
     "output_type": "execute_result"
    }
   ],
   "source": [
    "#we need to use the important columns to train data\n",
    "\n",
    "# The only important category is month and jobs but I'll use the others andthen adjust\n",
    "#the other columns have been turned numerical so only these four remain\n",
    "cols_cat = df3[[\"day_of_week\", \"contact\", \"month\", \"job\"]]\n",
    "\n",
    "cols_cat.head()"
   ]
  },
  {
   "cell_type": "code",
   "execution_count": 44,
   "metadata": {},
   "outputs": [
    {
     "data": {
      "text/html": [
       "<div>\n",
       "<style scoped>\n",
       "    .dataframe tbody tr th:only-of-type {\n",
       "        vertical-align: middle;\n",
       "    }\n",
       "\n",
       "    .dataframe tbody tr th {\n",
       "        vertical-align: top;\n",
       "    }\n",
       "\n",
       "    .dataframe thead th {\n",
       "        text-align: right;\n",
       "    }\n",
       "</style>\n",
       "<table border=\"1\" class=\"dataframe\">\n",
       "  <thead>\n",
       "    <tr style=\"text-align: right;\">\n",
       "      <th></th>\n",
       "      <th>age</th>\n",
       "      <th>marital</th>\n",
       "      <th>education</th>\n",
       "      <th>default</th>\n",
       "      <th>housing</th>\n",
       "      <th>loan</th>\n",
       "      <th>duration</th>\n",
       "      <th>campaign</th>\n",
       "      <th>pdays</th>\n",
       "      <th>previous</th>\n",
       "      <th>poutcome</th>\n",
       "      <th>emp_var_rate</th>\n",
       "      <th>cons_price_idx</th>\n",
       "      <th>cons_conf_idx</th>\n",
       "      <th>euribor3m</th>\n",
       "      <th>nr_employed</th>\n",
       "      <th>y</th>\n",
       "    </tr>\n",
       "  </thead>\n",
       "  <tbody>\n",
       "    <tr>\n",
       "      <th>0</th>\n",
       "      <td>44</td>\n",
       "      <td>1</td>\n",
       "      <td>0</td>\n",
       "      <td>0</td>\n",
       "      <td>1</td>\n",
       "      <td>0</td>\n",
       "      <td>210</td>\n",
       "      <td>1</td>\n",
       "      <td>0.0</td>\n",
       "      <td>0</td>\n",
       "      <td>0</td>\n",
       "      <td>1.4</td>\n",
       "      <td>93.444</td>\n",
       "      <td>-36.1</td>\n",
       "      <td>4.963</td>\n",
       "      <td>5228.1</td>\n",
       "      <td>0</td>\n",
       "    </tr>\n",
       "    <tr>\n",
       "      <th>1</th>\n",
       "      <td>53</td>\n",
       "      <td>1</td>\n",
       "      <td>0</td>\n",
       "      <td>0</td>\n",
       "      <td>0</td>\n",
       "      <td>0</td>\n",
       "      <td>138</td>\n",
       "      <td>1</td>\n",
       "      <td>0.0</td>\n",
       "      <td>0</td>\n",
       "      <td>0</td>\n",
       "      <td>-0.1</td>\n",
       "      <td>93.200</td>\n",
       "      <td>-42.0</td>\n",
       "      <td>4.021</td>\n",
       "      <td>5195.8</td>\n",
       "      <td>0</td>\n",
       "    </tr>\n",
       "    <tr>\n",
       "      <th>2</th>\n",
       "      <td>28</td>\n",
       "      <td>0</td>\n",
       "      <td>1</td>\n",
       "      <td>0</td>\n",
       "      <td>1</td>\n",
       "      <td>0</td>\n",
       "      <td>339</td>\n",
       "      <td>3</td>\n",
       "      <td>6.0</td>\n",
       "      <td>2</td>\n",
       "      <td>1</td>\n",
       "      <td>-1.7</td>\n",
       "      <td>94.055</td>\n",
       "      <td>-39.8</td>\n",
       "      <td>0.729</td>\n",
       "      <td>4991.6</td>\n",
       "      <td>1</td>\n",
       "    </tr>\n",
       "    <tr>\n",
       "      <th>3</th>\n",
       "      <td>39</td>\n",
       "      <td>1</td>\n",
       "      <td>0</td>\n",
       "      <td>0</td>\n",
       "      <td>0</td>\n",
       "      <td>0</td>\n",
       "      <td>185</td>\n",
       "      <td>2</td>\n",
       "      <td>0.0</td>\n",
       "      <td>0</td>\n",
       "      <td>0</td>\n",
       "      <td>-1.8</td>\n",
       "      <td>93.075</td>\n",
       "      <td>-47.1</td>\n",
       "      <td>1.405</td>\n",
       "      <td>5099.1</td>\n",
       "      <td>0</td>\n",
       "    </tr>\n",
       "    <tr>\n",
       "      <th>4</th>\n",
       "      <td>55</td>\n",
       "      <td>1</td>\n",
       "      <td>0</td>\n",
       "      <td>0</td>\n",
       "      <td>1</td>\n",
       "      <td>0</td>\n",
       "      <td>137</td>\n",
       "      <td>1</td>\n",
       "      <td>3.0</td>\n",
       "      <td>1</td>\n",
       "      <td>1</td>\n",
       "      <td>-2.9</td>\n",
       "      <td>92.201</td>\n",
       "      <td>-31.4</td>\n",
       "      <td>0.869</td>\n",
       "      <td>5076.2</td>\n",
       "      <td>1</td>\n",
       "    </tr>\n",
       "  </tbody>\n",
       "</table>\n",
       "</div>"
      ],
      "text/plain": [
       "   age  marital  education  default  housing  loan  duration  campaign  pdays  \\\n",
       "0   44        1          0        0        1     0       210         1    0.0   \n",
       "1   53        1          0        0        0     0       138         1    0.0   \n",
       "2   28        0          1        0        1     0       339         3    6.0   \n",
       "3   39        1          0        0        0     0       185         2    0.0   \n",
       "4   55        1          0        0        1     0       137         1    3.0   \n",
       "\n",
       "   previous  poutcome  emp_var_rate  cons_price_idx  cons_conf_idx  euribor3m  \\\n",
       "0         0         0           1.4          93.444          -36.1      4.963   \n",
       "1         0         0          -0.1          93.200          -42.0      4.021   \n",
       "2         2         1          -1.7          94.055          -39.8      0.729   \n",
       "3         0         0          -1.8          93.075          -47.1      1.405   \n",
       "4         1         1          -2.9          92.201          -31.4      0.869   \n",
       "\n",
       "   nr_employed  y  \n",
       "0       5228.1  0  \n",
       "1       5195.8  0  \n",
       "2       4991.6  1  \n",
       "3       5099.1  0  \n",
       "4       5076.2  1  "
      ]
     },
     "execution_count": 44,
     "metadata": {},
     "output_type": "execute_result"
    }
   ],
   "source": [
    "#will make a data frame that only has numerical data only \n",
    "\n",
    "cols_num = df3.drop([\"day_of_week\", \"contact\", \"month\", \"job\"], axis=1)\n",
    "cols_num.head()"
   ]
  },
  {
   "cell_type": "code",
   "execution_count": 45,
   "metadata": {},
   "outputs": [
    {
     "data": {
      "text/html": [
       "<div>\n",
       "<style scoped>\n",
       "    .dataframe tbody tr th:only-of-type {\n",
       "        vertical-align: middle;\n",
       "    }\n",
       "\n",
       "    .dataframe tbody tr th {\n",
       "        vertical-align: top;\n",
       "    }\n",
       "\n",
       "    .dataframe thead th {\n",
       "        text-align: right;\n",
       "    }\n",
       "</style>\n",
       "<table border=\"1\" class=\"dataframe\">\n",
       "  <thead>\n",
       "    <tr style=\"text-align: right;\">\n",
       "      <th></th>\n",
       "      <th>day_of_week_fri</th>\n",
       "      <th>day_of_week_mon</th>\n",
       "      <th>day_of_week_thu</th>\n",
       "      <th>day_of_week_tue</th>\n",
       "      <th>day_of_week_wed</th>\n",
       "      <th>contact_cellular</th>\n",
       "      <th>contact_telephone</th>\n",
       "      <th>month_apr</th>\n",
       "      <th>month_aug</th>\n",
       "      <th>month_dec</th>\n",
       "      <th>...</th>\n",
       "      <th>job_entrepreneur</th>\n",
       "      <th>job_housemaid</th>\n",
       "      <th>job_management</th>\n",
       "      <th>job_retired</th>\n",
       "      <th>job_self-employed</th>\n",
       "      <th>job_services</th>\n",
       "      <th>job_student</th>\n",
       "      <th>job_technician</th>\n",
       "      <th>job_unemployed</th>\n",
       "      <th>job_unknown</th>\n",
       "    </tr>\n",
       "  </thead>\n",
       "  <tbody>\n",
       "    <tr>\n",
       "      <th>0</th>\n",
       "      <td>0</td>\n",
       "      <td>0</td>\n",
       "      <td>1</td>\n",
       "      <td>0</td>\n",
       "      <td>0</td>\n",
       "      <td>1</td>\n",
       "      <td>0</td>\n",
       "      <td>0</td>\n",
       "      <td>1</td>\n",
       "      <td>0</td>\n",
       "      <td>...</td>\n",
       "      <td>0</td>\n",
       "      <td>0</td>\n",
       "      <td>0</td>\n",
       "      <td>0</td>\n",
       "      <td>0</td>\n",
       "      <td>0</td>\n",
       "      <td>0</td>\n",
       "      <td>0</td>\n",
       "      <td>0</td>\n",
       "      <td>0</td>\n",
       "    </tr>\n",
       "    <tr>\n",
       "      <th>1</th>\n",
       "      <td>1</td>\n",
       "      <td>0</td>\n",
       "      <td>0</td>\n",
       "      <td>0</td>\n",
       "      <td>0</td>\n",
       "      <td>1</td>\n",
       "      <td>0</td>\n",
       "      <td>0</td>\n",
       "      <td>0</td>\n",
       "      <td>0</td>\n",
       "      <td>...</td>\n",
       "      <td>0</td>\n",
       "      <td>0</td>\n",
       "      <td>0</td>\n",
       "      <td>0</td>\n",
       "      <td>0</td>\n",
       "      <td>0</td>\n",
       "      <td>0</td>\n",
       "      <td>1</td>\n",
       "      <td>0</td>\n",
       "      <td>0</td>\n",
       "    </tr>\n",
       "    <tr>\n",
       "      <th>2</th>\n",
       "      <td>0</td>\n",
       "      <td>0</td>\n",
       "      <td>1</td>\n",
       "      <td>0</td>\n",
       "      <td>0</td>\n",
       "      <td>1</td>\n",
       "      <td>0</td>\n",
       "      <td>0</td>\n",
       "      <td>0</td>\n",
       "      <td>0</td>\n",
       "      <td>...</td>\n",
       "      <td>0</td>\n",
       "      <td>0</td>\n",
       "      <td>1</td>\n",
       "      <td>0</td>\n",
       "      <td>0</td>\n",
       "      <td>0</td>\n",
       "      <td>0</td>\n",
       "      <td>0</td>\n",
       "      <td>0</td>\n",
       "      <td>0</td>\n",
       "    </tr>\n",
       "    <tr>\n",
       "      <th>3</th>\n",
       "      <td>1</td>\n",
       "      <td>0</td>\n",
       "      <td>0</td>\n",
       "      <td>0</td>\n",
       "      <td>0</td>\n",
       "      <td>1</td>\n",
       "      <td>0</td>\n",
       "      <td>1</td>\n",
       "      <td>0</td>\n",
       "      <td>0</td>\n",
       "      <td>...</td>\n",
       "      <td>0</td>\n",
       "      <td>0</td>\n",
       "      <td>0</td>\n",
       "      <td>0</td>\n",
       "      <td>0</td>\n",
       "      <td>1</td>\n",
       "      <td>0</td>\n",
       "      <td>0</td>\n",
       "      <td>0</td>\n",
       "      <td>0</td>\n",
       "    </tr>\n",
       "    <tr>\n",
       "      <th>4</th>\n",
       "      <td>1</td>\n",
       "      <td>0</td>\n",
       "      <td>0</td>\n",
       "      <td>0</td>\n",
       "      <td>0</td>\n",
       "      <td>1</td>\n",
       "      <td>0</td>\n",
       "      <td>0</td>\n",
       "      <td>1</td>\n",
       "      <td>0</td>\n",
       "      <td>...</td>\n",
       "      <td>0</td>\n",
       "      <td>0</td>\n",
       "      <td>0</td>\n",
       "      <td>1</td>\n",
       "      <td>0</td>\n",
       "      <td>0</td>\n",
       "      <td>0</td>\n",
       "      <td>0</td>\n",
       "      <td>0</td>\n",
       "      <td>0</td>\n",
       "    </tr>\n",
       "  </tbody>\n",
       "</table>\n",
       "<p>5 rows × 29 columns</p>\n",
       "</div>"
      ],
      "text/plain": [
       "   day_of_week_fri  day_of_week_mon  day_of_week_thu  day_of_week_tue  \\\n",
       "0                0                0                1                0   \n",
       "1                1                0                0                0   \n",
       "2                0                0                1                0   \n",
       "3                1                0                0                0   \n",
       "4                1                0                0                0   \n",
       "\n",
       "   day_of_week_wed  contact_cellular  contact_telephone  month_apr  month_aug  \\\n",
       "0                0                 1                  0          0          1   \n",
       "1                0                 1                  0          0          0   \n",
       "2                0                 1                  0          0          0   \n",
       "3                0                 1                  0          1          0   \n",
       "4                0                 1                  0          0          1   \n",
       "\n",
       "   month_dec  ...  job_entrepreneur  job_housemaid  job_management  \\\n",
       "0          0  ...                 0              0               0   \n",
       "1          0  ...                 0              0               0   \n",
       "2          0  ...                 0              0               1   \n",
       "3          0  ...                 0              0               0   \n",
       "4          0  ...                 0              0               0   \n",
       "\n",
       "   job_retired  job_self-employed  job_services  job_student  job_technician  \\\n",
       "0            0                  0             0            0               0   \n",
       "1            0                  0             0            0               1   \n",
       "2            0                  0             0            0               0   \n",
       "3            0                  0             1            0               0   \n",
       "4            1                  0             0            0               0   \n",
       "\n",
       "   job_unemployed  job_unknown  \n",
       "0               0            0  \n",
       "1               0            0  \n",
       "2               0            0  \n",
       "3               0            0  \n",
       "4               0            0  \n",
       "\n",
       "[5 rows x 29 columns]"
      ]
     },
     "execution_count": 45,
     "metadata": {},
     "output_type": "execute_result"
    }
   ],
   "source": [
    "#will create dummies for catagory data frame\n",
    "\n",
    "cols_cat_dummy = pd.get_dummies(cols_cat, sparse=True)\n",
    "cols_cat_dummy.head()"
   ]
  },
  {
   "cell_type": "code",
   "execution_count": 46,
   "metadata": {},
   "outputs": [
    {
     "name": "stdout",
     "output_type": "stream",
     "text": [
      "(41188, 17)\n",
      "(41188, 29)\n",
      "(41188, 46)\n"
     ]
    }
   ],
   "source": [
    "#join both numerical and category data frame but it all is binary now *****\n",
    "\n",
    "All_cols = pd.concat([cols_num, cols_cat_dummy], axis=1, join='inner')\n",
    "All_cols.head()\n",
    "\n",
    "print(cols_num.shape)\n",
    "print(cols_cat_dummy.shape)\n",
    "print(All_cols.shape)"
   ]
  },
  {
   "cell_type": "code",
   "execution_count": 47,
   "metadata": {},
   "outputs": [
    {
     "name": "stdout",
     "output_type": "stream",
     "text": [
      "size of the array (41188, 46)\n"
     ]
    }
   ],
   "source": [
    "#seperating dependent data vs independent\n",
    "\n",
    "x = All_cols.drop(['y'], axis = 1) #independent\n",
    "y = All_cols['y'] #dependent\n",
    "\n",
    "print('size of the array', All_cols.shape)"
   ]
  },
  {
   "cell_type": "markdown",
   "metadata": {},
   "source": [
    "## Logistic Regression"
   ]
  },
  {
   "cell_type": "code",
   "execution_count": 81,
   "metadata": {},
   "outputs": [
    {
     "name": "stderr",
     "output_type": "stream",
     "text": [
      "[Parallel(n_jobs=1)]: Using backend SequentialBackend with 1 concurrent workers.\n",
      "[Parallel(n_jobs=1)]: Done   1 out of   1 | elapsed:    1.0s finished\n"
     ]
    },
    {
     "data": {
      "text/plain": [
       "LogisticRegression(verbose=1)"
      ]
     },
     "execution_count": 81,
     "metadata": {},
     "output_type": "execute_result"
    }
   ],
   "source": [
    "#Split the data into 80% training and 20% testing\n",
    "x_train, x_test, y_train, y_test = train_test_split(x, y, test_size=0.2)\n",
    "\n",
    "#Train the model\n",
    "model = LogisticRegression(verbose=1)\n",
    "model.fit(x_train, y_train) #Training the model"
   ]
  },
  {
   "cell_type": "code",
   "execution_count": 51,
   "metadata": {},
   "outputs": [
    {
     "name": "stdout",
     "output_type": "stream",
     "text": [
      "[0 0 1 ... 0 0 0]\n",
      "\n",
      "              precision    recall  f1-score   support\n",
      "\n",
      "           0       0.92      0.98      0.95      7312\n",
      "           1       0.66      0.37      0.47       926\n",
      "\n",
      "    accuracy                           0.91      8238\n",
      "   macro avg       0.79      0.67      0.71      8238\n",
      "weighted avg       0.89      0.91      0.90      8238\n",
      "\n",
      "---------------------------------------------\n",
      "ROC_AUC is 0.9249551611363434 and accuracy rate is 0.9078659868900218\n"
     ]
    }
   ],
   "source": [
    "#Test the model\n",
    "predictions = model.predict(x_test)\n",
    "print(predictions)# printing predictions\n",
    "\n",
    "print()# Printing new line\n",
    "\n",
    "#Check precision, recall, f1-score\n",
    "print( classification_report(y_test, predictions) )\n",
    "\n",
    "#Check ROC_AUC\n",
    "auc = roc_auc_score(y_test, model.predict_proba(x_test)[:,1])\n",
    "print('---------------------------------------------')\n",
    "print('ROC_AUC is {} and accuracy rate is {}'.format(auc, model.score(x_test, y_test)))"
   ]
  },
  {
   "cell_type": "markdown",
   "metadata": {},
   "source": [
    "## Balance Weight"
   ]
  },
  {
   "cell_type": "code",
   "execution_count": 107,
   "metadata": {},
   "outputs": [
    {
     "data": {
      "text/plain": [
       "LogisticRegression(class_weight='balanced')"
      ]
     },
     "execution_count": 107,
     "metadata": {},
     "output_type": "execute_result"
    }
   ],
   "source": [
    "#Split the data into 80% training and 20% testing\n",
    "x_train_bw, x_test_bw, y_train_bw, y_test_bw = train_test_split(x, y, test_size=0.2)\n",
    "\n",
    "#Train the model with class_weight='balanced'\n",
    "model_bw = LogisticRegression(class_weight='balanced')\n",
    "model_bw.fit(x_train_bw, y_train_bw) #Training the model"
   ]
  },
  {
   "cell_type": "code",
   "execution_count": 108,
   "metadata": {},
   "outputs": [
    {
     "name": "stdout",
     "output_type": "stream",
     "text": [
      "[1 0 0 ... 1 1 0]\n",
      "\n",
      "              precision    recall  f1-score   support\n",
      "\n",
      "           0       0.98      0.84      0.90      7314\n",
      "           1       0.40      0.86      0.55       924\n",
      "\n",
      "    accuracy                           0.84      8238\n",
      "   macro avg       0.69      0.85      0.72      8238\n",
      "weighted avg       0.91      0.84      0.86      8238\n",
      "\n",
      "---------------------------------------------\n",
      "ROC_AUC is 0.9222772373920856 and accuracy rate is 0.8398883224083515\n"
     ]
    }
   ],
   "source": [
    "#Test the model\n",
    "predictions_bw = model_bw.predict(x_test_bw)\n",
    "print(predictions_bw)# printing predictions\n",
    "\n",
    "print()# Printing new line\n",
    "\n",
    "#Check precision, recall, f1-score\n",
    "print( classification_report(y_test_bw, predictions_bw) )\n",
    "\n",
    "#Check ROC_AUC\n",
    "auc = roc_auc_score(y_test_bw, model_bw.predict_proba(x_test_bw)[:,1])\n",
    "print('---------------------------------------------')\n",
    "print('ROC_AUC is {} and accuracy rate is {}'.format(auc, model_bw.score(x_test_bw, y_test_bw)))"
   ]
  },
  {
   "cell_type": "markdown",
   "metadata": {},
   "source": [
    "## Smote"
   ]
  },
  {
   "cell_type": "raw",
   "metadata": {},
   "source": [
    "We will be using a function called smote, it's possible \n",
    "that such a huge inbalance may be the reason for the lack of accuracy."
   ]
  },
  {
   "cell_type": "code",
   "execution_count": 84,
   "metadata": {},
   "outputs": [],
   "source": [
    "#Have to install into anaconda promp: conda install -c conda-forge imbalanced-learn\n",
    "\n",
    "#then import to IDE\n",
    "from imblearn import under_sampling, over_sampling\n",
    "from imblearn.over_sampling import SMOTE\n",
    "\n",
    "#Split the data into 80% training and 20% testing\n",
    "x_train_sm, x_test_sm, y_train_sm, y_test_sm = train_test_split(x, y, test_size=0.2)\n",
    "\n",
    "sm = SMOTE(random_state=12)\n",
    "x_train_res, y_train_res = sm.fit_sample(x_train_sm, y_train_sm)"
   ]
  },
  {
   "cell_type": "code",
   "execution_count": 55,
   "metadata": {},
   "outputs": [
    {
     "data": {
      "text/plain": [
       "{0: 29236, 1: 3714}"
      ]
     },
     "execution_count": 55,
     "metadata": {},
     "output_type": "execute_result"
    }
   ],
   "source": [
    "#here we can see the imbalance in deposits vs no deposits\n",
    "\n",
    "unique, count = np.unique(y_train, return_counts=True)\n",
    "y_train_dict_value_count = { k:v for (k,v) in zip(unique, count)}\n",
    "y_train_dict_value_count"
   ]
  },
  {
   "cell_type": "code",
   "execution_count": 56,
   "metadata": {},
   "outputs": [
    {
     "data": {
      "text/plain": [
       "{0: 29236, 1: 29236}"
      ]
     },
     "execution_count": 56,
     "metadata": {},
     "output_type": "execute_result"
    }
   ],
   "source": [
    "#after applying smote we can see how the dependent variable has been porportianated.\n",
    "\n",
    "unique, count = np.unique(y_train_res, return_counts=True)\n",
    "y_train_smote_value_count = { k:v for (k,v) in zip(unique, count)}\n",
    "y_train_smote_value_count"
   ]
  },
  {
   "cell_type": "code",
   "execution_count": 57,
   "metadata": {},
   "outputs": [
    {
     "name": "stdout",
     "output_type": "stream",
     "text": [
      "0    29236\n",
      "1     3714\n",
      "Name: y, dtype: int64\n",
      "______________________\n",
      "1    29236\n",
      "0    29236\n",
      "Name: y, dtype: int64\n"
     ]
    }
   ],
   "source": [
    "#to better see the changes in weights of the binary target\n",
    "\n",
    "print(y_train.value_counts())\n",
    "print('______________________')\n",
    "print(y_train_res.value_counts())"
   ]
  },
  {
   "cell_type": "code",
   "execution_count": 58,
   "metadata": {},
   "outputs": [
    {
     "name": "stderr",
     "output_type": "stream",
     "text": [
      "[Parallel(n_jobs=1)]: Using backend SequentialBackend with 1 concurrent workers.\n",
      "[Parallel(n_jobs=1)]: Done   1 out of   1 | elapsed:    1.1s finished\n"
     ]
    },
    {
     "data": {
      "text/plain": [
       "LogisticRegression(verbose=1)"
      ]
     },
     "execution_count": 58,
     "metadata": {},
     "output_type": "execute_result"
    }
   ],
   "source": [
    "#Train the model\n",
    "model_sm = LogisticRegression(verbose=1)\n",
    "model_sm.fit(x_train_res, y_train_res) #Training the model"
   ]
  },
  {
   "cell_type": "code",
   "execution_count": 85,
   "metadata": {},
   "outputs": [
    {
     "name": "stdout",
     "output_type": "stream",
     "text": [
      "[0 0 1 ... 0 0 0]\n",
      "\n",
      "              precision    recall  f1-score   support\n",
      "\n",
      "           0       0.97      0.88      0.92      7342\n",
      "           1       0.44      0.78      0.56       896\n",
      "\n",
      "    accuracy                           0.87      8238\n",
      "   macro avg       0.70      0.83      0.74      8238\n",
      "weighted avg       0.91      0.87      0.88      8238\n",
      "\n",
      "---------------------------------------------\n",
      "ROC_AUC is 0.5042335316379343 and accuracy rate is 0.8663510560815731\n"
     ]
    }
   ],
   "source": [
    "#Test the model\n",
    "predictions_sm = model_sm.predict(x_test_sm)\n",
    "print(predictions)# printing predictions\n",
    "\n",
    "print()# Printing new line\n",
    "\n",
    "#Check precision, recall, f1-score\n",
    "print( classification_report(y_test_sm, predictions_sm) )\n",
    "\n",
    "#the precision on the target goal has increased from 0.41 to 0.48 at the cost\n",
    "#of a slight decrease in the unwated precision\n",
    "\n",
    "#Check ROC_AUC\n",
    "auc = roc_auc_score(y_test_sm, model_sm.predict_proba(x_test)[:,1])\n",
    "print('---------------------------------------------')\n",
    "print('ROC_AUC is {} and accuracy rate is {}'.format(auc, model_sm.score(x_test_sm, y_test_sm)))"
   ]
  },
  {
   "cell_type": "markdown",
   "metadata": {},
   "source": [
    "## RFE"
   ]
  },
  {
   "cell_type": "code",
   "execution_count": 90,
   "metadata": {},
   "outputs": [
    {
     "name": "stdout",
     "output_type": "stream",
     "text": [
      "Num Features: 40\n",
      "Selected Features: [ True  True  True False  True  True  True  True False  True  True  True\n",
      "  True  True  True  True  True  True  True  True  True  True  True  True\n",
      "  True  True  True  True  True  True  True  True  True  True  True  True\n",
      " False False  True  True  True  True  True  True False]\n",
      "Feature Ranking: [1 1 1 6 1 1 1 1 5 1 1 1 1 1 1 1 1 1 1 1 1 1 1 1 1 1 1 1 1 1 1 1 1 1 1 1 4\n",
      " 2 1 1 1 1 1 1 3]\n"
     ]
    }
   ],
   "source": [
    "from sklearn.feature_selection import RFE\n",
    "from sklearn.linear_model import LogisticRegression\n",
    "\n",
    "#Using RFE we will rank columns  \n",
    "\n",
    "model_RFE = LogisticRegression(solver='lbfgs')\n",
    "rfe = RFE(model_RFE, 40)\n",
    "fit = rfe.fit(x, y)\n",
    "print(\"Num Features: %d\" % fit.n_features_)\n",
    "print(\"Selected Features: %s\" % fit.support_)\n",
    "print(\"Feature Ranking: %s\" % fit.ranking_)\n"
   ]
  },
  {
   "cell_type": "raw",
   "metadata": {},
   "source": [
    "According to the ranks, the following should be drop:\n",
    "'default', 'pdays', 'job_housemaid', 'job_management', 'job_unknown'\n",
    "\n",
    "Different column counts were conducted and 40 was the best outcome"
   ]
  },
  {
   "cell_type": "code",
   "execution_count": 91,
   "metadata": {},
   "outputs": [
    {
     "name": "stdout",
     "output_type": "stream",
     "text": [
      "x.shape: (41188, 45)\n",
      "x_selected.shape: (41188, 40)\n"
     ]
    }
   ],
   "source": [
    "#will check that independent variables were transform\n",
    "\n",
    "x_selected = fit.transform(x)\n",
    "\n",
    "print(\"x.shape: {}\".format(x.shape))\n",
    "print(\"x_selected.shape: {}\".format(x_selected.shape))"
   ]
  },
  {
   "cell_type": "code",
   "execution_count": 92,
   "metadata": {},
   "outputs": [
    {
     "name": "stdout",
     "output_type": "stream",
     "text": [
      "Scoree with all features: 0.896\n",
      "Scoree with selected features: 0.907\n"
     ]
    }
   ],
   "source": [
    "#Comparing the score of the regular model versus the transform model\n",
    "\n",
    "x_test_selected = fit.transform(x)\n",
    "\n",
    "model_RFE.fit(x,y)\n",
    "print(\"Scoree with all features: {:,.3f}\".format(model_RFE.score(x_test,y_test)))\n",
    "\n",
    "model_RFE.fit(x_selected,y)\n",
    "print(\"Scoree with selected features: {:,.3f}\".format(model_RFE.score(x_test_selected,y)))"
   ]
  },
  {
   "cell_type": "code",
   "execution_count": 93,
   "metadata": {},
   "outputs": [
    {
     "name": "stdout",
     "output_type": "stream",
     "text": [
      "Num Features: 40\n",
      "Selected Features: [ True  True  True False  True  True  True False False  True  True  True\n",
      "  True  True  True  True  True  True  True  True  True  True  True  True\n",
      "  True  True  True  True  True  True  True  True  True  True  True  True\n",
      "  True False  True  True  True  True  True  True False]\n",
      "Feature Ranking: [1 1 1 6 1 1 1 3 5 1 1 1 1 1 1 1 1 1 1 1 1 1 1 1 1 1 1 1 1 1 1 1 1 1 1 1 1\n",
      " 2 1 1 1 1 1 1 4]\n"
     ]
    }
   ],
   "source": [
    "#Will use RFE to compare to train data to see if the results are better\n",
    "\n",
    "model_RFE1 = LogisticRegression(solver='lbfgs')\n",
    "rfe = RFE(model_RFE1, 40)\n",
    "fit1 = rfe.fit(x_train, y_train)\n",
    "print(\"Num Features: %d\" % fit1.n_features_)\n",
    "print(\"Selected Features: %s\" % fit1.support_)\n",
    "print(\"Feature Ranking: %s\" % fit1.ranking_)"
   ]
  },
  {
   "cell_type": "code",
   "execution_count": 94,
   "metadata": {},
   "outputs": [
    {
     "name": "stdout",
     "output_type": "stream",
     "text": [
      "x.shape: (32950, 45)\n",
      "x_selected.shape: (32950, 40)\n"
     ]
    }
   ],
   "source": [
    "#Checking that the train data transform\n",
    "\n",
    "x_train_selected1 = fit1.transform(x_train)\n",
    "\n",
    "print(\"x.shape: {}\".format(x_train.shape))\n",
    "print(\"x_selected.shape: {}\".format(x_train_selected1.shape))"
   ]
  },
  {
   "cell_type": "code",
   "execution_count": 95,
   "metadata": {},
   "outputs": [
    {
     "name": "stdout",
     "output_type": "stream",
     "text": [
      "Score with all features: 0.896\n",
      "Score with selected features: 0.904\n"
     ]
    }
   ],
   "source": [
    "#scoring the model and it would seem the train model perform a little better than the\n",
    "#regular model, the only difference between the two is that the regular model replaces \n",
    "#'age' with 'job_manager'\n",
    "\n",
    "x_test_selected1 = fit1.transform(x_test)\n",
    "\n",
    "model_RFE1.fit(x_train,y_train)\n",
    "print(\"Score with all features: {:,.3f}\".format(model_RFE1.score(x_test,y_test)))\n",
    "\n",
    "model_RFE1.fit(x_train_selected1,y_train)\n",
    "print(\"Score with selected features: {:,.3f}\".format(model_RFE1.score(x_test_selected1,y_test)))"
   ]
  },
  {
   "cell_type": "raw",
   "metadata": {},
   "source": [
    "According to the training model, the following columns are to be dropped: \n",
    "drop 'age', 'default', 'pdays', 'job_housemaid', 'job_unknown' \n",
    "\n",
    "this is ase of different trial an error on how mnay dropped columns scored the best,\n",
    "having 40 of 45 columns gave the best results."
   ]
  },
  {
   "cell_type": "code",
   "execution_count": 96,
   "metadata": {},
   "outputs": [
    {
     "name": "stdout",
     "output_type": "stream",
     "text": [
      "<class 'pandas.core.frame.DataFrame'>\n",
      "RangeIndex: 41188 entries, 0 to 41187\n",
      "Data columns (total 40 columns):\n",
      " #   Column             Non-Null Count  Dtype           \n",
      "---  ------             --------------  -----           \n",
      " 0   marital            41188 non-null  int64           \n",
      " 1   education          41188 non-null  int64           \n",
      " 2   housing            41188 non-null  int64           \n",
      " 3   loan               41188 non-null  int64           \n",
      " 4   duration           41188 non-null  int64           \n",
      " 5   campaign           41188 non-null  int64           \n",
      " 6   previous           41188 non-null  int64           \n",
      " 7   poutcome           41188 non-null  int64           \n",
      " 8   emp_var_rate       41188 non-null  float64         \n",
      " 9   cons_price_idx     41188 non-null  float64         \n",
      " 10  cons_conf_idx      41188 non-null  float64         \n",
      " 11  euribor3m          41188 non-null  float64         \n",
      " 12  nr_employed        41188 non-null  float64         \n",
      " 13  day_of_week_fri    41188 non-null  Sparse[uint8, 0]\n",
      " 14  day_of_week_mon    41188 non-null  Sparse[uint8, 0]\n",
      " 15  day_of_week_thu    41188 non-null  Sparse[uint8, 0]\n",
      " 16  day_of_week_tue    41188 non-null  Sparse[uint8, 0]\n",
      " 17  day_of_week_wed    41188 non-null  Sparse[uint8, 0]\n",
      " 18  contact_cellular   41188 non-null  Sparse[uint8, 0]\n",
      " 19  contact_telephone  41188 non-null  Sparse[uint8, 0]\n",
      " 20  month_apr          41188 non-null  Sparse[uint8, 0]\n",
      " 21  month_aug          41188 non-null  Sparse[uint8, 0]\n",
      " 22  month_dec          41188 non-null  Sparse[uint8, 0]\n",
      " 23  month_jul          41188 non-null  Sparse[uint8, 0]\n",
      " 24  month_jun          41188 non-null  Sparse[uint8, 0]\n",
      " 25  month_mar          41188 non-null  Sparse[uint8, 0]\n",
      " 26  month_may          41188 non-null  Sparse[uint8, 0]\n",
      " 27  month_nov          41188 non-null  Sparse[uint8, 0]\n",
      " 28  month_oct          41188 non-null  Sparse[uint8, 0]\n",
      " 29  month_sep          41188 non-null  Sparse[uint8, 0]\n",
      " 30  job_admin.         41188 non-null  Sparse[uint8, 0]\n",
      " 31  job_blue-collar    41188 non-null  Sparse[uint8, 0]\n",
      " 32  job_entrepreneur   41188 non-null  Sparse[uint8, 0]\n",
      " 33  job_management     41188 non-null  Sparse[uint8, 0]\n",
      " 34  job_retired        41188 non-null  Sparse[uint8, 0]\n",
      " 35  job_self-employed  41188 non-null  Sparse[uint8, 0]\n",
      " 36  job_services       41188 non-null  Sparse[uint8, 0]\n",
      " 37  job_student        41188 non-null  Sparse[uint8, 0]\n",
      " 38  job_technician     41188 non-null  Sparse[uint8, 0]\n",
      " 39  job_unemployed     41188 non-null  Sparse[uint8, 0]\n",
      "dtypes: Sparse[uint8, 0](27), float64(5), int64(8)\n",
      "memory usage: 4.9 MB\n"
     ]
    }
   ],
   "source": [
    "x1 = x.copy()\n",
    "x1=x1.drop([\"age\", \"default\", \"pdays\", \"job_housemaid\", \"job_unknown\"], axis = 1)\n",
    "x1.info()"
   ]
  },
  {
   "cell_type": "markdown",
   "metadata": {},
   "source": [
    "## Logistic Data With RFE Model"
   ]
  },
  {
   "cell_type": "code",
   "execution_count": 97,
   "metadata": {},
   "outputs": [
    {
     "name": "stderr",
     "output_type": "stream",
     "text": [
      "[Parallel(n_jobs=1)]: Using backend SequentialBackend with 1 concurrent workers.\n",
      "[Parallel(n_jobs=1)]: Done   1 out of   1 | elapsed:    0.5s finished\n"
     ]
    },
    {
     "data": {
      "text/plain": [
       "LogisticRegression(verbose=1)"
      ]
     },
     "execution_count": 97,
     "metadata": {},
     "output_type": "execute_result"
    }
   ],
   "source": [
    "#the model_RFE1 ihas best results\n",
    "#Split the data into 80% training and 20% testing\n",
    "x_train_RFE1, x_test_RFE1, y_train_RFE1, y_test_RFE1 = train_test_split(x1, y, test_size=0.2)\n",
    "\n",
    "#Train the model\n",
    "model_RFE1 = LogisticRegression(verbose=1)\n",
    "model_RFE1.fit(x_train_RFE1, y_train_RFE1) #Training the model\n",
    "\n"
   ]
  },
  {
   "cell_type": "code",
   "execution_count": 98,
   "metadata": {},
   "outputs": [
    {
     "name": "stdout",
     "output_type": "stream",
     "text": [
      "[0 0 1 ... 0 0 0]\n",
      "\n",
      "              precision    recall  f1-score   support\n",
      "\n",
      "           0       0.93      0.97      0.95      7341\n",
      "           1       0.63      0.40      0.49       897\n",
      "\n",
      "    accuracy                           0.91      8238\n",
      "   macro avg       0.78      0.69      0.72      8238\n",
      "weighted avg       0.90      0.91      0.90      8238\n",
      "\n",
      "---------------------------------------------\n",
      "ROC_AUC is 0.9332286692674745 and accuracy rate is 0.9089584850691915\n"
     ]
    }
   ],
   "source": [
    "#Test the model\n",
    "predictions_RFE1 = model_RFE1.predict(x_test_RFE1)\n",
    "print(predictions)# printing predictions\n",
    "\n",
    "print()# Printing new line\n",
    "\n",
    "#Check precision, recall, f1-score\n",
    "print( classification_report(y_test_RFE1, predictions_RFE1) )\n",
    "\n",
    "#Check ROC_AUC & Accuracy\n",
    "auc = roc_auc_score(y_test_RFE1, model_RFE1.predict_proba(x_test_RFE1)[:,1])\n",
    "print('---------------------------------------------')\n",
    "print('ROC_AUC is {} and accuracy rate is {}'.format(auc, model_RFE1.score(x_test_RFE1, y_test_RFE1)))"
   ]
  },
  {
   "cell_type": "raw",
   "metadata": {},
   "source": [
    "Precision for success has gone up and so has accuracy"
   ]
  },
  {
   "cell_type": "markdown",
   "metadata": {},
   "source": [
    "## Confusion Matrix"
   ]
  },
  {
   "cell_type": "code",
   "execution_count": null,
   "metadata": {},
   "outputs": [],
   "source": [
    "from sklearn.metrics import plot_confusion_matrix"
   ]
  },
  {
   "cell_type": "code",
   "execution_count": 99,
   "metadata": {},
   "outputs": [
    {
     "name": "stdout",
     "output_type": "stream",
     "text": [
      "The accuracy of the Model 0.834425831512503\n",
      "Confusion matrix, without normalization\n",
      "[[7093  154]\n",
      " [ 705  286]]\n",
      "Normalized confusion matrix\n",
      "[[0.97874983 0.02125017]\n",
      " [0.71140262 0.28859738]]\n"
     ]
    },
    {
     "data": {
      "image/png": "[encoded data removed]",
      "text/plain": [
       "<Figure size 432x288 with 2 Axes>"
      ]
     },
     "metadata": {
      "needs_background": "light"
     },
     "output_type": "display_data"
    },
    {
     "data": {
      "image/png": "[encoded data removed]",
      "text/plain": [
       "<Figure size 432x288 with 2 Axes>"
      ]
     },
     "metadata": {
      "needs_background": "light"
     },
     "output_type": "display_data"
    }
   ],
   "source": [
    "#Confusion Matrix For Regular Logistic \n",
    "\n",
    "print( \"The accuracy of the Model\",accuracy_score(y_test, predictions))\n",
    "\n",
    "class_names = [0, 1]\n",
    "\n",
    "titles_options = [(\"Confusion matrix, without normalization\", None),\n",
    "                  (\"Normalized confusion matrix\", 'true')]\n",
    "for title, normalize in titles_options:\n",
    "    disp = plot_confusion_matrix(model, x_test, y_test,\n",
    "                                 display_labels=class_names,\n",
    "                                 cmap=plt.cm.Blues,\n",
    "                                 normalize=normalize)\n",
    "    disp.ax_.set_title(title)\n",
    "\n",
    "    print(title)\n",
    "    print(disp.confusion_matrix)\n",
    "\n",
    "plt.show()\n",
    "\n",
    "#Very low target turn out even though it has 83% accuracy"
   ]
  },
  {
   "cell_type": "code",
   "execution_count": 100,
   "metadata": {},
   "outputs": [
    {
     "name": "stdout",
     "output_type": "stream",
     "text": [
      "The accuracy of the Model 0.8663510560815731\n",
      "Smote Confusion matrix, without normalization\n",
      "[[6437  905]\n",
      " [ 196  700]]\n",
      "Smote Normalized confusion matrix\n",
      "[[0.87673658 0.12326342]\n",
      " [0.21875    0.78125   ]]\n"
     ]
    },
    {
     "data": {
      "image/png": "[encoded data removed]",
      "text/plain": [
       "<Figure size 432x288 with 2 Axes>"
      ]
     },
     "metadata": {
      "needs_background": "light"
     },
     "output_type": "display_data"
    },
    {
     "data": {
      "image/png": "[encoded data removed]",
      "text/plain": [
       "<Figure size 432x288 with 2 Axes>"
      ]
     },
     "metadata": {
      "needs_background": "light"
     },
     "output_type": "display_data"
    }
   ],
   "source": [
    "#Confusion Matrix For Smote, an equalzer of weighted inputs\n",
    "\n",
    "print( \"The accuracy of the Model\",accuracy_score(y_test_sm, predictions_sm))\n",
    "\n",
    "class_names = [0, 1]\n",
    "\n",
    "titles_options = [(\"Smote Confusion matrix, without normalization\", None),\n",
    "                  (\"Smote Normalized confusion matrix\", 'true')]\n",
    "for title, normalize in titles_options:\n",
    "    disp = plot_confusion_matrix(model_sm, x_test_sm, y_test_sm,\n",
    "                                 display_labels=class_names,\n",
    "                                 cmap=plt.cm.Blues,\n",
    "                                 normalize=normalize)\n",
    "    disp.ax_.set_title(title)\n",
    "\n",
    "    print(title)\n",
    "    print(disp.confusion_matrix)\n",
    "\n",
    "plt.show()\n",
    "\n",
    "#Huge improvement on target output with a slight increase in false positive\n",
    "#There was a slight increase in accuracy"
   ]
  },
  {
   "cell_type": "code",
   "execution_count": 102,
   "metadata": {},
   "outputs": [
    {
     "name": "stdout",
     "output_type": "stream",
     "text": [
      "The accuracy of the Model 0.9089584850691915\n",
      "RFE1 Confusion matrix, without normalization\n",
      "[[7130  211]\n",
      " [ 539  358]]\n",
      "RFE1 Normalized confusion matrix\n",
      "[[0.97125732 0.02874268]\n",
      " [0.60089186 0.39910814]]\n"
     ]
    },
    {
     "data": {
      "image/png": "[encoded data removed]",
      "text/plain": [
       "<Figure size 432x288 with 2 Axes>"
      ]
     },
     "metadata": {
      "needs_background": "light"
     },
     "output_type": "display_data"
    },
    {
     "data": {
      "image/png": "[encoded data removed]",
      "text/plain": [
       "<Figure size 432x288 with 2 Axes>"
      ]
     },
     "metadata": {
      "needs_background": "light"
     },
     "output_type": "display_data"
    }
   ],
   "source": [
    "#Confusion Matrix For Rank Feauture Elimination\n",
    "\n",
    "print( \"The accuracy of the Model\",accuracy_score(y_test_RFE1, predictions_RFE1))\n",
    "\n",
    "class_names = [0, 1]\n",
    "\n",
    "titles_options = [(\"RFE1 Confusion matrix, without normalization\", None),\n",
    "                  (\"RFE1 Normalized confusion matrix\", 'true')]\n",
    "for title, normalize in titles_options:\n",
    "    disp = plot_confusion_matrix(model_RFE1, x_test_RFE1, y_test_RFE1,\n",
    "                                 display_labels=class_names,\n",
    "                                 cmap=plt.cm.Blues,\n",
    "                                 normalize=normalize)\n",
    "    disp.ax_.set_title(title)\n",
    "\n",
    "    print(title)\n",
    "    print(disp.confusion_matrix)\n",
    "\n",
    "plt.show()\n",
    "\n",
    "#Target improve sigmifacatly but not as much as SMOTE\n",
    "#However, there was no change in false positive\n",
    "#and a descent incrase in accuracy"
   ]
  },
  {
   "cell_type": "code",
   "execution_count": 103,
   "metadata": {},
   "outputs": [
    {
     "name": "stdout",
     "output_type": "stream",
     "text": [
      "The accuracy of the Model 0.8448652585579024\n",
      "Weight Confusion matrix, without normalization\n",
      "[[6143 1172]\n",
      " [ 106  817]]\n",
      "Weighte Normalized confusion matrix\n",
      "[[0.83978127 0.16021873]\n",
      " [0.1148429  0.8851571 ]]\n"
     ]
    },
    {
     "data": {
      "image/png": "[encoded data removed]",
      "text/plain": [
       "<Figure size 432x288 with 2 Axes>"
      ]
     },
     "metadata": {
      "needs_background": "light"
     },
     "output_type": "display_data"
    },
    {
     "data": {
      "image/png": "[encoded data removed]",
      "text/plain": [
       "<Figure size 432x288 with 2 Axes>"
      ]
     },
     "metadata": {
      "needs_background": "light"
     },
     "output_type": "display_data"
    }
   ],
   "source": [
    "#Confusion Matrix For a weighted logistic regression\n",
    "\n",
    "print( \"The accuracy of the Model\",accuracy_score(y_test_bw, predictions_bw))\n",
    "\n",
    "class_names = [0, 1]\n",
    "\n",
    "titles_options = [(\"Weight Confusion matrix, without normalization\", None),\n",
    "                  (\"Weighte Normalized confusion matrix\", 'true')]\n",
    "for title, normalize in titles_options:\n",
    "    disp = plot_confusion_matrix(model_bw, x_test_bw, y_test_bw,\n",
    "                                 display_labels=class_names,\n",
    "                                 cmap=plt.cm.Blues,\n",
    "                                 normalize=normalize)\n",
    "    disp.ax_.set_title(title)\n",
    "\n",
    "    print(title)\n",
    "    print(disp.confusion_matrix)\n",
    "\n",
    "plt.show()\n",
    "\n",
    "#Accuracy remained the same, and False positive increased significantly\n",
    "#However, Target Prediction perform amazing"
   ]
  },
  {
   "cell_type": "markdown",
   "metadata": {},
   "source": [
    "## Conclusion"
   ]
  },
  {
   "cell_type": "raw",
   "metadata": {},
   "source": [
    "Four different models were used to test for accuracy and target output turnout.\n",
    "The regular logistic model perform the worst in both Accuracy and target output.\n",
    "Smote has an increase in both accuracy and target output but has an increase of false positive by 10%.\n",
    "Weighted Logistic has the highest target output with the lowest accuracy and the highest falsa positive.\n",
    "RFE has the highet accuracy with a descent target output and hardly any false positives."
   ]
  },
  {
   "cell_type": "raw",
   "metadata": {},
   "source": [
    "The question that the best result come down to is how detrimental are the false positives?\n",
    "\n",
    "If false positives are too much of a cost then the RFE will be the best model because it has very little \n",
    "false positives and raises target output from 29% to 40%.\n",
    "\n",
    "If there is a false postive treshold, then here are the options:\n",
    "Smote) 10% increase false positive and 50% in targe output\n",
    "Weigthed) 12% increase false positive and a 68% in target output\n",
    "\n",
    "I would reccomend the weighted logistics because with an extra 2% false positive error\n",
    "you get an additional 18% in target output.\n",
    "\n",
    "Accuracy wasn't as useful as I expectedit to be."
   ]
  },
  {
   "cell_type": "raw",
   "metadata": {},
   "source": [
    "Data was too unbalance for target results, so bigger extrapolation is required but at the \n",
    "cost of greather errors. A more balance data would be highly reccomended for future models."
   ]
  }
 ],
 "metadata": {
  "kernelspec": {
   "display_name": "Python 3",
   "language": "python",
   "name": "python3"
  },
  "language_info": {
   "codemirror_mode": {
    "name": "ipython",
    "version": 3
   },
   "file_extension": ".py",
   "mimetype": "text/x-python",
   "name": "python",
   "nbconvert_exporter": "python",
   "pygments_lexer": "ipython3",
   "version": "3.7.9"
  }
 },
 "nbformat": 4,
 "nbformat_minor": 4
}
