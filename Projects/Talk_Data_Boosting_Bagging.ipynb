{
  "nbformat": 4,
  "nbformat_minor": 0,
  "metadata": {
    "colab": {
      "name": "Talk_Data_Boosting_Bagging.ipynb",
      "provenance": []
    },
    "kernelspec": {
      "name": "python3",
      "display_name": "Python 3"
    },
    "language_info": {
      "name": "python"
    }
  },
  "cells": [
    {
      "cell_type": "code",
      "metadata": {
        "colab": {
          "base_uri": "https://localhost:8080/"
        },
        "id": "huM-fvZvv-b2",
        "outputId": "64d2074e-9eea-477b-e24c-ee07848ab85a"
      },
      "source": [
        "#Mounting Google Drive Locally\n",
        "\n",
        "from google.colab import drive\n",
        "drive.mount('/content/drive')"
      ],
      "execution_count": 1,
      "outputs": [
        {
          "output_type": "stream",
          "text": [
            "Mounted at /content/drive\n"
          ],
          "name": "stdout"
        }
      ]
    },
    {
      "cell_type": "code",
      "metadata": {
        "id": "6GkXRbW0weHU"
      },
      "source": [
        "#set google drive path from personal google drive\n",
        "import os\n",
        "os.chdir('/content/drive/MyDrive/Colab Notebooks')"
      ],
      "execution_count": 2,
      "outputs": []
    },
    {
      "cell_type": "code",
      "metadata": {
        "id": "hL3cbX8xweKQ"
      },
      "source": [
        "# Import the dependencies\n",
        "import matplotlib.pyplot as plt\n",
        "import seaborn as sns\n",
        "import pandas as pd\n",
        "import numpy as np\n",
        "\n",
        "from sklearn.linear_model import LogisticRegression\n",
        "from sklearn.metrics import classification_report\n",
        "from sklearn.metrics import accuracy_score\n",
        "from sklearn.model_selection import train_test_split\n",
        "from sklearn.metrics import mean_squared_error,mean_absolute_error, r2_score\n",
        "from sklearn.metrics import roc_curve, roc_auc_score\n",
        "\n",
        "#warnings\n",
        "import warnings\n",
        "warnings.filterwarnings(\"ignore\")"
      ],
      "execution_count": 3,
      "outputs": []
    },
    {
      "cell_type": "code",
      "metadata": {
        "colab": {
          "base_uri": "https://localhost:8080/",
          "height": 204
        },
        "id": "mdhMPW_iweM5",
        "outputId": "6221349b-dcf6-42c5-a2d1-b762a8a4d99d"
      },
      "source": [
        "#import Data\n",
        "data=pd.read_csv('/content/drive/MyDrive/Colab Notebooks/csv_folder/talking_data.csv', parse_dates = ['click_time'])\n",
        "data.head()\n",
        "#Note:use parse_dates for 'click_time' column to use dt. accesories "
      ],
      "execution_count": 5,
      "outputs": [
        {
          "output_type": "execute_result",
          "data": {
            "text/html": [
              "<div>\n",
              "<style scoped>\n",
              "    .dataframe tbody tr th:only-of-type {\n",
              "        vertical-align: middle;\n",
              "    }\n",
              "\n",
              "    .dataframe tbody tr th {\n",
              "        vertical-align: top;\n",
              "    }\n",
              "\n",
              "    .dataframe thead th {\n",
              "        text-align: right;\n",
              "    }\n",
              "</style>\n",
              "<table border=\"1\" class=\"dataframe\">\n",
              "  <thead>\n",
              "    <tr style=\"text-align: right;\">\n",
              "      <th></th>\n",
              "      <th>ip</th>\n",
              "      <th>app</th>\n",
              "      <th>device</th>\n",
              "      <th>os</th>\n",
              "      <th>channel</th>\n",
              "      <th>click_time</th>\n",
              "      <th>attributed_time</th>\n",
              "      <th>is_attributed</th>\n",
              "    </tr>\n",
              "  </thead>\n",
              "  <tbody>\n",
              "    <tr>\n",
              "      <th>0</th>\n",
              "      <td>87540</td>\n",
              "      <td>12</td>\n",
              "      <td>1</td>\n",
              "      <td>13</td>\n",
              "      <td>497</td>\n",
              "      <td>2017-11-07 09:30:38</td>\n",
              "      <td>NaN</td>\n",
              "      <td>0</td>\n",
              "    </tr>\n",
              "    <tr>\n",
              "      <th>1</th>\n",
              "      <td>105560</td>\n",
              "      <td>25</td>\n",
              "      <td>1</td>\n",
              "      <td>17</td>\n",
              "      <td>259</td>\n",
              "      <td>2017-11-07 13:40:27</td>\n",
              "      <td>NaN</td>\n",
              "      <td>0</td>\n",
              "    </tr>\n",
              "    <tr>\n",
              "      <th>2</th>\n",
              "      <td>101424</td>\n",
              "      <td>12</td>\n",
              "      <td>1</td>\n",
              "      <td>19</td>\n",
              "      <td>212</td>\n",
              "      <td>2017-11-07 18:05:24</td>\n",
              "      <td>NaN</td>\n",
              "      <td>0</td>\n",
              "    </tr>\n",
              "    <tr>\n",
              "      <th>3</th>\n",
              "      <td>94584</td>\n",
              "      <td>13</td>\n",
              "      <td>1</td>\n",
              "      <td>13</td>\n",
              "      <td>477</td>\n",
              "      <td>2017-11-07 04:58:08</td>\n",
              "      <td>NaN</td>\n",
              "      <td>0</td>\n",
              "    </tr>\n",
              "    <tr>\n",
              "      <th>4</th>\n",
              "      <td>68413</td>\n",
              "      <td>12</td>\n",
              "      <td>1</td>\n",
              "      <td>1</td>\n",
              "      <td>178</td>\n",
              "      <td>2017-11-09 09:00:09</td>\n",
              "      <td>NaN</td>\n",
              "      <td>0</td>\n",
              "    </tr>\n",
              "  </tbody>\n",
              "</table>\n",
              "</div>"
            ],
            "text/plain": [
              "       ip  app  device  ...          click_time  attributed_time is_attributed\n",
              "0   87540   12       1  ... 2017-11-07 09:30:38              NaN             0\n",
              "1  105560   25       1  ... 2017-11-07 13:40:27              NaN             0\n",
              "2  101424   12       1  ... 2017-11-07 18:05:24              NaN             0\n",
              "3   94584   13       1  ... 2017-11-07 04:58:08              NaN             0\n",
              "4   68413   12       1  ... 2017-11-09 09:00:09              NaN             0\n",
              "\n",
              "[5 rows x 8 columns]"
            ]
          },
          "metadata": {
            "tags": []
          },
          "execution_count": 5
        }
      ]
    },
    {
      "cell_type": "code",
      "metadata": {
        "colab": {
          "base_uri": "https://localhost:8080/"
        },
        "id": "SNvtExgzwePl",
        "outputId": "6da2f7ec-74c6-45d2-e057-d865d1538d2c"
      },
      "source": [
        "#checking target values of download versus no app download\n",
        "data['is_attributed'].value_counts()\n",
        "#people rarely download after advertisement"
      ],
      "execution_count": 6,
      "outputs": [
        {
          "output_type": "execute_result",
          "data": {
            "text/plain": [
              "0    99773\n",
              "1      227\n",
              "Name: is_attributed, dtype: int64"
            ]
          },
          "metadata": {
            "tags": []
          },
          "execution_count": 6
        }
      ]
    },
    {
      "cell_type": "markdown",
      "metadata": {
        "id": "cPjQPy6Q2x5h"
      },
      "source": [
        "**Atribute Information**"
      ]
    },
    {
      "cell_type": "markdown",
      "metadata": {
        "id": "P3gxx8Qh29bD"
      },
      "source": [
        "The detailed data dictionary is mentioned here:\n",
        "\n",
        "\n",
        "1.   ip: ip address of click. \n",
        "2.   app: app id for marketing.\n",
        "3. device: device type id of user mobile phone (e.g., iphone 6 plus, iphone 7, huawei mate 7, etc.)\n",
        "4. os: os version id of user mobile phone.\n",
        "5. channel: channel id of mobile ad publisher.\n",
        "6. click_time: timestamp of click (UTC)\n",
        "7. attributed_time: if user download the app for after clicking an ad, this is the time of the app download.\n",
        "8. is_attributed: the target that is to be predicted, indicating the app was downloaded."
      ]
    },
    {
      "cell_type": "markdown",
      "metadata": {
        "id": "Z2Ho00mM5APG"
      },
      "source": [
        "**EDA**"
      ]
    },
    {
      "cell_type": "code",
      "metadata": {
        "colab": {
          "base_uri": "https://localhost:8080/"
        },
        "id": "9Rk1Nl-0weSK",
        "outputId": "de496f5b-5c52-4435-f311-3809a1c7e89a"
      },
      "source": [
        "data.info()"
      ],
      "execution_count": 7,
      "outputs": [
        {
          "output_type": "stream",
          "text": [
            "<class 'pandas.core.frame.DataFrame'>\n",
            "RangeIndex: 100000 entries, 0 to 99999\n",
            "Data columns (total 8 columns):\n",
            " #   Column           Non-Null Count   Dtype         \n",
            "---  ------           --------------   -----         \n",
            " 0   ip               100000 non-null  int64         \n",
            " 1   app              100000 non-null  int64         \n",
            " 2   device           100000 non-null  int64         \n",
            " 3   os               100000 non-null  int64         \n",
            " 4   channel          100000 non-null  int64         \n",
            " 5   click_time       100000 non-null  datetime64[ns]\n",
            " 6   attributed_time  227 non-null     object        \n",
            " 7   is_attributed    100000 non-null  int64         \n",
            "dtypes: datetime64[ns](1), int64(6), object(1)\n",
            "memory usage: 6.1+ MB\n"
          ],
          "name": "stdout"
        }
      ]
    },
    {
      "cell_type": "code",
      "metadata": {
        "colab": {
          "base_uri": "https://localhost:8080/"
        },
        "id": "Dibi1AoIweUz",
        "outputId": "3513c9b7-6f78-4eb1-d66d-895af09a28c9"
      },
      "source": [
        "#Identifing missing Values\n",
        "miss_val = data.isna().sum()\n",
        "miss_val"
      ],
      "execution_count": 8,
      "outputs": [
        {
          "output_type": "execute_result",
          "data": {
            "text/plain": [
              "ip                     0\n",
              "app                    0\n",
              "device                 0\n",
              "os                     0\n",
              "channel                0\n",
              "click_time             0\n",
              "attributed_time    99773\n",
              "is_attributed          0\n",
              "dtype: int64"
            ]
          },
          "metadata": {
            "tags": []
          },
          "execution_count": 8
        }
      ]
    },
    {
      "cell_type": "code",
      "metadata": {
        "colab": {
          "base_uri": "https://localhost:8080/"
        },
        "id": "bJuQXXJYweXg",
        "outputId": "071b5fc7-7499-4752-a52c-211124c71a9a"
      },
      "source": [
        "#Unique Values in the data frame\n",
        "\n",
        "def fraction_unique(x):\n",
        "    return len(data[x].unique())\n",
        "\n",
        "number_unique_vals={x:fraction_unique(x) for x in data.columns}\n",
        "\n",
        "number_unique_vals\n",
        "\n",
        "#'click_time' has the highest volume of unique values"
      ],
      "execution_count": 9,
      "outputs": [
        {
          "output_type": "execute_result",
          "data": {
            "text/plain": [
              "{'app': 161,\n",
              " 'attributed_time': 228,\n",
              " 'channel': 161,\n",
              " 'click_time': 80350,\n",
              " 'device': 100,\n",
              " 'ip': 34857,\n",
              " 'is_attributed': 2,\n",
              " 'os': 130}"
            ]
          },
          "metadata": {
            "tags": []
          },
          "execution_count": 9
        }
      ]
    },
    {
      "cell_type": "code",
      "metadata": {
        "colab": {
          "base_uri": "https://localhost:8080/"
        },
        "id": "aicd-1kb5ISS",
        "outputId": "cdad5dca-afe9-4772-d342-7f0982a7daf8"
      },
      "source": [
        "#This will create a one column data frame for which the 'app' column \n",
        "#will have boolean statements True/Flase base on a condition that the values \n",
        "#counts are greater than 1%, then it'll show value counts.\n",
        "print((data['app'].value_counts()/100000 > 0.01).value_counts())\n",
        "print('---------------------------------------------')\n",
        "\n",
        "#creates a series with unique values that meet the conditions\n",
        "#by deleting all rows  from that one column that don't meet conditions.\n",
        "df= data['app'].value_counts()/100000 > 0.01\n",
        "df.drop(df[df == False].index, inplace=True)\n",
        "df.index"
      ],
      "execution_count": 10,
      "outputs": [
        {
          "output_type": "stream",
          "text": [
            "False    145\n",
            "True      16\n",
            "Name: app, dtype: int64\n",
            "---------------------------------------------\n"
          ],
          "name": "stdout"
        },
        {
          "output_type": "execute_result",
          "data": {
            "text/plain": [
              "Int64Index([3, 12, 2, 9, 15, 18, 14, 1, 13, 8, 21, 11, 26, 23, 6, 64], dtype='int64')"
            ]
          },
          "metadata": {
            "tags": []
          },
          "execution_count": 10
        }
      ]
    },
    {
      "cell_type": "code",
      "metadata": {
        "colab": {
          "base_uri": "https://localhost:8080/"
        },
        "id": "ZvJtPqQ85IVL",
        "outputId": "2e933d89-2829-4f75-81fc-98410cf38e6e"
      },
      "source": [
        "#gets rid all rows that have 'app' that don't meet conditions\n",
        "\n",
        "data2=data.loc[data['app'].isin([3, 12, 2, 9, 15, 18, 14, 1, 13, 8, 21, 11, 26, 23, 6, 64])]\n",
        "data2['app'].value_counts()\n",
        "data2.info()"
      ],
      "execution_count": 11,
      "outputs": [
        {
          "output_type": "stream",
          "text": [
            "<class 'pandas.core.frame.DataFrame'>\n",
            "Int64Index: 91411 entries, 0 to 99999\n",
            "Data columns (total 8 columns):\n",
            " #   Column           Non-Null Count  Dtype         \n",
            "---  ------           --------------  -----         \n",
            " 0   ip               91411 non-null  int64         \n",
            " 1   app              91411 non-null  int64         \n",
            " 2   device           91411 non-null  int64         \n",
            " 3   os               91411 non-null  int64         \n",
            " 4   channel          91411 non-null  int64         \n",
            " 5   click_time       91411 non-null  datetime64[ns]\n",
            " 6   attributed_time  26 non-null     object        \n",
            " 7   is_attributed    91411 non-null  int64         \n",
            "dtypes: datetime64[ns](1), int64(6), object(1)\n",
            "memory usage: 6.3+ MB\n"
          ],
          "name": "stdout"
        }
      ]
    },
    {
      "cell_type": "code",
      "metadata": {
        "colab": {
          "base_uri": "https://localhost:8080/"
        },
        "id": "iMMaLUrl5IXm",
        "outputId": "2fa87609-7574-401a-a4c3-796b57f14c3e"
      },
      "source": [
        "#get rid of 'attributed_time' column because it lacks data\n",
        "data2= data2.drop(['attributed_time'], axis = 1)\n",
        "data2.info()"
      ],
      "execution_count": 12,
      "outputs": [
        {
          "output_type": "stream",
          "text": [
            "<class 'pandas.core.frame.DataFrame'>\n",
            "Int64Index: 91411 entries, 0 to 99999\n",
            "Data columns (total 7 columns):\n",
            " #   Column         Non-Null Count  Dtype         \n",
            "---  ------         --------------  -----         \n",
            " 0   ip             91411 non-null  int64         \n",
            " 1   app            91411 non-null  int64         \n",
            " 2   device         91411 non-null  int64         \n",
            " 3   os             91411 non-null  int64         \n",
            " 4   channel        91411 non-null  int64         \n",
            " 5   click_time     91411 non-null  datetime64[ns]\n",
            " 6   is_attributed  91411 non-null  int64         \n",
            "dtypes: datetime64[ns](1), int64(6)\n",
            "memory usage: 5.6 MB\n"
          ],
          "name": "stdout"
        }
      ]
    },
    {
      "cell_type": "code",
      "metadata": {
        "colab": {
          "base_uri": "https://localhost:8080/",
          "height": 204
        },
        "id": "fP-eAUcs5IaH",
        "outputId": "e8621e02-b17c-4be5-abca-fedcc94948a5"
      },
      "source": [
        "# Creating features from click_time\n",
        "data2['cl_year'] = data2['click_time'].dt.year.astype('int64')\n",
        "data2['cl_month'] = data2['click_time'].dt.month.astype('int64')\n",
        "data2['cl_day'] = data2['click_time'].dt.day.astype('int64')\n",
        "data2['cl_hour'] = data2['click_time'].dt.hour.astype('int64')\n",
        "data2['cl_minute'] = data2['click_time'].dt.minute.astype('int64')\n",
        "data2['cl_second'] = data2['click_time'].dt.second.astype('int64')\n",
        "\n",
        "data2.head()"
      ],
      "execution_count": 13,
      "outputs": [
        {
          "output_type": "execute_result",
          "data": {
            "text/html": [
              "<div>\n",
              "<style scoped>\n",
              "    .dataframe tbody tr th:only-of-type {\n",
              "        vertical-align: middle;\n",
              "    }\n",
              "\n",
              "    .dataframe tbody tr th {\n",
              "        vertical-align: top;\n",
              "    }\n",
              "\n",
              "    .dataframe thead th {\n",
              "        text-align: right;\n",
              "    }\n",
              "</style>\n",
              "<table border=\"1\" class=\"dataframe\">\n",
              "  <thead>\n",
              "    <tr style=\"text-align: right;\">\n",
              "      <th></th>\n",
              "      <th>ip</th>\n",
              "      <th>app</th>\n",
              "      <th>device</th>\n",
              "      <th>os</th>\n",
              "      <th>channel</th>\n",
              "      <th>click_time</th>\n",
              "      <th>is_attributed</th>\n",
              "      <th>cl_year</th>\n",
              "      <th>cl_month</th>\n",
              "      <th>cl_day</th>\n",
              "      <th>cl_hour</th>\n",
              "      <th>cl_minute</th>\n",
              "      <th>cl_second</th>\n",
              "    </tr>\n",
              "  </thead>\n",
              "  <tbody>\n",
              "    <tr>\n",
              "      <th>0</th>\n",
              "      <td>87540</td>\n",
              "      <td>12</td>\n",
              "      <td>1</td>\n",
              "      <td>13</td>\n",
              "      <td>497</td>\n",
              "      <td>2017-11-07 09:30:38</td>\n",
              "      <td>0</td>\n",
              "      <td>2017</td>\n",
              "      <td>11</td>\n",
              "      <td>7</td>\n",
              "      <td>9</td>\n",
              "      <td>30</td>\n",
              "      <td>38</td>\n",
              "    </tr>\n",
              "    <tr>\n",
              "      <th>2</th>\n",
              "      <td>101424</td>\n",
              "      <td>12</td>\n",
              "      <td>1</td>\n",
              "      <td>19</td>\n",
              "      <td>212</td>\n",
              "      <td>2017-11-07 18:05:24</td>\n",
              "      <td>0</td>\n",
              "      <td>2017</td>\n",
              "      <td>11</td>\n",
              "      <td>7</td>\n",
              "      <td>18</td>\n",
              "      <td>5</td>\n",
              "      <td>24</td>\n",
              "    </tr>\n",
              "    <tr>\n",
              "      <th>3</th>\n",
              "      <td>94584</td>\n",
              "      <td>13</td>\n",
              "      <td>1</td>\n",
              "      <td>13</td>\n",
              "      <td>477</td>\n",
              "      <td>2017-11-07 04:58:08</td>\n",
              "      <td>0</td>\n",
              "      <td>2017</td>\n",
              "      <td>11</td>\n",
              "      <td>7</td>\n",
              "      <td>4</td>\n",
              "      <td>58</td>\n",
              "      <td>8</td>\n",
              "    </tr>\n",
              "    <tr>\n",
              "      <th>4</th>\n",
              "      <td>68413</td>\n",
              "      <td>12</td>\n",
              "      <td>1</td>\n",
              "      <td>1</td>\n",
              "      <td>178</td>\n",
              "      <td>2017-11-09 09:00:09</td>\n",
              "      <td>0</td>\n",
              "      <td>2017</td>\n",
              "      <td>11</td>\n",
              "      <td>9</td>\n",
              "      <td>9</td>\n",
              "      <td>0</td>\n",
              "      <td>9</td>\n",
              "    </tr>\n",
              "    <tr>\n",
              "      <th>5</th>\n",
              "      <td>93663</td>\n",
              "      <td>3</td>\n",
              "      <td>1</td>\n",
              "      <td>17</td>\n",
              "      <td>115</td>\n",
              "      <td>2017-11-09 01:22:13</td>\n",
              "      <td>0</td>\n",
              "      <td>2017</td>\n",
              "      <td>11</td>\n",
              "      <td>9</td>\n",
              "      <td>1</td>\n",
              "      <td>22</td>\n",
              "      <td>13</td>\n",
              "    </tr>\n",
              "  </tbody>\n",
              "</table>\n",
              "</div>"
            ],
            "text/plain": [
              "       ip  app  device  os  ...  cl_day cl_hour  cl_minute  cl_second\n",
              "0   87540   12       1  13  ...       7       9         30         38\n",
              "2  101424   12       1  19  ...       7      18          5         24\n",
              "3   94584   13       1  13  ...       7       4         58          8\n",
              "4   68413   12       1   1  ...       9       9          0          9\n",
              "5   93663    3       1  17  ...       9       1         22         13\n",
              "\n",
              "[5 rows x 13 columns]"
            ]
          },
          "metadata": {
            "tags": []
          },
          "execution_count": 13
        }
      ]
    },
    {
      "cell_type": "code",
      "metadata": {
        "colab": {
          "base_uri": "https://localhost:8080/"
        },
        "id": "mny4tgJJ5Icd",
        "outputId": "f891fa98-63c9-41e7-aa54-d2b40aa8e770"
      },
      "source": [
        "#check to make sure all date times have data\n",
        "data2.info()"
      ],
      "execution_count": 14,
      "outputs": [
        {
          "output_type": "stream",
          "text": [
            "<class 'pandas.core.frame.DataFrame'>\n",
            "Int64Index: 91411 entries, 0 to 99999\n",
            "Data columns (total 13 columns):\n",
            " #   Column         Non-Null Count  Dtype         \n",
            "---  ------         --------------  -----         \n",
            " 0   ip             91411 non-null  int64         \n",
            " 1   app            91411 non-null  int64         \n",
            " 2   device         91411 non-null  int64         \n",
            " 3   os             91411 non-null  int64         \n",
            " 4   channel        91411 non-null  int64         \n",
            " 5   click_time     91411 non-null  datetime64[ns]\n",
            " 6   is_attributed  91411 non-null  int64         \n",
            " 7   cl_year        91411 non-null  int64         \n",
            " 8   cl_month       91411 non-null  int64         \n",
            " 9   cl_day         91411 non-null  int64         \n",
            " 10  cl_hour        91411 non-null  int64         \n",
            " 11  cl_minute      91411 non-null  int64         \n",
            " 12  cl_second      91411 non-null  int64         \n",
            "dtypes: datetime64[ns](1), int64(12)\n",
            "memory usage: 9.8 MB\n"
          ],
          "name": "stdout"
        }
      ]
    },
    {
      "cell_type": "code",
      "metadata": {
        "colab": {
          "base_uri": "https://localhost:8080/"
        },
        "id": "2hJ9_zpL5Ify",
        "outputId": "563ab3dc-4310-400d-c007-fc31dbb3f007"
      },
      "source": [
        "#get rid of 'click_time' column because it lacks data\n",
        "data2= data2.drop(['click_time'], axis = 1)\n",
        "data2.info(), data2.describe()"
      ],
      "execution_count": 15,
      "outputs": [
        {
          "output_type": "stream",
          "text": [
            "<class 'pandas.core.frame.DataFrame'>\n",
            "Int64Index: 91411 entries, 0 to 99999\n",
            "Data columns (total 12 columns):\n",
            " #   Column         Non-Null Count  Dtype\n",
            "---  ------         --------------  -----\n",
            " 0   ip             91411 non-null  int64\n",
            " 1   app            91411 non-null  int64\n",
            " 2   device         91411 non-null  int64\n",
            " 3   os             91411 non-null  int64\n",
            " 4   channel        91411 non-null  int64\n",
            " 5   is_attributed  91411 non-null  int64\n",
            " 6   cl_year        91411 non-null  int64\n",
            " 7   cl_month       91411 non-null  int64\n",
            " 8   cl_day         91411 non-null  int64\n",
            " 9   cl_hour        91411 non-null  int64\n",
            " 10  cl_minute      91411 non-null  int64\n",
            " 11  cl_second      91411 non-null  int64\n",
            "dtypes: int64(12)\n",
            "memory usage: 9.1 MB\n"
          ],
          "name": "stdout"
        },
        {
          "output_type": "execute_result",
          "data": {
            "text/plain": [
              "(None,                   ip           app  ...     cl_minute     cl_second\n",
              " count   91411.000000  91411.000000  ...  91411.000000  91411.000000\n",
              " mean    90719.794872     10.254991  ...     29.110031     29.783068\n",
              " std     69214.135799      8.682855  ...     17.369994     17.229401\n",
              " min         9.000000      1.000000  ...      0.000000      0.000000\n",
              " 25%     40400.000000      3.000000  ...     14.000000     15.000000\n",
              " 50%     79219.000000     11.000000  ...     29.000000     30.000000\n",
              " 75%    117867.000000     15.000000  ...     44.000000     45.000000\n",
              " max    364757.000000     64.000000  ...     59.000000     59.000000\n",
              " \n",
              " [8 rows x 12 columns])"
            ]
          },
          "metadata": {
            "tags": []
          },
          "execution_count": 15
        }
      ]
    },
    {
      "cell_type": "markdown",
      "metadata": {
        "id": "tc3Kkd425rE0"
      },
      "source": [
        "**Train Data**\n"
      ]
    },
    {
      "cell_type": "code",
      "metadata": {
        "colab": {
          "base_uri": "https://localhost:8080/"
        },
        "id": "EDsjfWD65Ij8",
        "outputId": "7a13dce0-6ebb-408f-e32b-6bf778f757f8"
      },
      "source": [
        "#seperating dependent data vs independent\n",
        "\n",
        "x = data2.drop(['is_attributed'], axis = 1) #independent\n",
        "y = data2['is_attributed'] #dependent\n",
        "\n",
        "print('size of data frame', data2.shape)\n",
        "print('size of the array x', x.shape)\n",
        "print('size of the array y', y.shape)"
      ],
      "execution_count": 16,
      "outputs": [
        {
          "output_type": "stream",
          "text": [
            "size of data frame (91411, 12)\n",
            "size of the array x (91411, 11)\n",
            "size of the array y (91411,)\n"
          ],
          "name": "stdout"
        }
      ]
    },
    {
      "cell_type": "code",
      "metadata": {
        "id": "r9Wv9_Lz5Im2"
      },
      "source": [
        "#Split the data into 80% training and 20% testing\n",
        "x_train, x_test, y_train, y_test = train_test_split(x, y, test_size=0.2)"
      ],
      "execution_count": 17,
      "outputs": []
    },
    {
      "cell_type": "markdown",
      "metadata": {
        "id": "82-oh7Du5_WV"
      },
      "source": [
        "**Random Forest Model**"
      ]
    },
    {
      "cell_type": "code",
      "metadata": {
        "colab": {
          "base_uri": "https://localhost:8080/"
        },
        "id": "Nx6ZsC3O5Ipd",
        "outputId": "c5256224-e3b8-430d-af30-2bbb55c2d9b7"
      },
      "source": [
        "#Apply the Random forest model and print the accuracy of Random forest Mode\n",
        "from sklearn.ensemble import RandomForestClassifier\n",
        "from sklearn import metrics\n",
        "\n",
        "rfcl = RandomForestClassifier(criterion = 'entropy', class_weight={0:.5,1:.5}, max_depth = 5, min_samples_leaf=5)\n",
        "rfcl = rfcl.fit(x_train, y_train)\n",
        "test_pred = rfcl.predict(x_test)\n",
        "rfcl_score=rfcl.score(x_test , y_test)\n",
        "print(\"The Random forest model accuracy is {}\".format(rfcl_score))\n",
        "print(\"The confusion matrix of Random Forest Model is\")\n",
        "print(metrics.confusion_matrix(y_test,test_pred))\n",
        "\n",
        "#Check ROC_AUC\n",
        "print('---------------------------------------------')\n",
        "auc_rf = roc_auc_score(y_test, rfcl.predict_proba(x_test)[:,1])\n",
        "print(auc_rf)"
      ],
      "execution_count": 18,
      "outputs": [
        {
          "output_type": "stream",
          "text": [
            "The Random forest model accuracy is 0.9996718262867145\n",
            "The confusion matrix of Random Forest Model is\n",
            "[[18277     0]\n",
            " [    6     0]]\n",
            "---------------------------------------------\n",
            "0.6728310627199942\n"
          ],
          "name": "stdout"
        }
      ]
    },
    {
      "cell_type": "code",
      "metadata": {
        "colab": {
          "base_uri": "https://localhost:8080/",
          "height": 452
        },
        "id": "8UIBqOuh52pM",
        "outputId": "ecf0291a-7b7d-4d47-9cb9-f2f003b9c5bf"
      },
      "source": [
        "from matplotlib import pyplot\n",
        "# get importance\n",
        "importance_rfcl = rfcl.feature_importances_\n",
        "# summarize feature importance\n",
        "for i,v in enumerate(importance_rfcl):\n",
        "    print('Feature: %0d, Score: %.5f' % (i,v))\n",
        "# plot feature importance\n",
        "pyplot.bar([x for x in range(len(importance_rfcl))], importance_rfcl)\n",
        "pyplot.show()"
      ],
      "execution_count": 19,
      "outputs": [
        {
          "output_type": "stream",
          "text": [
            "Feature: 0, Score: 0.19475\n",
            "Feature: 1, Score: 0.11748\n",
            "Feature: 2, Score: 0.00707\n",
            "Feature: 3, Score: 0.06495\n",
            "Feature: 4, Score: 0.19285\n",
            "Feature: 5, Score: 0.00000\n",
            "Feature: 6, Score: 0.00000\n",
            "Feature: 7, Score: 0.04521\n",
            "Feature: 8, Score: 0.13766\n",
            "Feature: 9, Score: 0.12547\n",
            "Feature: 10, Score: 0.11457\n"
          ],
          "name": "stdout"
        },
        {
          "output_type": "display_data",
          "data": {
            "image/png": "[encoded data removed]",
            "text/plain": [
              "<Figure size 432x288 with 1 Axes>"
            ]
          },
          "metadata": {
            "tags": [],
            "needs_background": "light"
          }
        }
      ]
    },
    {
      "cell_type": "code",
      "metadata": {
        "colab": {
          "base_uri": "https://localhost:8080/"
        },
        "id": "JJKVJnIu52r-",
        "outputId": "677904a7-a4a2-4764-d7da-de398e639c63"
      },
      "source": [
        "x.info()"
      ],
      "execution_count": 20,
      "outputs": [
        {
          "output_type": "stream",
          "text": [
            "<class 'pandas.core.frame.DataFrame'>\n",
            "Int64Index: 91411 entries, 0 to 99999\n",
            "Data columns (total 11 columns):\n",
            " #   Column     Non-Null Count  Dtype\n",
            "---  ------     --------------  -----\n",
            " 0   ip         91411 non-null  int64\n",
            " 1   app        91411 non-null  int64\n",
            " 2   device     91411 non-null  int64\n",
            " 3   os         91411 non-null  int64\n",
            " 4   channel    91411 non-null  int64\n",
            " 5   cl_year    91411 non-null  int64\n",
            " 6   cl_month   91411 non-null  int64\n",
            " 7   cl_day     91411 non-null  int64\n",
            " 8   cl_hour    91411 non-null  int64\n",
            " 9   cl_minute  91411 non-null  int64\n",
            " 10  cl_second  91411 non-null  int64\n",
            "dtypes: int64(11)\n",
            "memory usage: 8.4 MB\n"
          ],
          "name": "stdout"
        }
      ]
    },
    {
      "cell_type": "markdown",
      "metadata": {
        "id": "muZctGq56TTv"
      },
      "source": [
        "the best features base of the resultsfrom descending order are:\n",
        "\n",
        "0: IP\n",
        "\n",
        "4: Channel\n",
        "\n",
        "9: cl_minute\n",
        "\n",
        "3: os\n",
        "\n",
        "10: cl_seconds\n",
        "\n",
        "Random forest is used to find importance feutures, this can't be done with bagging \n",
        "clasifier but it can be done with xgboost clasifier. Unfortunately my computer isn't \n",
        "capable of importing the xgboost library."
      ]
    },
    {
      "cell_type": "markdown",
      "metadata": {
        "id": "lsF-9dk663zo"
      },
      "source": [
        "**Bagging Classifier**"
      ]
    },
    {
      "cell_type": "code",
      "metadata": {
        "colab": {
          "base_uri": "https://localhost:8080/"
        },
        "id": "unvs2Lov52ua",
        "outputId": "6298c195-2bdb-4b24-d0c7-c657291ada95"
      },
      "source": [
        "#Apply Bagging Classifier Algorithm and print the accuracy\n",
        "from sklearn.ensemble import BaggingClassifier\n",
        "\n",
        "bgcl = BaggingClassifier(n_estimators=10, max_samples= .7, bootstrap=True)\n",
        "bgcl = bgcl.fit(x_train, y_train)\n",
        "test_pred = bgcl.predict(x_test)\n",
        "bgcl_score=bgcl.score(x_test, y_test)\n",
        "print(\"The Bagging classifier model accuracy is {}\".format(bgcl_score))\n",
        "print(\"The confusion matrix of Bagging classifier model is\")\n",
        "print(metrics.confusion_matrix(y_test,test_pred))\n",
        "\n",
        "#bagging classifier doesn't have any features importances atributes\n",
        "\n",
        "#Check ROC_AUC\n",
        "print('---------------------------------------------')\n",
        "auc_bg = roc_auc_score(y_test, bgcl.predict_proba(x_test)[:,1])\n",
        "print(auc_bg)"
      ],
      "execution_count": 21,
      "outputs": [
        {
          "output_type": "stream",
          "text": [
            "The Bagging classifier model accuracy is 0.9996718262867145\n",
            "The confusion matrix of Bagging classifier model is\n",
            "[[18277     0]\n",
            " [    6     0]]\n",
            "---------------------------------------------\n",
            "0.49860480385183564\n"
          ],
          "name": "stdout"
        }
      ]
    },
    {
      "cell_type": "markdown",
      "metadata": {
        "id": "3kXtYHpj7ELL"
      },
      "source": [
        "**XGBoost Clasifier**"
      ]
    },
    {
      "cell_type": "code",
      "metadata": {
        "colab": {
          "base_uri": "https://localhost:8080/"
        },
        "id": "N9km61XX52xC",
        "outputId": "0e56c4b2-f200-42a9-8fd9-476a0c121982"
      },
      "source": [
        "#Apply XGBoostClassifier with default parameters on training data and make first 10 prediction for Test data.          \n",
        "#NOTE: Use y_pred = model.predict_proba(x_test) since we need probabilities to compute AUC.\n",
        "import xgboost as xgb\n",
        "from xgboost import XGBClassifier\n",
        "from xgboost import plot_importance\n",
        "\n",
        "model = XGBClassifier()\n",
        "model.fit(x_train, y_train)\n",
        "y_pred = model.predict_proba(x_test)\n",
        "y_pred[:10]\n",
        "roc = metrics.roc_auc_score(y_test, y_pred[:, 1])\n",
        "print(\"AUC: %.2f%%\" % (roc * 100.0))\n",
        "\n",
        "#Check ROC_AUC\n",
        "print('---------------------------------------------')\n",
        "auc_xg = roc_auc_score(y_test, model.predict_proba(x_test)[:,1])\n",
        "print(auc_xg)"
      ],
      "execution_count": 22,
      "outputs": [
        {
          "output_type": "stream",
          "text": [
            "AUC: 57.35%\n",
            "---------------------------------------------\n",
            "0.5734529736827707\n"
          ],
          "name": "stdout"
        }
      ]
    },
    {
      "cell_type": "code",
      "metadata": {
        "colab": {
          "base_uri": "https://localhost:8080/",
          "height": 452
        },
        "id": "EM0aFCN37CPc",
        "outputId": "2beed28d-ac20-4107-87fb-69adfbeb0e67"
      },
      "source": [
        "#to get important feutures using XGBoost\n",
        "importance = model.feature_importances_\n",
        "# summarize feature importance\n",
        "for i,v in enumerate(importance):\n",
        "    print('Feature: %0d, Score: %.5f' % (i,v))\n",
        "# plot feature importance\n",
        "pyplot.bar([x for x in range(len(importance))], importance)\n",
        "pyplot.show()"
      ],
      "execution_count": 23,
      "outputs": [
        {
          "output_type": "stream",
          "text": [
            "Feature: 0, Score: 0.13714\n",
            "Feature: 1, Score: 0.19546\n",
            "Feature: 2, Score: 0.00000\n",
            "Feature: 3, Score: 0.12777\n",
            "Feature: 4, Score: 0.10521\n",
            "Feature: 5, Score: 0.00000\n",
            "Feature: 6, Score: 0.00000\n",
            "Feature: 7, Score: 0.10245\n",
            "Feature: 8, Score: 0.11955\n",
            "Feature: 9, Score: 0.07142\n",
            "Feature: 10, Score: 0.14100\n"
          ],
          "name": "stdout"
        },
        {
          "output_type": "display_data",
          "data": {
            "image/png": "[encoded data removed]",
            "text/plain": [
              "<Figure size 432x288 with 1 Axes>"
            ]
          },
          "metadata": {
            "tags": [],
            "needs_background": "light"
          }
        }
      ]
    },
    {
      "cell_type": "markdown",
      "metadata": {
        "id": "ObSpX3JtB36j"
      },
      "source": [
        "**Conclusion**"
      ]
    },
    {
      "cell_type": "markdown",
      "metadata": {
        "id": "80bnziSfB3-B"
      },
      "source": [
        "Random Forest, Bagging classifiers, and XGBoost have extremely high accuracy of 99% but have low ROC_AOC of around 67%, 50%, and 57% respecfully. \n",
        "​\n",
        "\n",
        "As far as the target value goes, it can predict when the target value is not obtained but it can't predict when the target \n",
        "is attributed. This is the result of a very unbalance result where the target value is atributeds less than 1% of the time.\n",
        "There were zero atributed values in the confusion matrix, but to raise the target atribution, a weight balance strategy will have to be perform thus compromising false errors and accuracy.\n"
      ]
    }
  ]
}